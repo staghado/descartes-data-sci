{
 "cells": [
  {
   "cell_type": "markdown",
   "id": "85a88ab1",
   "metadata": {},
   "source": [
    "# Classification ignition point \n",
    "\n",
    "This project is a classification problem\n",
    "\n",
    "It is to determine whether a point has a probability to be an ignition point for wildfire. The ignition point is where the wildfire starts. To know the probability where a fire would start is central at Descartes because it will help us to better simulate wildfires.\n",
    "\n",
    "Don't hesitate to contact us, if you have any doubts on what is asked or if you encounter errors while using the notebook."
   ]
  },
  {
   "cell_type": "code",
   "execution_count": 1,
   "id": "d6059da4",
   "metadata": {},
   "outputs": [],
   "source": [
    "from pathlib import Path\n",
    "import pandas as pd"
   ]
  },
  {
   "cell_type": "code",
   "execution_count": 2,
   "id": "0bbf8da0",
   "metadata": {},
   "outputs": [],
   "source": [
    "%reload_ext autoreload\n",
    "%autoreload 2"
   ]
  },
  {
   "cell_type": "markdown",
   "id": "89945628",
   "metadata": {},
   "source": [
    "# Parameters"
   ]
  },
  {
   "cell_type": "code",
   "execution_count": 3,
   "id": "6552c490",
   "metadata": {},
   "outputs": [],
   "source": [
    "DATA_PATH = Path(\"data\")\n",
    "DATAFRAME_FOLDER_PATH = DATA_PATH / \"classification_dataframe\""
   ]
  },
  {
   "cell_type": "markdown",
   "id": "fc0d493a",
   "metadata": {},
   "source": [
    "# Download data"
   ]
  },
  {
   "cell_type": "code",
   "execution_count": 4,
   "id": "3298c725",
   "metadata": {},
   "outputs": [],
   "source": [
    "dataframe_path = DATAFRAME_FOLDER_PATH / \"dataset.csv\""
   ]
  },
  {
   "cell_type": "code",
   "execution_count": 5,
   "id": "016d769e",
   "metadata": {},
   "outputs": [
    {
     "data": {
      "text/html": [
       "<div>\n",
       "<style scoped>\n",
       "    .dataframe tbody tr th:only-of-type {\n",
       "        vertical-align: middle;\n",
       "    }\n",
       "\n",
       "    .dataframe tbody tr th {\n",
       "        vertical-align: top;\n",
       "    }\n",
       "\n",
       "    .dataframe thead th {\n",
       "        text-align: right;\n",
       "    }\n",
       "</style>\n",
       "<table border=\"1\" class=\"dataframe\">\n",
       "  <thead>\n",
       "    <tr style=\"text-align: right;\">\n",
       "      <th></th>\n",
       "      <th>Date</th>\n",
       "      <th>distance_fire_stations</th>\n",
       "      <th>distance_rivers</th>\n",
       "      <th>distance_roads</th>\n",
       "      <th>distance_powerlines</th>\n",
       "      <th>cropland</th>\n",
       "      <th>forest_deciduous_broad</th>\n",
       "      <th>forest_deciduous_needle</th>\n",
       "      <th>forest_evergreen_broad</th>\n",
       "      <th>forest_evergreen_needle</th>\n",
       "      <th>...</th>\n",
       "      <th>avg_wind_angle</th>\n",
       "      <th>avg_rel_hum</th>\n",
       "      <th>avg_soil</th>\n",
       "      <th>sum_prec</th>\n",
       "      <th>forest</th>\n",
       "      <th>vegetation_class</th>\n",
       "      <th>Year</th>\n",
       "      <th>max_max_temp</th>\n",
       "      <th>yearly_avg_temp</th>\n",
       "      <th>ignition</th>\n",
       "    </tr>\n",
       "  </thead>\n",
       "  <tbody>\n",
       "    <tr>\n",
       "      <th>0</th>\n",
       "      <td>2015-11-19</td>\n",
       "      <td>13287.682266</td>\n",
       "      <td>7211.102551</td>\n",
       "      <td>1250.000000</td>\n",
       "      <td>30196.233209</td>\n",
       "      <td>0.0</td>\n",
       "      <td>0.0</td>\n",
       "      <td>0.0</td>\n",
       "      <td>1.000000</td>\n",
       "      <td>0.0</td>\n",
       "      <td>...</td>\n",
       "      <td>225.773605</td>\n",
       "      <td>56.837185</td>\n",
       "      <td>0.297854</td>\n",
       "      <td>0.360376</td>\n",
       "      <td>1.000000</td>\n",
       "      <td>forest</td>\n",
       "      <td>2015</td>\n",
       "      <td>62.552337</td>\n",
       "      <td>14.994683</td>\n",
       "      <td>1</td>\n",
       "    </tr>\n",
       "    <tr>\n",
       "      <th>1</th>\n",
       "      <td>2003-02-17</td>\n",
       "      <td>8721.381771</td>\n",
       "      <td>2358.495283</td>\n",
       "      <td>250.000000</td>\n",
       "      <td>13768.169813</td>\n",
       "      <td>0.0</td>\n",
       "      <td>0.0</td>\n",
       "      <td>0.0</td>\n",
       "      <td>0.416667</td>\n",
       "      <td>0.0</td>\n",
       "      <td>...</td>\n",
       "      <td>209.708847</td>\n",
       "      <td>61.120739</td>\n",
       "      <td>0.264534</td>\n",
       "      <td>0.020176</td>\n",
       "      <td>0.833333</td>\n",
       "      <td>forest</td>\n",
       "      <td>2003</td>\n",
       "      <td>60.787457</td>\n",
       "      <td>15.053698</td>\n",
       "      <td>1</td>\n",
       "    </tr>\n",
       "    <tr>\n",
       "      <th>2</th>\n",
       "      <td>2012-02-26</td>\n",
       "      <td>10796.411441</td>\n",
       "      <td>0.000000</td>\n",
       "      <td>2015.564437</td>\n",
       "      <td>6254.998002</td>\n",
       "      <td>0.0</td>\n",
       "      <td>0.0</td>\n",
       "      <td>0.0</td>\n",
       "      <td>0.666667</td>\n",
       "      <td>0.0</td>\n",
       "      <td>...</td>\n",
       "      <td>76.341278</td>\n",
       "      <td>63.017559</td>\n",
       "      <td>0.208871</td>\n",
       "      <td>0.025395</td>\n",
       "      <td>1.000000</td>\n",
       "      <td>forest</td>\n",
       "      <td>2012</td>\n",
       "      <td>63.420256</td>\n",
       "      <td>15.001883</td>\n",
       "      <td>1</td>\n",
       "    </tr>\n",
       "    <tr>\n",
       "      <th>3</th>\n",
       "      <td>2004-11-10</td>\n",
       "      <td>8253.787010</td>\n",
       "      <td>559.016994</td>\n",
       "      <td>0.000000</td>\n",
       "      <td>37350.535471</td>\n",
       "      <td>0.0</td>\n",
       "      <td>0.0</td>\n",
       "      <td>0.0</td>\n",
       "      <td>0.000000</td>\n",
       "      <td>0.0</td>\n",
       "      <td>...</td>\n",
       "      <td>68.557823</td>\n",
       "      <td>64.673866</td>\n",
       "      <td>0.156506</td>\n",
       "      <td>0.000000</td>\n",
       "      <td>0.000000</td>\n",
       "      <td>wetland</td>\n",
       "      <td>2004</td>\n",
       "      <td>60.394119</td>\n",
       "      <td>14.850611</td>\n",
       "      <td>1</td>\n",
       "    </tr>\n",
       "    <tr>\n",
       "      <th>4</th>\n",
       "      <td>2003-03-19</td>\n",
       "      <td>9905.806378</td>\n",
       "      <td>0.000000</td>\n",
       "      <td>1903.943276</td>\n",
       "      <td>6427.480066</td>\n",
       "      <td>0.0</td>\n",
       "      <td>0.0</td>\n",
       "      <td>0.0</td>\n",
       "      <td>0.750000</td>\n",
       "      <td>0.0</td>\n",
       "      <td>...</td>\n",
       "      <td>316.951508</td>\n",
       "      <td>56.103680</td>\n",
       "      <td>0.208831</td>\n",
       "      <td>0.119717</td>\n",
       "      <td>0.916667</td>\n",
       "      <td>forest</td>\n",
       "      <td>2003</td>\n",
       "      <td>69.570496</td>\n",
       "      <td>NaN</td>\n",
       "      <td>1</td>\n",
       "    </tr>\n",
       "  </tbody>\n",
       "</table>\n",
       "<p>5 rows × 42 columns</p>\n",
       "</div>"
      ],
      "text/plain": [
       "         Date  distance_fire_stations  distance_rivers  distance_roads  \\\n",
       "0  2015-11-19            13287.682266      7211.102551     1250.000000   \n",
       "1  2003-02-17             8721.381771      2358.495283      250.000000   \n",
       "2  2012-02-26            10796.411441         0.000000     2015.564437   \n",
       "3  2004-11-10             8253.787010       559.016994        0.000000   \n",
       "4  2003-03-19             9905.806378         0.000000     1903.943276   \n",
       "\n",
       "   distance_powerlines  cropland  forest_deciduous_broad  \\\n",
       "0         30196.233209       0.0                     0.0   \n",
       "1         13768.169813       0.0                     0.0   \n",
       "2          6254.998002       0.0                     0.0   \n",
       "3         37350.535471       0.0                     0.0   \n",
       "4          6427.480066       0.0                     0.0   \n",
       "\n",
       "   forest_deciduous_needle  forest_evergreen_broad  forest_evergreen_needle  \\\n",
       "0                      0.0                1.000000                      0.0   \n",
       "1                      0.0                0.416667                      0.0   \n",
       "2                      0.0                0.666667                      0.0   \n",
       "3                      0.0                0.000000                      0.0   \n",
       "4                      0.0                0.750000                      0.0   \n",
       "\n",
       "   ...  avg_wind_angle  avg_rel_hum  avg_soil  sum_prec    forest  \\\n",
       "0  ...      225.773605    56.837185  0.297854  0.360376  1.000000   \n",
       "1  ...      209.708847    61.120739  0.264534  0.020176  0.833333   \n",
       "2  ...       76.341278    63.017559  0.208871  0.025395  1.000000   \n",
       "3  ...       68.557823    64.673866  0.156506  0.000000  0.000000   \n",
       "4  ...      316.951508    56.103680  0.208831  0.119717  0.916667   \n",
       "\n",
       "   vegetation_class  Year  max_max_temp  yearly_avg_temp  ignition  \n",
       "0            forest  2015     62.552337        14.994683         1  \n",
       "1            forest  2003     60.787457        15.053698         1  \n",
       "2            forest  2012     63.420256        15.001883         1  \n",
       "3           wetland  2004     60.394119        14.850611         1  \n",
       "4            forest  2003     69.570496              NaN         1  \n",
       "\n",
       "[5 rows x 42 columns]"
      ]
     },
     "execution_count": 5,
     "metadata": {},
     "output_type": "execute_result"
    }
   ],
   "source": [
    "df = pd.read_csv(dataframe_path, index_col=0)\n",
    "df.head()"
   ]
  },
  {
   "cell_type": "markdown",
   "id": "924476b3",
   "metadata": {},
   "source": [
    "# Structure of the dataframe and Task\n",
    "\n",
    "\n",
    "- Each row consists of an ignition or non-ignition point with the given features associated. The features were chosen as potentially influencing ignition.\n",
    "\n",
    "\n",
    "- The last column named `ignition` says if the point was a real ignition point (meaning that it occurred historically), in that case the value is `1`. Otherwise, when the value is `0`, it means that it is a 'non-ignition point'.\n",
    "\n",
    "\n",
    "- The columns `cropland` to `wetland` gives the ratio of each of the vegetation classes under which the ignition or non-ignition point lies. The sum of these ratios should be equal to 1. For more information refer to this website: https://lcviewer.vito.be/\n",
    "\n",
    "\n",
    "- The temperatures should be in degrees celsius `(°C)`.\n",
    "\n",
    "\n",
    "- The weather data come from different sources and they might have different units.\n",
    "\n",
    "| Column name | Definition | Unit |\n",
    "|--------|-----------|--------|\n",
    "| `ignition`   | Target column| Boolean: {1,0} |\n",
    "| `distance_{feature}` | Distance to nearest feature  |  Meters (m) |\n",
    "| vegetation class: from `cropland` to `wetland`  |  Ratio of each of the vegetation classes  under which the ignition or non-ignition point lies    |  No unit (between 0 and 1)  |\n",
    "| `aspect`  |  Orientation of the slope    |  Degrees (°)  |\n",
    "| `elevation`  |  elevation value    |  Meters  |\n",
    "| `slope`  |  Slope value    |  Degrees (°)  |\n",
    "| `pop_dens`  |  Population density value    |  Persons per km2  |\n",
    "| `max_temp`  |  Maximum temperature of the day    |  Degrees celsius (°C)  |\n",
    "| `avg_temp`  |  Average temperature of the day   |  Degrees celsius (°C)  |\n",
    "| `max_wind_vel`  |  Maximum wind velocity of the day    |  Meters per second (m/s)  |\n",
    "| `avg_wind_angle`  |  Average angle of the vector wind over the day    |  Degrees (°)  |\n",
    "| `avg_rel_hum`  |  Average relative humidity over the day    |  %  |\n",
    "| `avg_soil`  |  Average soil moisture of the day    |  m3/m3  |\n",
    "| `sum_prec`  |  Cumulative rainfall precipitation of the day    |  Millimeters (mm)  |\n",
    "| `yearly_avg_temp`  |  Average temperature over the year    |  Degrees celsius (°C)  |\n",
    "| `anom_{feature}`  |  Standardized anomaly of weather for the given day over the last 30 years. When the anomaly is positive, it means that the feature value is greater that the 30-year average    |  No unity |\n",
    "| `forest`  |  Sum of all the columns where the names start with `forest`   |  No unit  |\n",
    "| `vegetation_class`  |  Vegetation with the max occurrence in the vicinity of the ignition/non-ignition point    |  Without unit  |\n",
    "| `Year`  |  Year of ignition    |  Without unit  |\n",
    "| `max_max_temp`  |  Missing information    |  Missing information  |\n",
    "\n"
   ]
  },
  {
   "cell_type": "markdown",
   "id": "fb08f2a5",
   "metadata": {},
   "source": [
    "# Task\n",
    "\n",
    "\n",
    "🚨 **Your task is to design a classification algorithm to predict whether a point is an ignition point or not. The target column is `ignition`** 🚨\n",
    "\n",
    "You can import any package you want."
   ]
  },
  {
   "cell_type": "markdown",
   "id": "337f3ebb",
   "metadata": {},
   "source": [
    "# Import libraries"
   ]
  },
  {
   "cell_type": "code",
   "execution_count": 6,
   "id": "a5a815ef",
   "metadata": {},
   "outputs": [],
   "source": [
    "import matplotlib.pyplot as plt\n",
    "import seaborn as sns\n",
    "\n",
    "from sklearn.compose import make_column_transformer, make_column_selector\n",
    "from sklearn.ensemble import RandomForestClassifier\n",
    "from sklearn.linear_model import LogisticRegression\n",
    "from sklearn.metrics import classification_report, PrecisionRecallDisplay\n",
    "from sklearn.metrics import make_scorer, average_precision_score, precision_score, recall_score\n",
    "from sklearn.model_selection import GridSearchCV, train_test_split\n",
    "from sklearn.pipeline import make_pipeline\n",
    "from sklearn.preprocessing import MinMaxScaler, OneHotEncoder\n",
    "from sklearn.svm import SVC\n",
    "from sklearn.tree import DecisionTreeClassifier\n",
    "\n",
    "# install xgboost if needed\n",
    "try:\n",
    "    from xgboost import XGBClassifier\n",
    "except ImportError:\n",
    "    ! pip install xgboost\n",
    "    from xgboost import XGBClassifier"
   ]
  },
  {
   "cell_type": "markdown",
   "id": "24d143b6",
   "metadata": {},
   "source": [
    "# Data Preprocessing"
   ]
  },
  {
   "cell_type": "code",
   "execution_count": 7,
   "id": "1d388ff8",
   "metadata": {},
   "outputs": [
    {
     "name": "stdout",
     "output_type": "stream",
     "text": [
      "distance_fire_stations : \n",
      " count     22030.000000\n",
      "mean      23646.387792\n",
      "std       19248.657525\n",
      "min           0.000000\n",
      "25%        9568.829605\n",
      "50%       18494.931738\n",
      "75%       32310.988843\n",
      "max      110474.261708\n",
      "Name: distance_fire_stations, dtype: float64 \n",
      "\n",
      "distance_rivers : \n",
      " count    22030.000000\n",
      "mean      5966.777537\n",
      "std       7515.660146\n",
      "min          0.000000\n",
      "25%        707.106781\n",
      "50%       2610.076627\n",
      "75%       8384.323013\n",
      "max      43784.986011\n",
      "Name: distance_rivers, dtype: float64 \n",
      "\n",
      "distance_roads : \n",
      " count    22030.000000\n",
      "mean      5152.597702\n",
      "std       6924.754655\n",
      "min          0.000000\n",
      "25%        250.000000\n",
      "50%       1581.138830\n",
      "75%       7941.190087\n",
      "max      40094.419811\n",
      "Name: distance_roads, dtype: float64 \n",
      "\n",
      "distance_powerlines : \n",
      " count     22030.000000\n",
      "mean      30127.951951\n",
      "std       30099.446768\n",
      "min           0.000000\n",
      "25%        8265.137627\n",
      "50%       20846.161854\n",
      "75%       41340.053217\n",
      "max      159274.919557\n",
      "Name: distance_powerlines, dtype: float64 \n",
      "\n",
      "cropland : \n",
      " count    22030.000000\n",
      "mean         0.006415\n",
      "std          0.057848\n",
      "min          0.000000\n",
      "25%          0.000000\n",
      "50%          0.000000\n",
      "75%          0.000000\n",
      "max          1.000000\n",
      "Name: cropland, dtype: float64 \n",
      "\n",
      "forest_deciduous_broad : \n",
      " count    22030.000000\n",
      "mean         0.013557\n",
      "std          0.088239\n",
      "min          0.000000\n",
      "25%          0.000000\n",
      "50%          0.000000\n",
      "75%          0.000000\n",
      "max          1.000000\n",
      "Name: forest_deciduous_broad, dtype: float64 \n",
      "\n",
      "forest_deciduous_needle : \n",
      " count    22030.0\n",
      "mean         0.0\n",
      "std          0.0\n",
      "min          0.0\n",
      "25%          0.0\n",
      "50%          0.0\n",
      "75%          0.0\n",
      "max          0.0\n",
      "Name: forest_deciduous_needle, dtype: float64 \n",
      "\n",
      "forest_evergreen_broad : \n",
      " count    22030.000000\n",
      "mean         0.326108\n",
      "std          0.433120\n",
      "min          0.000000\n",
      "25%          0.000000\n",
      "50%          0.000000\n",
      "75%          0.916667\n",
      "max          1.000000\n",
      "Name: forest_evergreen_broad, dtype: float64 \n",
      "\n",
      "forest_evergreen_needle : \n",
      " count     22030.000000\n",
      "mean      -4584.657286\n",
      "std       20915.699938\n",
      "min     -100000.000000\n",
      "25%           0.000000\n",
      "50%           0.000000\n",
      "75%           0.000000\n",
      "max           0.000000\n",
      "Name: forest_evergreen_needle, dtype: float64 \n",
      "\n",
      "forest_mixed : \n",
      " count    22030.0\n",
      "mean         0.0\n",
      "std          0.0\n",
      "min          0.0\n",
      "25%          0.0\n",
      "50%          0.0\n",
      "75%          0.0\n",
      "max          0.0\n",
      "Name: forest_mixed, dtype: float64 \n",
      "\n",
      "forest_unknown : \n",
      " count    22030.000000\n",
      "mean         0.086666\n",
      "std          0.190443\n",
      "min          0.000000\n",
      "25%          0.000000\n",
      "50%          0.000000\n",
      "75%          0.083333\n",
      "max          1.000000\n",
      "Name: forest_unknown, dtype: float64 \n",
      "\n",
      "herbaceous_vegetation : \n",
      " count    22030.000000\n",
      "mean         0.175242\n",
      "std          0.326063\n",
      "min          0.000000\n",
      "25%          0.000000\n",
      "50%          0.000000\n",
      "75%          0.166667\n",
      "max          1.000000\n",
      "Name: herbaceous_vegetation, dtype: float64 \n",
      "\n",
      "moss_lichen : \n",
      " count    22030.0\n",
      "mean         0.0\n",
      "std          0.0\n",
      "min          0.0\n",
      "25%          0.0\n",
      "50%          0.0\n",
      "75%          0.0\n",
      "max          0.0\n",
      "Name: moss_lichen, dtype: float64 \n",
      "\n",
      "shrubland : \n",
      " count    22030.000000\n",
      "mean         0.006487\n",
      "std          0.044620\n",
      "min          0.000000\n",
      "25%          0.000000\n",
      "50%          0.000000\n",
      "75%          0.000000\n",
      "max          0.833333\n",
      "Name: shrubland, dtype: float64 \n",
      "\n",
      "sprarse_vegetation : \n",
      " count    22030.000000\n",
      "mean         0.000113\n",
      "std          0.007233\n",
      "min          0.000000\n",
      "25%          0.000000\n",
      "50%          0.000000\n",
      "75%          0.000000\n",
      "max          0.833333\n",
      "Name: sprarse_vegetation, dtype: float64 \n",
      "\n",
      "urban : \n",
      " count    22030.000000\n",
      "mean         0.004558\n",
      "std          0.050796\n",
      "min          0.000000\n",
      "25%          0.000000\n",
      "50%          0.000000\n",
      "75%          0.000000\n",
      "max          1.000000\n",
      "Name: urban, dtype: float64 \n",
      "\n",
      "water : \n",
      " count    22030.000000\n",
      "mean         0.366614\n",
      "std          0.475032\n",
      "min          0.000000\n",
      "25%          0.000000\n",
      "50%          0.000000\n",
      "75%          1.000000\n",
      "max          1.000000\n",
      "Name: water, dtype: float64 \n",
      "\n",
      "wetland : \n",
      " count    22030.000000\n",
      "mean         0.014238\n",
      "std          0.087077\n",
      "min          0.000000\n",
      "25%          0.000000\n",
      "50%          0.000000\n",
      "75%          0.000000\n",
      "max          1.000000\n",
      "Name: wetland, dtype: float64 \n",
      "\n",
      "aspect : \n",
      " count    22035.000000\n",
      "mean       177.444760\n",
      "std         85.610114\n",
      "min          0.000000\n",
      "25%        132.751710\n",
      "50%        180.000000\n",
      "75%        216.083446\n",
      "max        359.951071\n",
      "Name: aspect, dtype: float64 \n",
      "\n",
      "elevation : \n",
      " count    22035.000000\n",
      "mean       189.545768\n",
      "std        319.669314\n",
      "min       -100.000000\n",
      "25%       -100.000000\n",
      "50%         97.000000\n",
      "75%        356.000000\n",
      "max       1490.000000\n",
      "Name: elevation, dtype: float64 \n",
      "\n",
      "pop_dens : \n",
      " count    22035.000000\n",
      "mean        12.623212\n",
      "std        106.875597\n",
      "min          0.000000\n",
      "25%          0.000000\n",
      "50%          0.018564\n",
      "75%          0.684358\n",
      "max       2219.102051\n",
      "Name: pop_dens, dtype: float64 \n",
      "\n",
      "slope : \n",
      " count    22035.000000\n",
      "mean         5.465820\n",
      "std          7.590783\n",
      "min          0.000000\n",
      "25%          0.000000\n",
      "50%          2.465760\n",
      "75%          8.087883\n",
      "max         64.479202\n",
      "Name: slope, dtype: float64 \n",
      "\n",
      "anom_max_temp : \n",
      " count    22035.000000\n",
      "mean         2.044202\n",
      "std          3.026061\n",
      "min         -7.159943\n",
      "25%         -0.098090\n",
      "50%          1.768574\n",
      "75%          3.918903\n",
      "max         16.340687\n",
      "Name: anom_max_temp, dtype: float64 \n",
      "\n",
      "anom_max_wind_vel : \n",
      " count    22035.000000\n",
      "mean         2.202667\n",
      "std          3.320765\n",
      "min         -7.363498\n",
      "25%         -0.172485\n",
      "50%          1.964479\n",
      "75%          4.269049\n",
      "max         22.360945\n",
      "Name: anom_max_wind_vel, dtype: float64 \n",
      "\n",
      "anom_avg_temp : \n",
      " count    22035.000000\n",
      "mean         1.941795\n",
      "std          2.559182\n",
      "min         -9.482144\n",
      "25%          0.202694\n",
      "50%          1.928117\n",
      "75%          3.628255\n",
      "max         13.051181\n",
      "Name: anom_avg_temp, dtype: float64 \n",
      "\n",
      "anom_avg_rel_hum : \n",
      " count    22035.000000\n",
      "mean         2.231864\n",
      "std          2.796936\n",
      "min         -9.155835\n",
      "25%          0.293640\n",
      "50%          2.066875\n",
      "75%          4.100976\n",
      "max         15.005052\n",
      "Name: anom_avg_rel_hum, dtype: float64 \n",
      "\n",
      "anom_avg_soil : \n",
      " count    22035.000000\n",
      "mean         0.458071\n",
      "std          1.651015\n",
      "min         -6.903322\n",
      "25%         -0.727537\n",
      "50%          0.439721\n",
      "75%          1.647857\n",
      "max          8.484861\n",
      "Name: anom_avg_soil, dtype: float64 \n",
      "\n",
      "anom_sum_prec : \n",
      " count    22035.000000\n",
      "mean         0.040211\n",
      "std          1.042084\n",
      "min         -3.103708\n",
      "25%         -0.710898\n",
      "50%         -0.090009\n",
      "75%          0.691713\n",
      "max          4.699601\n",
      "Name: anom_sum_prec, dtype: float64 \n",
      "\n",
      "max_temp : \n",
      " count    22035.000000\n",
      "mean        15.128294\n",
      "std          4.435240\n",
      "min          1.171763\n",
      "25%         11.911636\n",
      "50%         14.785950\n",
      "75%         18.254815\n",
      "max         32.431244\n",
      "Name: max_temp, dtype: float64 \n",
      "\n",
      "max_wind_vel : \n",
      " count    22035.000000\n",
      "mean         5.728723\n",
      "std          2.483441\n",
      "min          0.978202\n",
      "25%          3.858555\n",
      "50%          5.250791\n",
      "75%          7.180290\n",
      "max         19.703424\n",
      "Name: max_wind_vel, dtype: float64 \n",
      "\n",
      "avg_temp : \n",
      " count    22035.000000\n",
      "mean       158.859675\n",
      "std        135.801507\n",
      "min         -4.109107\n",
      "25%          7.687609\n",
      "50%        276.348625\n",
      "75%        280.721741\n",
      "max        292.551632\n",
      "Name: avg_temp, dtype: float64 \n",
      "\n",
      "avg_wind_angle : \n",
      " count    22035.000000\n",
      "mean       197.707583\n",
      "std         83.336828\n",
      "min          0.792745\n",
      "25%        133.581253\n",
      "50%        203.072937\n",
      "75%        257.033798\n",
      "max        358.530182\n",
      "Name: avg_wind_angle, dtype: float64 \n",
      "\n",
      "avg_rel_hum : \n",
      " count    22035.000000\n",
      "mean        76.109929\n",
      "std          8.027890\n",
      "min         40.705662\n",
      "25%         70.623573\n",
      "50%         76.005028\n",
      "75%         81.626057\n",
      "max         98.558968\n",
      "Name: avg_rel_hum, dtype: float64 \n",
      "\n",
      "avg_soil : \n",
      " count    22035.000000\n",
      "mean         0.285717\n",
      "std          0.078390\n",
      "min          0.050758\n",
      "25%          0.233063\n",
      "50%          0.287844\n",
      "75%          0.346534\n",
      "max          0.501387\n",
      "Name: avg_soil, dtype: float64 \n",
      "\n",
      "sum_prec : \n",
      " count    22035.000000\n",
      "mean         1.662872\n",
      "std          3.230198\n",
      "min         -0.000007\n",
      "25%          0.000000\n",
      "50%          0.154361\n",
      "75%          1.854040\n",
      "max         40.440075\n",
      "Name: sum_prec, dtype: float64 \n",
      "\n",
      "forest : \n",
      " count    22035.000000\n",
      "mean         0.426235\n",
      "std          0.455856\n",
      "min          0.000000\n",
      "25%          0.000000\n",
      "50%          0.166667\n",
      "75%          1.000000\n",
      "max          1.000000\n",
      "Name: forest, dtype: float64 \n",
      "\n",
      "Year : \n",
      " count    22035.000000\n",
      "mean      2011.278784\n",
      "std          5.693506\n",
      "min       2001.000000\n",
      "25%       2006.000000\n",
      "50%       2012.000000\n",
      "75%       2016.000000\n",
      "max       2021.000000\n",
      "Name: Year, dtype: float64 \n",
      "\n",
      "max_max_temp : \n",
      " count    22035.000000\n",
      "mean        59.230929\n",
      "std          7.983432\n",
      "min         34.109174\n",
      "25%         53.440945\n",
      "50%         58.614709\n",
      "75%         64.858667\n",
      "max         90.376239\n",
      "Name: max_max_temp, dtype: float64 \n",
      "\n",
      "yearly_avg_temp : \n",
      " count    15204.000000\n",
      "mean        14.999755\n",
      "std          0.100675\n",
      "min         14.597322\n",
      "25%         14.931427\n",
      "50%         14.999861\n",
      "75%         15.068628\n",
      "max         15.369208\n",
      "Name: yearly_avg_temp, dtype: float64 \n",
      "\n",
      "ignition : \n",
      " count    22035.000000\n",
      "mean         0.150669\n",
      "std          0.357734\n",
      "min          0.000000\n",
      "25%          0.000000\n",
      "50%          0.000000\n",
      "75%          0.000000\n",
      "max          1.000000\n",
      "Name: ignition, dtype: float64 \n",
      "\n"
     ]
    }
   ],
   "source": [
    "# print detailed statistics for each column\n",
    "df_statistics = df.describe()\n",
    "for c in df_statistics.columns:\n",
    "    print(f\"{c} : \\n {df_statistics[c]} \\n\")"
   ]
  },
  {
   "cell_type": "code",
   "execution_count": 8,
   "id": "6dd86be0",
   "metadata": {},
   "outputs": [
    {
     "name": "stdout",
     "output_type": "stream",
     "text": [
      "Unique values in forest_deciduous_needle : [0.0, nan]\n",
      "NA values in forest_deciduous_needle : 5\n",
      "NA values in forest_deciduous_broad : 5\n",
      "Overlap of NA values between forest_deciduous_broad & forest_deciduous_needle : 5\n"
     ]
    }
   ],
   "source": [
    "print(f\"Unique values in forest_deciduous_needle : {df.forest_deciduous_needle.unique().tolist()}\")\n",
    "print(f\"NA values in forest_deciduous_needle : {df.forest_deciduous_needle.isna().sum()}\")\n",
    "print(f\"NA values in forest_deciduous_broad : {df.forest_deciduous_broad.isna().sum()}\")\n",
    "\n",
    "print(f\"Overlap of NA values between forest_deciduous_broad & forest_deciduous_needle : {(df.forest_deciduous_broad.isna() & df.forest_deciduous_needle.isna()).sum()}\")"
   ]
  },
  {
   "cell_type": "code",
   "execution_count": 9,
   "id": "7a87abb0",
   "metadata": {},
   "outputs": [
    {
     "name": "stdout",
     "output_type": "stream",
     "text": [
      "Unique values in forest_evergreen_needle : [0.0, -100000.0, nan]\n",
      "NA values in forest_evergreen_needle : 5\n",
      "NA values in forest_evergreen_broad : 5\n",
      "Overlap of NA values between forest_evergreen_broad & forest_evergreen_needle : 5\n"
     ]
    }
   ],
   "source": [
    "print(f\"Unique values in forest_evergreen_needle : {df.forest_evergreen_needle.unique().tolist()}\")\n",
    "print(f\"NA values in forest_evergreen_needle : {df.forest_evergreen_needle.isna().sum()}\")\n",
    "print(f\"NA values in forest_evergreen_broad : {df.forest_evergreen_broad.isna().sum()}\")\n",
    "\n",
    "print(f\"Overlap of NA values between forest_evergreen_broad & forest_evergreen_needle : {(df.forest_evergreen_broad.isna() & df.forest_evergreen_needle.isna()).sum()}\")"
   ]
  },
  {
   "cell_type": "code",
   "execution_count": 10,
   "id": "10b97d44",
   "metadata": {},
   "outputs": [
    {
     "name": "stdout",
     "output_type": "stream",
     "text": [
      "Number of rows where 'forest' column matches exactly: 21261 out of 22035\n"
     ]
    }
   ],
   "source": [
    "forest_columns = ['forest_deciduous_broad', 'forest_evergreen_broad', 'forest_unknown']\n",
    "print(f\"Number of rows where 'forest' column matches exactly: {(df[forest_columns].sum(axis=1) == df['forest']).sum()} out of {len(df)}\")"
   ]
  },
  {
   "cell_type": "markdown",
   "id": "2447bdad",
   "metadata": {},
   "source": [
    "We can see that not all rows match exactly so maybe it is due to numerical precision. Let's compare the values within an interval of 1\\%."
   ]
  },
  {
   "cell_type": "code",
   "execution_count": 11,
   "id": "d04dfb94",
   "metadata": {},
   "outputs": [
    {
     "name": "stdout",
     "output_type": "stream",
     "text": [
      "Number of rows where 'forest' column matches within the 1 %: 22035 out of 22035\n"
     ]
    }
   ],
   "source": [
    "tolerance = 0.01\n",
    "\n",
    "# sum of forest columns\n",
    "forest_sum = df[forest_columns].sum(axis=1)\n",
    "\n",
    "# define interval within tolerance range\n",
    "lower_bound = forest_sum * (1 - tolerance)\n",
    "upper_bound = forest_sum * (1 + tolerance)\n",
    "\n",
    "# check whether the forest column is between the upper and lower limits\n",
    "within_range = df['forest'].between(lower_bound, upper_bound)\n",
    "print(f\"Number of rows where 'forest' column matches within the {tolerance * 100:.0f} %: {within_range.sum()} out of {len(df)}\")"
   ]
  },
  {
   "cell_type": "code",
   "execution_count": 12,
   "id": "903cc20d",
   "metadata": {},
   "outputs": [
    {
     "name": "stdout",
     "output_type": "stream",
     "text": [
      "Years in df : [2001, 2002, 2003, 2004, 2005, 2006, 2007, 2008, 2009, 2010, 2011, 2012, 2013, 2014, 2015, 2016, 2017, 2018, 2019, 2020, 2021]\n"
     ]
    }
   ],
   "source": [
    "print(f\"Years in df : {sorted(df.Year.unique().tolist())}\")"
   ]
  },
  {
   "cell_type": "markdown",
   "id": "e09da5ed",
   "metadata": {},
   "source": [
    "### Conclusions\n",
    "\n",
    "From the description of continuous features, we observe the following things:\n",
    "\n",
    "- Overall the `distance_{feature}` exhibit high variance but they seem okay.\n",
    "\n",
    "- The `forest_deciduous_needle` column contains mostly 0s and NAs. Analysis shows that the NAs appear exactly at the same locations in `forest_deciduous_needle` and `forest_deciduous_broad` which means that these two columns have the same cause of missing values. We keep only `forest_deciduous_broad` for the rest of the notebook.\n",
    "\n",
    "- We have exactly the same pattern of 0s, -100000 and NAs in `forest_evergreen_needle` so we remove it too and keep only `forest_evergreen_broad`.\n",
    "\n",
    "- The same applies for `forest_mixed` and `moss_lichen` where we have only 0s and NAs. We remove these two columns.\n",
    "\n",
    "- The `aspect` column looks good and the values lie in the range [0, 360] degrees which is consistent.\n",
    "\n",
    "- The `elevation` column is suprising beacuse it shows that the minimum elevation point is at -100. If the elevation is measured in reference to sea level then this is likely an error but since we do not have further information we can keep it as is.\n",
    "\n",
    "- The `pop_dens` column looks fine but the maximum value is at 2200 people/km² which is too high for an area covered in forests.\n",
    "\n",
    "- `max_temp` has a smaller range than that of `avg_temp` which might mean that they are expressed in different units. Since `avg_temp` has an average of 158 it can not be in Degrees celsius (°C) or Fahrenheit. It could be in Kelvin.\n",
    "\n",
    "- The `avg_wind_angle` column looks good and the values lie in the range [0, 360] degrees which is consistent.\n",
    "\n",
    "- The minimum `sum_prec` is negative which indicates a measurement error and since the value is so small (-0.000007) we can set it to 0.\n",
    "\n",
    "- The `forest` is indeed the sum (within a threshold) of all columns that start with `forest` given that we exclude : `forest_deciduous_needle`, `forest_evergreen_needle` and `forest_mixed`.\n",
    "\n",
    "- The `Year` column spans the period from 2001 to 2021 with no missing years.\n",
    "\n",
    "- All other columns look fine in terms of descriptive statistics. We will look more into each feature in the EDA section."
   ]
  },
  {
   "cell_type": "code",
   "execution_count": 13,
   "id": "6832a57d",
   "metadata": {},
   "outputs": [],
   "source": [
    "# set small negative value in sum_prec to 0.\n",
    "df.sum_prec = df.sum_prec.apply(lambda x: 0 if x < 0 else x)"
   ]
  },
  {
   "cell_type": "code",
   "execution_count": 14,
   "id": "9f2d9968",
   "metadata": {},
   "outputs": [
    {
     "name": "stdout",
     "output_type": "stream",
     "text": [
      "<class 'pandas.core.frame.DataFrame'>\n",
      "Int64Index: 22035 entries, 0 to 22034\n",
      "Data columns (total 42 columns):\n",
      " #   Column                   Non-Null Count  Dtype  \n",
      "---  ------                   --------------  -----  \n",
      " 0   Date                     22035 non-null  object \n",
      " 1   distance_fire_stations   22030 non-null  float64\n",
      " 2   distance_rivers          22030 non-null  float64\n",
      " 3   distance_roads           22030 non-null  float64\n",
      " 4   distance_powerlines      22030 non-null  float64\n",
      " 5   cropland                 22030 non-null  float64\n",
      " 6   forest_deciduous_broad   22030 non-null  float64\n",
      " 7   forest_deciduous_needle  22030 non-null  float64\n",
      " 8   forest_evergreen_broad   22030 non-null  float64\n",
      " 9   forest_evergreen_needle  22030 non-null  float64\n",
      " 10  forest_mixed             22030 non-null  float64\n",
      " 11  forest_unknown           22030 non-null  float64\n",
      " 12  herbaceous_vegetation    22030 non-null  float64\n",
      " 13  moss_lichen              22030 non-null  float64\n",
      " 14  shrubland                22030 non-null  float64\n",
      " 15  sprarse_vegetation       22030 non-null  float64\n",
      " 16  urban                    22030 non-null  float64\n",
      " 17  water                    22030 non-null  float64\n",
      " 18  wetland                  22030 non-null  float64\n",
      " 19  aspect                   22035 non-null  float64\n",
      " 20  elevation                22035 non-null  float64\n",
      " 21  pop_dens                 22035 non-null  float64\n",
      " 22  slope                    22035 non-null  float64\n",
      " 23  anom_max_temp            22035 non-null  float64\n",
      " 24  anom_max_wind_vel        22035 non-null  float64\n",
      " 25  anom_avg_temp            22035 non-null  float64\n",
      " 26  anom_avg_rel_hum         22035 non-null  float64\n",
      " 27  anom_avg_soil            22035 non-null  float64\n",
      " 28  anom_sum_prec            22035 non-null  float64\n",
      " 29  max_temp                 22035 non-null  float64\n",
      " 30  max_wind_vel             22035 non-null  float64\n",
      " 31  avg_temp                 22035 non-null  float64\n",
      " 32  avg_wind_angle           22035 non-null  float64\n",
      " 33  avg_rel_hum              22035 non-null  float64\n",
      " 34  avg_soil                 22035 non-null  float64\n",
      " 35  sum_prec                 22035 non-null  float64\n",
      " 36  forest                   22035 non-null  float64\n",
      " 37  vegetation_class         22003 non-null  object \n",
      " 38  Year                     22035 non-null  int64  \n",
      " 39  max_max_temp             22035 non-null  float64\n",
      " 40  yearly_avg_temp          15204 non-null  float64\n",
      " 41  ignition                 22035 non-null  int64  \n",
      "dtypes: float64(38), int64(2), object(2)\n",
      "memory usage: 7.2+ MB\n"
     ]
    }
   ],
   "source": [
    "df.info()"
   ]
  },
  {
   "cell_type": "code",
   "execution_count": 15,
   "id": "172054cc",
   "metadata": {},
   "outputs": [
    {
     "name": "stdout",
     "output_type": "stream",
     "text": [
      "Missing values in each column: \n",
      " yearly_avg_temp            6831\n",
      "vegetation_class             32\n",
      "forest_mixed                  5\n",
      "distance_fire_stations        5\n",
      "wetland                       5\n",
      "water                         5\n",
      "urban                         5\n",
      "shrubland                     5\n",
      "moss_lichen                   5\n",
      "forest_unknown                5\n",
      "sprarse_vegetation            5\n",
      "forest_evergreen_needle       5\n",
      "forest_evergreen_broad        5\n",
      "forest_deciduous_needle       5\n",
      "forest_deciduous_broad        5\n",
      "cropland                      5\n",
      "distance_powerlines           5\n",
      "distance_roads                5\n",
      "distance_rivers               5\n",
      "herbaceous_vegetation         5\n",
      "sum_prec                      0\n",
      "avg_wind_angle                0\n",
      "avg_rel_hum                   0\n",
      "avg_soil                      0\n",
      "Date                          0\n",
      "forest                        0\n",
      "Year                          0\n",
      "max_max_temp                  0\n",
      "max_wind_vel                  0\n",
      "avg_temp                      0\n",
      "pop_dens                      0\n",
      "max_temp                      0\n",
      "anom_sum_prec                 0\n",
      "anom_avg_soil                 0\n",
      "anom_avg_rel_hum              0\n",
      "anom_avg_temp                 0\n",
      "anom_max_wind_vel             0\n",
      "anom_max_temp                 0\n",
      "slope                         0\n",
      "elevation                     0\n",
      "aspect                        0\n",
      "ignition                      0\n",
      "dtype: int64\n"
     ]
    }
   ],
   "source": [
    "# percentage of missing values in each column\n",
    "print(f\"Missing values in each column: \\n {df.isnull().sum().sort_values(ascending=False)}\")"
   ]
  },
  {
   "cell_type": "markdown",
   "id": "8a6d0435",
   "metadata": {},
   "source": [
    "The column `yearly_avg_temp` contains 31\\% of NaNs : we can either try to impute the missing values at the risk of introducing noise or we can simply drop this column. First we will drop it to not introduce unnecessary noise in the data. Then at the end we will add it to see whether it improves the models.\n",
    "\n",
    "The other columns have only 5 missing values so no need to try and impute them and we can safely drop these rows."
   ]
  },
  {
   "cell_type": "code",
   "execution_count": 16,
   "id": "16d582da",
   "metadata": {},
   "outputs": [],
   "source": [
    "# fill NA value in yearly_avg_temp using the last known value since it is a time series this makes sense.\n",
    "impute_yearly_avg_temp = False\n",
    "if impute_yearly_avg_temp:\n",
    "    df['yearly_avg_temp'] = df['yearly_avg_temp'].fillna(method='ffill').fillna(method='bfill')\n",
    "else:\n",
    "    df.drop(columns=['yearly_avg_temp'], axis=1, inplace=True)"
   ]
  },
  {
   "cell_type": "code",
   "execution_count": 17,
   "id": "41f4d8c7",
   "metadata": {},
   "outputs": [],
   "source": [
    "# drop columns according to all previous analysis\n",
    "columns_to_drop = ['forest_deciduous_needle', 'forest_evergreen_needle', 'forest_mixed', 'moss_lichen']\n",
    "\n",
    "df.drop(columns=columns_to_drop, axis=1, inplace=True)"
   ]
  },
  {
   "cell_type": "markdown",
   "id": "fcc382cb",
   "metadata": {},
   "source": [
    "Let's look at categorical variables : vegetation_class and Date;"
   ]
  },
  {
   "cell_type": "markdown",
   "id": "35deff4e",
   "metadata": {},
   "source": [
    "### vegetation_class"
   ]
  },
  {
   "cell_type": "markdown",
   "id": "2ca66c3b",
   "metadata": {},
   "source": [
    "The vegetation class contains 32 missing values which we will impute using the fact that the vegetation class is determined as the vegetation which has the largest ratio among the columns from `cropland` to `wetland`."
   ]
  },
  {
   "cell_type": "code",
   "execution_count": 18,
   "id": "4be704d3",
   "metadata": {},
   "outputs": [],
   "source": [
    "# vegetation column : cropland to wetland in df while excluding erronuous columns\n",
    "vegetation_columns = ['cropland', 'forest_deciduous_broad', 'forest_evergreen_broad', 'forest_unknown',\n",
    "                     'herbaceous_vegetation', 'shrubland', 'sprarse_vegetation', 'urban', 'water', 'wetland']\n",
    "\n",
    "# define a mapping between column names and vegetation classes\n",
    "mapping = {\n",
    "    'cropland': 'cropland'\n",
    "}\n",
    "\n",
    "# impute the missing vegetation class with the vegetation column with the biggest ratio\n",
    "df.loc[df['vegetation_class'].isna(), 'vegetation_class'] = df[vegetation_columns].idxmax(axis=1).map(mapping)[df['vegetation_class'].isna()]"
   ]
  },
  {
   "cell_type": "code",
   "execution_count": 19,
   "id": "669c1929",
   "metadata": {},
   "outputs": [
    {
     "data": {
      "text/plain": [
       "forest                     9124\n",
       "water                      8108\n",
       "herbaceous_vegetation      3850\n",
       "Forestt                     549\n",
       "wetland                     224\n",
       "urban                        81\n",
       "shrubland                    66\n",
       "cropland                     27\n",
       "$herb$aceous_vegetation       1\n",
       "Name: vegetation_class, dtype: int64"
      ]
     },
     "execution_count": 19,
     "metadata": {},
     "output_type": "execute_result"
    }
   ],
   "source": [
    "df.vegetation_class.value_counts()"
   ]
  },
  {
   "cell_type": "markdown",
   "id": "f4015016",
   "metadata": {},
   "source": [
    "The imputation added a new vegetation class `cropland` with a very small frequency in the dataset. One could also completely drop the corresponding rows since they are only 32 of them."
   ]
  },
  {
   "cell_type": "markdown",
   "id": "94f68398",
   "metadata": {},
   "source": [
    "There is a mispelling of the word `forest` and an additional dollar sign $ in `herbaceous_vegetation`. These two things should represent the same thing."
   ]
  },
  {
   "cell_type": "code",
   "execution_count": 20,
   "id": "373e2eac",
   "metadata": {},
   "outputs": [
    {
     "data": {
      "text/plain": [
       "forest                   9673\n",
       "water                    8108\n",
       "herbaceous_vegetation    3851\n",
       "wetland                   224\n",
       "urban                      81\n",
       "shrubland                  66\n",
       "cropland                   27\n",
       "Name: vegetation_class, dtype: int64"
      ]
     },
     "execution_count": 20,
     "metadata": {},
     "output_type": "execute_result"
    }
   ],
   "source": [
    "# correct typos\n",
    "df.vegetation_class = df.vegetation_class.replace('Forestt', 'forest')\n",
    "df.vegetation_class = df.vegetation_class.replace('$herb$aceous_vegetation', 'herbaceous_vegetation')\n",
    "df.vegetation_class.value_counts()"
   ]
  },
  {
   "cell_type": "code",
   "execution_count": 21,
   "id": "e2c036c5",
   "metadata": {},
   "outputs": [],
   "source": [
    "# drop rows with NaNs (only 5 values per column)\n",
    "df.dropna(inplace=True)"
   ]
  },
  {
   "cell_type": "markdown",
   "id": "2c408bbf",
   "metadata": {},
   "source": [
    "Now let's verify the statement given in the description : \"The columns `cropland` to `wetland` gives the ratio of each of the vegetation classes under which the ignition or non-ignition point lies. The sum of these ratios should be equal to 1.\""
   ]
  },
  {
   "cell_type": "code",
   "execution_count": 22,
   "id": "5063f4d6",
   "metadata": {},
   "outputs": [
    {
     "name": "stdout",
     "output_type": "stream",
     "text": [
      "Rows with sum of ratios approximately equal to 1: 22030 out of 22030\n"
     ]
    }
   ],
   "source": [
    "# check if the sum of ratios equals 1, for some reason there is a small difference for some values( smaller than 0.000001)\n",
    "correct_sum = df[vegetation_columns].sum(axis=1).apply(lambda x: 0.999999 <= x <= 1.0)\n",
    "\n",
    "print(f\"Rows with sum of ratios approximately equal to 1: {correct_sum.sum()} out of {len(df)}\")"
   ]
  },
  {
   "cell_type": "markdown",
   "id": "b670e7e1",
   "metadata": {},
   "source": [
    "### Date"
   ]
  },
  {
   "cell_type": "markdown",
   "id": "22a107d0",
   "metadata": {},
   "source": [
    "The month of the year can be used to enhance the previous features as the wildfires could have a seasonal pattern. If we want to do that we can extract the month from the `Date` column. That would introduce 12 additional variabilities and could make the models overfit but it's worth a try."
   ]
  },
  {
   "cell_type": "code",
   "execution_count": 23,
   "id": "0930d2de",
   "metadata": {},
   "outputs": [],
   "source": [
    "# If we want to add the month of the year as a feature\n",
    "# df['month'] = pd.to_datetime(df.Date).dt.month.astype(str)\n",
    "# df.month\n",
    "\n",
    "# drop the Date column as we already have the Year column\n",
    "df.drop(columns=['Date'], axis=1, inplace=True)"
   ]
  },
  {
   "cell_type": "code",
   "execution_count": 24,
   "id": "7ed87cca",
   "metadata": {},
   "outputs": [
    {
     "name": "stdout",
     "output_type": "stream",
     "text": [
      "<class 'pandas.core.frame.DataFrame'>\n",
      "Int64Index: 22030 entries, 0 to 22034\n",
      "Data columns (total 36 columns):\n",
      " #   Column                  Non-Null Count  Dtype  \n",
      "---  ------                  --------------  -----  \n",
      " 0   distance_fire_stations  22030 non-null  float64\n",
      " 1   distance_rivers         22030 non-null  float64\n",
      " 2   distance_roads          22030 non-null  float64\n",
      " 3   distance_powerlines     22030 non-null  float64\n",
      " 4   cropland                22030 non-null  float64\n",
      " 5   forest_deciduous_broad  22030 non-null  float64\n",
      " 6   forest_evergreen_broad  22030 non-null  float64\n",
      " 7   forest_unknown          22030 non-null  float64\n",
      " 8   herbaceous_vegetation   22030 non-null  float64\n",
      " 9   shrubland               22030 non-null  float64\n",
      " 10  sprarse_vegetation      22030 non-null  float64\n",
      " 11  urban                   22030 non-null  float64\n",
      " 12  water                   22030 non-null  float64\n",
      " 13  wetland                 22030 non-null  float64\n",
      " 14  aspect                  22030 non-null  float64\n",
      " 15  elevation               22030 non-null  float64\n",
      " 16  pop_dens                22030 non-null  float64\n",
      " 17  slope                   22030 non-null  float64\n",
      " 18  anom_max_temp           22030 non-null  float64\n",
      " 19  anom_max_wind_vel       22030 non-null  float64\n",
      " 20  anom_avg_temp           22030 non-null  float64\n",
      " 21  anom_avg_rel_hum        22030 non-null  float64\n",
      " 22  anom_avg_soil           22030 non-null  float64\n",
      " 23  anom_sum_prec           22030 non-null  float64\n",
      " 24  max_temp                22030 non-null  float64\n",
      " 25  max_wind_vel            22030 non-null  float64\n",
      " 26  avg_temp                22030 non-null  float64\n",
      " 27  avg_wind_angle          22030 non-null  float64\n",
      " 28  avg_rel_hum             22030 non-null  float64\n",
      " 29  avg_soil                22030 non-null  float64\n",
      " 30  sum_prec                22030 non-null  float64\n",
      " 31  forest                  22030 non-null  float64\n",
      " 32  vegetation_class        22030 non-null  object \n",
      " 33  Year                    22030 non-null  int64  \n",
      " 34  max_max_temp            22030 non-null  float64\n",
      " 35  ignition                22030 non-null  int64  \n",
      "dtypes: float64(33), int64(2), object(1)\n",
      "memory usage: 6.2+ MB\n"
     ]
    }
   ],
   "source": [
    "df.info()"
   ]
  },
  {
   "cell_type": "markdown",
   "id": "ef5fbbd5",
   "metadata": {},
   "source": [
    "# Exploratory Data Analysis"
   ]
  },
  {
   "cell_type": "code",
   "execution_count": 25,
   "id": "8a51262b",
   "metadata": {},
   "outputs": [
    {
     "data": {
      "text/html": [
       "<div>\n",
       "<style scoped>\n",
       "    .dataframe tbody tr th:only-of-type {\n",
       "        vertical-align: middle;\n",
       "    }\n",
       "\n",
       "    .dataframe tbody tr th {\n",
       "        vertical-align: top;\n",
       "    }\n",
       "\n",
       "    .dataframe thead th {\n",
       "        text-align: right;\n",
       "    }\n",
       "</style>\n",
       "<table border=\"1\" class=\"dataframe\">\n",
       "  <thead>\n",
       "    <tr style=\"text-align: right;\">\n",
       "      <th></th>\n",
       "      <th>distance_fire_stations</th>\n",
       "      <th>distance_rivers</th>\n",
       "      <th>distance_roads</th>\n",
       "      <th>distance_powerlines</th>\n",
       "      <th>cropland</th>\n",
       "      <th>forest_deciduous_broad</th>\n",
       "      <th>forest_evergreen_broad</th>\n",
       "      <th>forest_unknown</th>\n",
       "      <th>herbaceous_vegetation</th>\n",
       "      <th>shrubland</th>\n",
       "      <th>...</th>\n",
       "      <th>avg_temp</th>\n",
       "      <th>avg_wind_angle</th>\n",
       "      <th>avg_rel_hum</th>\n",
       "      <th>avg_soil</th>\n",
       "      <th>sum_prec</th>\n",
       "      <th>forest</th>\n",
       "      <th>vegetation_class</th>\n",
       "      <th>Year</th>\n",
       "      <th>max_max_temp</th>\n",
       "      <th>ignition</th>\n",
       "    </tr>\n",
       "  </thead>\n",
       "  <tbody>\n",
       "    <tr>\n",
       "      <th>0</th>\n",
       "      <td>13287.682266</td>\n",
       "      <td>7211.102551</td>\n",
       "      <td>1250.000000</td>\n",
       "      <td>30196.233209</td>\n",
       "      <td>0.0</td>\n",
       "      <td>0.0</td>\n",
       "      <td>1.000000</td>\n",
       "      <td>0.000000</td>\n",
       "      <td>0.000000</td>\n",
       "      <td>0.0</td>\n",
       "      <td>...</td>\n",
       "      <td>276.253304</td>\n",
       "      <td>225.773605</td>\n",
       "      <td>56.837185</td>\n",
       "      <td>0.297854</td>\n",
       "      <td>0.360376</td>\n",
       "      <td>1.000000</td>\n",
       "      <td>forest</td>\n",
       "      <td>2015</td>\n",
       "      <td>62.552337</td>\n",
       "      <td>1</td>\n",
       "    </tr>\n",
       "    <tr>\n",
       "      <th>1</th>\n",
       "      <td>8721.381771</td>\n",
       "      <td>2358.495283</td>\n",
       "      <td>250.000000</td>\n",
       "      <td>13768.169813</td>\n",
       "      <td>0.0</td>\n",
       "      <td>0.0</td>\n",
       "      <td>0.416667</td>\n",
       "      <td>0.416667</td>\n",
       "      <td>0.166667</td>\n",
       "      <td>0.0</td>\n",
       "      <td>...</td>\n",
       "      <td>3.610960</td>\n",
       "      <td>209.708847</td>\n",
       "      <td>61.120739</td>\n",
       "      <td>0.264534</td>\n",
       "      <td>0.020176</td>\n",
       "      <td>0.833333</td>\n",
       "      <td>forest</td>\n",
       "      <td>2003</td>\n",
       "      <td>60.787457</td>\n",
       "      <td>1</td>\n",
       "    </tr>\n",
       "    <tr>\n",
       "      <th>2</th>\n",
       "      <td>10796.411441</td>\n",
       "      <td>0.000000</td>\n",
       "      <td>2015.564437</td>\n",
       "      <td>6254.998002</td>\n",
       "      <td>0.0</td>\n",
       "      <td>0.0</td>\n",
       "      <td>0.666667</td>\n",
       "      <td>0.333333</td>\n",
       "      <td>0.000000</td>\n",
       "      <td>0.0</td>\n",
       "      <td>...</td>\n",
       "      <td>278.800907</td>\n",
       "      <td>76.341278</td>\n",
       "      <td>63.017559</td>\n",
       "      <td>0.208871</td>\n",
       "      <td>0.025395</td>\n",
       "      <td>1.000000</td>\n",
       "      <td>forest</td>\n",
       "      <td>2012</td>\n",
       "      <td>63.420256</td>\n",
       "      <td>1</td>\n",
       "    </tr>\n",
       "    <tr>\n",
       "      <th>3</th>\n",
       "      <td>8253.787010</td>\n",
       "      <td>559.016994</td>\n",
       "      <td>0.000000</td>\n",
       "      <td>37350.535471</td>\n",
       "      <td>0.0</td>\n",
       "      <td>0.0</td>\n",
       "      <td>0.000000</td>\n",
       "      <td>0.000000</td>\n",
       "      <td>0.166667</td>\n",
       "      <td>0.0</td>\n",
       "      <td>...</td>\n",
       "      <td>5.787716</td>\n",
       "      <td>68.557823</td>\n",
       "      <td>64.673866</td>\n",
       "      <td>0.156506</td>\n",
       "      <td>0.000000</td>\n",
       "      <td>0.000000</td>\n",
       "      <td>wetland</td>\n",
       "      <td>2004</td>\n",
       "      <td>60.394119</td>\n",
       "      <td>1</td>\n",
       "    </tr>\n",
       "    <tr>\n",
       "      <th>4</th>\n",
       "      <td>9905.806378</td>\n",
       "      <td>0.000000</td>\n",
       "      <td>1903.943276</td>\n",
       "      <td>6427.480066</td>\n",
       "      <td>0.0</td>\n",
       "      <td>0.0</td>\n",
       "      <td>0.750000</td>\n",
       "      <td>0.166667</td>\n",
       "      <td>0.083333</td>\n",
       "      <td>0.0</td>\n",
       "      <td>...</td>\n",
       "      <td>5.503574</td>\n",
       "      <td>316.951508</td>\n",
       "      <td>56.103680</td>\n",
       "      <td>0.208831</td>\n",
       "      <td>0.119717</td>\n",
       "      <td>0.916667</td>\n",
       "      <td>forest</td>\n",
       "      <td>2003</td>\n",
       "      <td>69.570496</td>\n",
       "      <td>1</td>\n",
       "    </tr>\n",
       "  </tbody>\n",
       "</table>\n",
       "<p>5 rows × 36 columns</p>\n",
       "</div>"
      ],
      "text/plain": [
       "   distance_fire_stations  distance_rivers  distance_roads  \\\n",
       "0            13287.682266      7211.102551     1250.000000   \n",
       "1             8721.381771      2358.495283      250.000000   \n",
       "2            10796.411441         0.000000     2015.564437   \n",
       "3             8253.787010       559.016994        0.000000   \n",
       "4             9905.806378         0.000000     1903.943276   \n",
       "\n",
       "   distance_powerlines  cropland  forest_deciduous_broad  \\\n",
       "0         30196.233209       0.0                     0.0   \n",
       "1         13768.169813       0.0                     0.0   \n",
       "2          6254.998002       0.0                     0.0   \n",
       "3         37350.535471       0.0                     0.0   \n",
       "4          6427.480066       0.0                     0.0   \n",
       "\n",
       "   forest_evergreen_broad  forest_unknown  herbaceous_vegetation  shrubland  \\\n",
       "0                1.000000        0.000000               0.000000        0.0   \n",
       "1                0.416667        0.416667               0.166667        0.0   \n",
       "2                0.666667        0.333333               0.000000        0.0   \n",
       "3                0.000000        0.000000               0.166667        0.0   \n",
       "4                0.750000        0.166667               0.083333        0.0   \n",
       "\n",
       "   ...    avg_temp  avg_wind_angle  avg_rel_hum  avg_soil  sum_prec    forest  \\\n",
       "0  ...  276.253304      225.773605    56.837185  0.297854  0.360376  1.000000   \n",
       "1  ...    3.610960      209.708847    61.120739  0.264534  0.020176  0.833333   \n",
       "2  ...  278.800907       76.341278    63.017559  0.208871  0.025395  1.000000   \n",
       "3  ...    5.787716       68.557823    64.673866  0.156506  0.000000  0.000000   \n",
       "4  ...    5.503574      316.951508    56.103680  0.208831  0.119717  0.916667   \n",
       "\n",
       "   vegetation_class  Year  max_max_temp  ignition  \n",
       "0            forest  2015     62.552337         1  \n",
       "1            forest  2003     60.787457         1  \n",
       "2            forest  2012     63.420256         1  \n",
       "3           wetland  2004     60.394119         1  \n",
       "4            forest  2003     69.570496         1  \n",
       "\n",
       "[5 rows x 36 columns]"
      ]
     },
     "execution_count": 25,
     "metadata": {},
     "output_type": "execute_result"
    }
   ],
   "source": [
    "df.head()"
   ]
  },
  {
   "cell_type": "markdown",
   "id": "3255e841",
   "metadata": {},
   "source": [
    "Let's start with the target distribution :"
   ]
  },
  {
   "cell_type": "code",
   "execution_count": 26,
   "id": "4800b4a9",
   "metadata": {},
   "outputs": [
    {
     "data": {
      "image/png": "[encoded data removed]",
      "text/plain": [
       "<Figure size 640x480 with 1 Axes>"
      ]
     },
     "metadata": {},
     "output_type": "display_data"
    }
   ],
   "source": [
    "sns.countplot(x='ignition', data=df, palette='gnuplot');"
   ]
  },
  {
   "cell_type": "code",
   "execution_count": 27,
   "id": "9e99317c",
   "metadata": {},
   "outputs": [
    {
     "name": "stdout",
     "output_type": "stream",
     "text": [
      "There are only 3320 positive records and 18710 negative ones\n",
      "The positive class represents only 15.07% of the whole dataset.\n"
     ]
    }
   ],
   "source": [
    "print(f\"There are only {df.ignition.sum()} positive records and {(1 - df.ignition).sum()} negative ones\")\n",
    "print(f\"The positive class represents only {df.ignition.sum() / len(df)* 100:.2f}% of the whole dataset.\")"
   ]
  },
  {
   "cell_type": "markdown",
   "id": "1979606f",
   "metadata": {},
   "source": [
    "We are dealing with a binary classification problem with a high imbalance in class distribution. This is important for choosing an appropriate metric able to capture the real performance of models. We can not use the accuracy because a simple model that predicts the 0 class all the time would get an accuracy of around 85%.\n",
    "\n",
    "Since we want to predict probabilities of an ignition instead of just the class and because the positive class is more important than the negative class we will use Precision-Recall AUC as our metric."
   ]
  },
  {
   "cell_type": "markdown",
   "id": "9a48ad23",
   "metadata": {},
   "source": [
    "### Correlation matrix"
   ]
  },
  {
   "cell_type": "code",
   "execution_count": 28,
   "id": "8e39fb18",
   "metadata": {},
   "outputs": [
    {
     "data": {
      "image/png": "[encoded data removed]",
      "text/plain": [
       "<Figure size 700x500 with 2 Axes>"
      ]
     },
     "metadata": {},
     "output_type": "display_data"
    }
   ],
   "source": [
    "numerical_features = sorted(df.select_dtypes(include=[\"int64\", \"float64\"]).columns)\n",
    "corr_num = df[numerical_features].corr() # using Pearson correlation (catches only linear correlation)\n",
    "plt.figure(figsize=(7, 5))\n",
    "sns.heatmap(corr_num, cmap='coolwarm', vmin=-1, vmax=1);"
   ]
  },
  {
   "cell_type": "code",
   "execution_count": 29,
   "id": "d7c067e7",
   "metadata": {},
   "outputs": [
    {
     "name": "stdout",
     "output_type": "stream",
     "text": [
      "Features Year and avg_temp have a correlation of 0.87\n",
      "Features distance_rivers and distance_roads have a correlation of 0.81\n",
      "Features forest and forest_evergreen_broad have a correlation of 0.88\n",
      "Features max_max_temp and max_temp have a correlation of 1.00\n"
     ]
    }
   ],
   "source": [
    "# print the most correlated features\n",
    "threshold = 0.8\n",
    "high_corr = []\n",
    "for i in range(len(corr_num.columns)):\n",
    "    for j in range(i+1, len(corr_num.columns)):\n",
    "        if abs(corr_num.iloc[i, j]) > threshold:\n",
    "            high_corr.append((corr_num.columns[i], corr_num.columns[j], corr_num.iloc[i, j]))\n",
    "\n",
    "for i, j, corr in high_corr:\n",
    "    print(f\"Features {i} and {j} have a correlation of {corr:.2f}\")"
   ]
  },
  {
   "cell_type": "markdown",
   "id": "450469ee",
   "metadata": {},
   "source": [
    "There are many features with correlations above 80%. But most of them seem plausible except for `max_max_temp` and `max_temp` which are basically a linear function of each other and using both of them does not add any statistical significance to the modeling. Since we do not have information about `max_max_temp` we will drop it and keep `max_temp` which we have an interpretation for (maximum temperature over the day).\n",
    "\n",
    "Also, the high colinearity is not an issue for tree models but it could harm linear models."
   ]
  },
  {
   "cell_type": "code",
   "execution_count": 30,
   "id": "f7f12c33",
   "metadata": {},
   "outputs": [],
   "source": [
    "# drop max_max_temp column\n",
    "df.drop(columns=['max_max_temp'], axis=1, inplace=True)"
   ]
  },
  {
   "cell_type": "code",
   "execution_count": 31,
   "id": "14ed0b25",
   "metadata": {},
   "outputs": [
    {
     "data": {
      "text/plain": [
       "ignition                  1.000000\n",
       "max_max_temp              0.295061\n",
       "max_temp                  0.295061\n",
       "forest_unknown            0.214991\n",
       "forest                    0.195948\n",
       "pop_dens                  0.164212\n",
       "anom_max_temp             0.159961\n",
       "slope                     0.151001\n",
       "urban                     0.100623\n",
       "forest_deciduous_broad    0.097047\n",
       "forest_evergreen_broad    0.091934\n",
       "wetland                   0.076226\n",
       "herbaceous_vegetation     0.061074\n",
       "avg_wind_angle            0.052935\n",
       "elevation                 0.052914\n",
       "anom_avg_temp             0.040492\n",
       "anom_max_wind_vel         0.028027\n",
       "shrubland                 0.026196\n",
       "avg_temp                  0.016005\n",
       "Year                      0.007141\n",
       "aspect                   -0.004457\n",
       "sprarse_vegetation       -0.006609\n",
       "cropland                 -0.022591\n",
       "sum_prec                 -0.089895\n",
       "anom_sum_prec            -0.108783\n",
       "max_wind_vel             -0.110330\n",
       "avg_soil                 -0.136939\n",
       "anom_avg_rel_hum         -0.156299\n",
       "anom_avg_soil            -0.193019\n",
       "distance_powerlines      -0.205647\n",
       "distance_rivers          -0.218113\n",
       "distance_fire_stations   -0.228656\n",
       "water                    -0.254303\n",
       "distance_roads           -0.268259\n",
       "avg_rel_hum              -0.269676\n",
       "Name: ignition, dtype: float64"
      ]
     },
     "execution_count": 31,
     "metadata": {},
     "output_type": "execute_result"
    }
   ],
   "source": [
    "corr_num['ignition'].sort_values(ascending=False)"
   ]
  },
  {
   "cell_type": "markdown",
   "id": "b29fa895",
   "metadata": {},
   "source": [
    "### Distribution visualization"
   ]
  },
  {
   "cell_type": "code",
   "execution_count": 32,
   "id": "2d6fc380",
   "metadata": {},
   "outputs": [
    {
     "data": {
      "image/png": "[encoded data removed]",
      "text/plain": [
       "<Figure size 1600x1200 with 35 Axes>"
      ]
     },
     "metadata": {},
     "output_type": "display_data"
    }
   ],
   "source": [
    "# filter numerical and categorical columns\n",
    "numerical_features = df.select_dtypes(include=['int64', 'float64']).columns.tolist()\n",
    "categorical_features = df.select_dtypes(include=['object', 'category']).columns.tolist()\n",
    "\n",
    "data_ignition = df[df['ignition'] == 1]\n",
    "data_no_ignition = df[df['ignition'] == 0]\n",
    "\n",
    "fig, axes = plt.subplots(7, 5, figsize=[16, 12])\n",
    "axes = axes.flatten()\n",
    "fig.tight_layout(h_pad=10)\n",
    "\n",
    "for i, col in enumerate(numerical_features):\n",
    "    plt.sca(axes[i])\n",
    "    plt.title(col, fontsize=10)\n",
    "    plt.hist(data_ignition[col], bins=20, alpha=0.5, label='Ignition')\n",
    "    plt.hist(data_no_ignition[col], bins=20, alpha=0.5, label='No ignition')\n",
    "    plt.legend()\n",
    "\n",
    "plt.tight_layout()\n",
    "plt.show()"
   ]
  },
  {
   "cell_type": "markdown",
   "id": "dbb66c06",
   "metadata": {},
   "source": [
    "From all the distributions above we can see that the numerical features present large ranges of values and they are different from feature to feature making it hard to compare their contributions. Another thing is that most distributions are skewed to the left. For that we will need to scale these features using a Min Max Scaler. \n",
    "\n",
    "Note : I tried using Standard Scaler to avoid the effect of outliers on the features but some algorithms did not converge : e.g Logistic Regression."
   ]
  },
  {
   "cell_type": "code",
   "execution_count": 33,
   "id": "6c6b11f7",
   "metadata": {},
   "outputs": [
    {
     "data": {
      "image/png": "[encoded data removed]",
      "text/plain": [
       "<Figure size 800x400 with 1 Axes>"
      ]
     },
     "metadata": {},
     "output_type": "display_data"
    }
   ],
   "source": [
    "# categorical columns\n",
    "for col in categorical_features:\n",
    "    plt.figure(figsize=(8, 4))\n",
    "    sns.countplot(x=col, hue='ignition', data=df)\n",
    "    plt.title(f'{col}')\n",
    "    plt.xticks(rotation=45)\n",
    "    plt.show()"
   ]
  },
  {
   "cell_type": "markdown",
   "id": "5682acab",
   "metadata": {},
   "source": [
    "From this figure, we can see that ignitions occure the most in forests and herbaceous vegetation, while other vegetation classes have very few occurences of ignitions. We can note that cropland does not have any positive class."
   ]
  },
  {
   "cell_type": "markdown",
   "id": "0c4817f1",
   "metadata": {},
   "source": [
    "# Pipeline"
   ]
  },
  {
   "cell_type": "markdown",
   "id": "0df0ddc5",
   "metadata": {},
   "source": [
    "Before we transform the data, it is always a good idea to 'learn' the transformation on the training set then apply it to the validation set. This avoids data leakage and optimistic performance estimations."
   ]
  },
  {
   "cell_type": "code",
   "execution_count": 34,
   "id": "90730374",
   "metadata": {},
   "outputs": [],
   "source": [
    "y = df['ignition'].astype(int)\n",
    "X = df.drop('ignition', axis=1)\n",
    "\n",
    "# split the data into train/val while stratifying by ignition class\n",
    "X_train, X_test, y_train, y_test = train_test_split(X, y, test_size=0.2, random_state=12345, stratify=y)"
   ]
  },
  {
   "cell_type": "code",
   "execution_count": 35,
   "id": "42e6cdc6",
   "metadata": {},
   "outputs": [
    {
     "data": {
      "text/html": [
       "<div>\n",
       "<style scoped>\n",
       "    .dataframe tbody tr th:only-of-type {\n",
       "        vertical-align: middle;\n",
       "    }\n",
       "\n",
       "    .dataframe tbody tr th {\n",
       "        vertical-align: top;\n",
       "    }\n",
       "\n",
       "    .dataframe thead th {\n",
       "        text-align: right;\n",
       "    }\n",
       "</style>\n",
       "<table border=\"1\" class=\"dataframe\">\n",
       "  <thead>\n",
       "    <tr style=\"text-align: right;\">\n",
       "      <th></th>\n",
       "      <th>distance_fire_stations</th>\n",
       "      <th>distance_rivers</th>\n",
       "      <th>distance_roads</th>\n",
       "      <th>distance_powerlines</th>\n",
       "      <th>cropland</th>\n",
       "      <th>forest_deciduous_broad</th>\n",
       "      <th>forest_evergreen_broad</th>\n",
       "      <th>forest_unknown</th>\n",
       "      <th>herbaceous_vegetation</th>\n",
       "      <th>shrubland</th>\n",
       "      <th>...</th>\n",
       "      <th>max_temp</th>\n",
       "      <th>max_wind_vel</th>\n",
       "      <th>avg_temp</th>\n",
       "      <th>avg_wind_angle</th>\n",
       "      <th>avg_rel_hum</th>\n",
       "      <th>avg_soil</th>\n",
       "      <th>sum_prec</th>\n",
       "      <th>forest</th>\n",
       "      <th>vegetation_class</th>\n",
       "      <th>Year</th>\n",
       "    </tr>\n",
       "  </thead>\n",
       "  <tbody>\n",
       "    <tr>\n",
       "      <th>11047</th>\n",
       "      <td>3259.601203</td>\n",
       "      <td>2121.320344</td>\n",
       "      <td>1500.000000</td>\n",
       "      <td>2795.084972</td>\n",
       "      <td>0.0</td>\n",
       "      <td>0.0</td>\n",
       "      <td>0.0</td>\n",
       "      <td>0.000000</td>\n",
       "      <td>0.00</td>\n",
       "      <td>0.0</td>\n",
       "      <td>...</td>\n",
       "      <td>12.387063</td>\n",
       "      <td>4.271291</td>\n",
       "      <td>281.684931</td>\n",
       "      <td>120.008888</td>\n",
       "      <td>91.394508</td>\n",
       "      <td>0.362540</td>\n",
       "      <td>0.000000</td>\n",
       "      <td>0.000000</td>\n",
       "      <td>water</td>\n",
       "      <td>2011</td>\n",
       "    </tr>\n",
       "    <tr>\n",
       "      <th>19193</th>\n",
       "      <td>27323.295921</td>\n",
       "      <td>16070.158680</td>\n",
       "      <td>14960.364300</td>\n",
       "      <td>96301.609540</td>\n",
       "      <td>0.0</td>\n",
       "      <td>0.0</td>\n",
       "      <td>0.0</td>\n",
       "      <td>0.000000</td>\n",
       "      <td>0.00</td>\n",
       "      <td>0.0</td>\n",
       "      <td>...</td>\n",
       "      <td>10.420121</td>\n",
       "      <td>9.553046</td>\n",
       "      <td>4.454545</td>\n",
       "      <td>138.806534</td>\n",
       "      <td>71.201118</td>\n",
       "      <td>0.352569</td>\n",
       "      <td>0.000000</td>\n",
       "      <td>0.000000</td>\n",
       "      <td>water</td>\n",
       "      <td>2006</td>\n",
       "    </tr>\n",
       "    <tr>\n",
       "      <th>19995</th>\n",
       "      <td>29087.153522</td>\n",
       "      <td>5798.706752</td>\n",
       "      <td>559.016994</td>\n",
       "      <td>14903.858561</td>\n",
       "      <td>0.0</td>\n",
       "      <td>0.0</td>\n",
       "      <td>0.0</td>\n",
       "      <td>0.000000</td>\n",
       "      <td>1.00</td>\n",
       "      <td>0.0</td>\n",
       "      <td>...</td>\n",
       "      <td>13.615336</td>\n",
       "      <td>7.068855</td>\n",
       "      <td>278.985592</td>\n",
       "      <td>235.042068</td>\n",
       "      <td>72.145988</td>\n",
       "      <td>0.327916</td>\n",
       "      <td>1.840729</td>\n",
       "      <td>0.000000</td>\n",
       "      <td>herbaceous_vegetation</td>\n",
       "      <td>2018</td>\n",
       "    </tr>\n",
       "    <tr>\n",
       "      <th>16009</th>\n",
       "      <td>8003.905297</td>\n",
       "      <td>2462.214450</td>\n",
       "      <td>559.016994</td>\n",
       "      <td>8792.752698</td>\n",
       "      <td>0.0</td>\n",
       "      <td>0.0</td>\n",
       "      <td>1.0</td>\n",
       "      <td>0.000000</td>\n",
       "      <td>0.00</td>\n",
       "      <td>0.0</td>\n",
       "      <td>...</td>\n",
       "      <td>10.549438</td>\n",
       "      <td>3.821793</td>\n",
       "      <td>6.105999</td>\n",
       "      <td>236.085861</td>\n",
       "      <td>84.810242</td>\n",
       "      <td>0.320061</td>\n",
       "      <td>2.137362</td>\n",
       "      <td>1.000000</td>\n",
       "      <td>forest</td>\n",
       "      <td>2009</td>\n",
       "    </tr>\n",
       "    <tr>\n",
       "      <th>2852</th>\n",
       "      <td>7846.177413</td>\n",
       "      <td>750.000000</td>\n",
       "      <td>0.000000</td>\n",
       "      <td>31484.122983</td>\n",
       "      <td>0.0</td>\n",
       "      <td>0.0</td>\n",
       "      <td>0.0</td>\n",
       "      <td>0.416667</td>\n",
       "      <td>0.25</td>\n",
       "      <td>0.0</td>\n",
       "      <td>...</td>\n",
       "      <td>14.868828</td>\n",
       "      <td>6.695231</td>\n",
       "      <td>6.106079</td>\n",
       "      <td>278.373383</td>\n",
       "      <td>69.353271</td>\n",
       "      <td>0.284684</td>\n",
       "      <td>0.000000</td>\n",
       "      <td>0.416667</td>\n",
       "      <td>forest</td>\n",
       "      <td>2009</td>\n",
       "    </tr>\n",
       "  </tbody>\n",
       "</table>\n",
       "<p>5 rows × 34 columns</p>\n",
       "</div>"
      ],
      "text/plain": [
       "       distance_fire_stations  distance_rivers  distance_roads  \\\n",
       "11047             3259.601203      2121.320344     1500.000000   \n",
       "19193            27323.295921     16070.158680    14960.364300   \n",
       "19995            29087.153522      5798.706752      559.016994   \n",
       "16009             8003.905297      2462.214450      559.016994   \n",
       "2852              7846.177413       750.000000        0.000000   \n",
       "\n",
       "       distance_powerlines  cropland  forest_deciduous_broad  \\\n",
       "11047          2795.084972       0.0                     0.0   \n",
       "19193         96301.609540       0.0                     0.0   \n",
       "19995         14903.858561       0.0                     0.0   \n",
       "16009          8792.752698       0.0                     0.0   \n",
       "2852          31484.122983       0.0                     0.0   \n",
       "\n",
       "       forest_evergreen_broad  forest_unknown  herbaceous_vegetation  \\\n",
       "11047                     0.0        0.000000                   0.00   \n",
       "19193                     0.0        0.000000                   0.00   \n",
       "19995                     0.0        0.000000                   1.00   \n",
       "16009                     1.0        0.000000                   0.00   \n",
       "2852                      0.0        0.416667                   0.25   \n",
       "\n",
       "       shrubland  ...   max_temp  max_wind_vel    avg_temp  avg_wind_angle  \\\n",
       "11047        0.0  ...  12.387063      4.271291  281.684931      120.008888   \n",
       "19193        0.0  ...  10.420121      9.553046    4.454545      138.806534   \n",
       "19995        0.0  ...  13.615336      7.068855  278.985592      235.042068   \n",
       "16009        0.0  ...  10.549438      3.821793    6.105999      236.085861   \n",
       "2852         0.0  ...  14.868828      6.695231    6.106079      278.373383   \n",
       "\n",
       "       avg_rel_hum  avg_soil  sum_prec    forest       vegetation_class  Year  \n",
       "11047    91.394508  0.362540  0.000000  0.000000                  water  2011  \n",
       "19193    71.201118  0.352569  0.000000  0.000000                  water  2006  \n",
       "19995    72.145988  0.327916  1.840729  0.000000  herbaceous_vegetation  2018  \n",
       "16009    84.810242  0.320061  2.137362  1.000000                 forest  2009  \n",
       "2852     69.353271  0.284684  0.000000  0.416667                 forest  2009  \n",
       "\n",
       "[5 rows x 34 columns]"
      ]
     },
     "execution_count": 35,
     "metadata": {},
     "output_type": "execute_result"
    }
   ],
   "source": [
    "X_train.head()"
   ]
  },
  {
   "cell_type": "code",
   "execution_count": 36,
   "id": "4a62e895",
   "metadata": {},
   "outputs": [
    {
     "data": {
      "text/plain": [
       "0    1\n",
       "1    1\n",
       "2    1\n",
       "3    1\n",
       "4    1\n",
       "Name: ignition, dtype: int64"
      ]
     },
     "execution_count": 36,
     "metadata": {},
     "output_type": "execute_result"
    }
   ],
   "source": [
    "y.head()"
   ]
  },
  {
   "cell_type": "markdown",
   "id": "b6b81e86",
   "metadata": {},
   "source": [
    "We will use a Pipeline from sklearn to make data pre-processing and feeding it into ML models more straightforward and automatic."
   ]
  },
  {
   "cell_type": "code",
   "execution_count": 37,
   "id": "ebcd0e79",
   "metadata": {},
   "outputs": [
    {
     "data": {
      "text/html": [
       "<style>#sk-container-id-1 {color: black;background-color: white;}#sk-container-id-1 pre{padding: 0;}#sk-container-id-1 div.sk-toggleable {background-color: white;}#sk-container-id-1 label.sk-toggleable__label {cursor: pointer;display: block;width: 100%;margin-bottom: 0;padding: 0.3em;box-sizing: border-box;text-align: center;}#sk-container-id-1 label.sk-toggleable__label-arrow:before {content: \"▸\";float: left;margin-right: 0.25em;color: #696969;}#sk-container-id-1 label.sk-toggleable__label-arrow:hover:before {color: black;}#sk-container-id-1 div.sk-estimator:hover label.sk-toggleable__label-arrow:before {color: black;}#sk-container-id-1 div.sk-toggleable__content {max-height: 0;max-width: 0;overflow: hidden;text-align: left;background-color: #f0f8ff;}#sk-container-id-1 div.sk-toggleable__content pre {margin: 0.2em;color: black;border-radius: 0.25em;background-color: #f0f8ff;}#sk-container-id-1 input.sk-toggleable__control:checked~div.sk-toggleable__content {max-height: 200px;max-width: 100%;overflow: auto;}#sk-container-id-1 input.sk-toggleable__control:checked~label.sk-toggleable__label-arrow:before {content: \"▾\";}#sk-container-id-1 div.sk-estimator input.sk-toggleable__control:checked~label.sk-toggleable__label {background-color: #d4ebff;}#sk-container-id-1 div.sk-label input.sk-toggleable__control:checked~label.sk-toggleable__label {background-color: #d4ebff;}#sk-container-id-1 input.sk-hidden--visually {border: 0;clip: rect(1px 1px 1px 1px);clip: rect(1px, 1px, 1px, 1px);height: 1px;margin: -1px;overflow: hidden;padding: 0;position: absolute;width: 1px;}#sk-container-id-1 div.sk-estimator {font-family: monospace;background-color: #f0f8ff;border: 1px dotted black;border-radius: 0.25em;box-sizing: border-box;margin-bottom: 0.5em;}#sk-container-id-1 div.sk-estimator:hover {background-color: #d4ebff;}#sk-container-id-1 div.sk-parallel-item::after {content: \"\";width: 100%;border-bottom: 1px solid gray;flex-grow: 1;}#sk-container-id-1 div.sk-label:hover label.sk-toggleable__label {background-color: #d4ebff;}#sk-container-id-1 div.sk-serial::before {content: \"\";position: absolute;border-left: 1px solid gray;box-sizing: border-box;top: 0;bottom: 0;left: 50%;z-index: 0;}#sk-container-id-1 div.sk-serial {display: flex;flex-direction: column;align-items: center;background-color: white;padding-right: 0.2em;padding-left: 0.2em;position: relative;}#sk-container-id-1 div.sk-item {position: relative;z-index: 1;}#sk-container-id-1 div.sk-parallel {display: flex;align-items: stretch;justify-content: center;background-color: white;position: relative;}#sk-container-id-1 div.sk-item::before, #sk-container-id-1 div.sk-parallel-item::before {content: \"\";position: absolute;border-left: 1px solid gray;box-sizing: border-box;top: 0;bottom: 0;left: 50%;z-index: -1;}#sk-container-id-1 div.sk-parallel-item {display: flex;flex-direction: column;z-index: 1;position: relative;background-color: white;}#sk-container-id-1 div.sk-parallel-item:first-child::after {align-self: flex-end;width: 50%;}#sk-container-id-1 div.sk-parallel-item:last-child::after {align-self: flex-start;width: 50%;}#sk-container-id-1 div.sk-parallel-item:only-child::after {width: 0;}#sk-container-id-1 div.sk-dashed-wrapped {border: 1px dashed gray;margin: 0 0.4em 0.5em 0.4em;box-sizing: border-box;padding-bottom: 0.4em;background-color: white;}#sk-container-id-1 div.sk-label label {font-family: monospace;font-weight: bold;display: inline-block;line-height: 1.2em;}#sk-container-id-1 div.sk-label-container {text-align: center;}#sk-container-id-1 div.sk-container {/* jupyter's `normalize.less` sets `[hidden] { display: none; }` but bootstrap.min.css set `[hidden] { display: none !important; }` so we also need the `!important` here to be able to override the default hidden behavior on the sphinx rendered scikit-learn.org. See: https://github.com/scikit-learn/scikit-learn/issues/21755 */display: inline-block !important;position: relative;}#sk-container-id-1 div.sk-text-repr-fallback {display: none;}</style><div id=\"sk-container-id-1\" class=\"sk-top-container\"><div class=\"sk-text-repr-fallback\"><pre>ColumnTransformer(transformers=[(&#x27;pipeline-1&#x27;,\n",
       "                                 Pipeline(steps=[(&#x27;minmaxscaler&#x27;,\n",
       "                                                  MinMaxScaler())]),\n",
       "                                 &lt;sklearn.compose._column_transformer.make_column_selector object at 0x7faafb877b50&gt;),\n",
       "                                (&#x27;pipeline-2&#x27;,\n",
       "                                 Pipeline(steps=[(&#x27;onehotencoder&#x27;,\n",
       "                                                  OneHotEncoder(drop=&#x27;if_binary&#x27;,\n",
       "                                                                handle_unknown=&#x27;ignore&#x27;,\n",
       "                                                                sparse=False))]),\n",
       "                                 &lt;sklearn.compose._column_transformer.make_column_selector object at 0x7faafb8911e0&gt;)])</pre><b>In a Jupyter environment, please rerun this cell to show the HTML representation or trust the notebook. <br />On GitHub, the HTML representation is unable to render, please try loading this page with nbviewer.org.</b></div><div class=\"sk-container\" hidden><div class=\"sk-item sk-dashed-wrapped\"><div class=\"sk-label-container\"><div class=\"sk-label sk-toggleable\"><input class=\"sk-toggleable__control sk-hidden--visually\" id=\"sk-estimator-id-1\" type=\"checkbox\" ><label for=\"sk-estimator-id-1\" class=\"sk-toggleable__label sk-toggleable__label-arrow\">ColumnTransformer</label><div class=\"sk-toggleable__content\"><pre>ColumnTransformer(transformers=[(&#x27;pipeline-1&#x27;,\n",
       "                                 Pipeline(steps=[(&#x27;minmaxscaler&#x27;,\n",
       "                                                  MinMaxScaler())]),\n",
       "                                 &lt;sklearn.compose._column_transformer.make_column_selector object at 0x7faafb877b50&gt;),\n",
       "                                (&#x27;pipeline-2&#x27;,\n",
       "                                 Pipeline(steps=[(&#x27;onehotencoder&#x27;,\n",
       "                                                  OneHotEncoder(drop=&#x27;if_binary&#x27;,\n",
       "                                                                handle_unknown=&#x27;ignore&#x27;,\n",
       "                                                                sparse=False))]),\n",
       "                                 &lt;sklearn.compose._column_transformer.make_column_selector object at 0x7faafb8911e0&gt;)])</pre></div></div></div><div class=\"sk-parallel\"><div class=\"sk-parallel-item\"><div class=\"sk-item\"><div class=\"sk-label-container\"><div class=\"sk-label sk-toggleable\"><input class=\"sk-toggleable__control sk-hidden--visually\" id=\"sk-estimator-id-2\" type=\"checkbox\" ><label for=\"sk-estimator-id-2\" class=\"sk-toggleable__label sk-toggleable__label-arrow\">pipeline-1</label><div class=\"sk-toggleable__content\"><pre>&lt;sklearn.compose._column_transformer.make_column_selector object at 0x7faafb877b50&gt;</pre></div></div></div><div class=\"sk-serial\"><div class=\"sk-item\"><div class=\"sk-serial\"><div class=\"sk-item\"><div class=\"sk-estimator sk-toggleable\"><input class=\"sk-toggleable__control sk-hidden--visually\" id=\"sk-estimator-id-3\" type=\"checkbox\" ><label for=\"sk-estimator-id-3\" class=\"sk-toggleable__label sk-toggleable__label-arrow\">MinMaxScaler</label><div class=\"sk-toggleable__content\"><pre>MinMaxScaler()</pre></div></div></div></div></div></div></div></div><div class=\"sk-parallel-item\"><div class=\"sk-item\"><div class=\"sk-label-container\"><div class=\"sk-label sk-toggleable\"><input class=\"sk-toggleable__control sk-hidden--visually\" id=\"sk-estimator-id-4\" type=\"checkbox\" ><label for=\"sk-estimator-id-4\" class=\"sk-toggleable__label sk-toggleable__label-arrow\">pipeline-2</label><div class=\"sk-toggleable__content\"><pre>&lt;sklearn.compose._column_transformer.make_column_selector object at 0x7faafb8911e0&gt;</pre></div></div></div><div class=\"sk-serial\"><div class=\"sk-item\"><div class=\"sk-serial\"><div class=\"sk-item\"><div class=\"sk-estimator sk-toggleable\"><input class=\"sk-toggleable__control sk-hidden--visually\" id=\"sk-estimator-id-5\" type=\"checkbox\" ><label for=\"sk-estimator-id-5\" class=\"sk-toggleable__label sk-toggleable__label-arrow\">OneHotEncoder</label><div class=\"sk-toggleable__content\"><pre>OneHotEncoder(drop=&#x27;if_binary&#x27;, handle_unknown=&#x27;ignore&#x27;, sparse=False)</pre></div></div></div></div></div></div></div></div></div></div></div></div>"
      ],
      "text/plain": [
       "ColumnTransformer(transformers=[('pipeline-1',\n",
       "                                 Pipeline(steps=[('minmaxscaler',\n",
       "                                                  MinMaxScaler())]),\n",
       "                                 <sklearn.compose._column_transformer.make_column_selector object at 0x7faafb877b50>),\n",
       "                                ('pipeline-2',\n",
       "                                 Pipeline(steps=[('onehotencoder',\n",
       "                                                  OneHotEncoder(drop='if_binary',\n",
       "                                                                handle_unknown='ignore',\n",
       "                                                                sparse=False))]),\n",
       "                                 <sklearn.compose._column_transformer.make_column_selector object at 0x7faafb8911e0>)])"
      ]
     },
     "execution_count": 37,
     "metadata": {},
     "output_type": "execute_result"
    }
   ],
   "source": [
    "# numerical preprocessor : scaler\n",
    "numerical_preprocessor = make_pipeline(\n",
    "    MinMaxScaler())\n",
    "\n",
    "# categorical preprocessor : One Hot Encoding\n",
    "categorical_preprocessor = make_pipeline(\n",
    "    OneHotEncoder(sparse=False, handle_unknown=\"ignore\", drop='if_binary'))\n",
    "\n",
    "# combine both preprocessors\n",
    "processor = make_column_transformer(\n",
    "    (numerical_preprocessor, make_column_selector(dtype_include=[\"int64\", \"float64\"])),\n",
    "    (categorical_preprocessor, make_column_selector(dtype_include=[\"object\"])),\n",
    "    remainder=\"drop\")\n",
    "\n",
    "processor"
   ]
  },
  {
   "cell_type": "code",
   "execution_count": 38,
   "id": "983a4dca",
   "metadata": {},
   "outputs": [
    {
     "data": {
      "text/plain": [
       "(17624, 40)"
      ]
     },
     "execution_count": 38,
     "metadata": {},
     "output_type": "execute_result"
    }
   ],
   "source": [
    "# fit the processor on the train data\n",
    "processor.fit_transform(X_train).shape"
   ]
  },
  {
   "cell_type": "markdown",
   "id": "ac6a877d",
   "metadata": {},
   "source": [
    "We get 40 features : 33 for numerical features and 7 for vegetation class."
   ]
  },
  {
   "cell_type": "markdown",
   "id": "585c2b3c",
   "metadata": {},
   "source": [
    "# Modeling"
   ]
  },
  {
   "cell_type": "markdown",
   "id": "041e1e40",
   "metadata": {},
   "source": [
    "We will test the following models \n",
    "\n",
    "- Logistic regression \n",
    "- Support vector machine\n",
    "- Decision Tree\n",
    "- Random Forest\n",
    "- XGBoost\n",
    "\n",
    "For all models, we will run a grid search for a portion of relevant hyperparameters."
   ]
  },
  {
   "cell_type": "markdown",
   "id": "7e0cf267",
   "metadata": {},
   "source": [
    "## Logistic Regression"
   ]
  },
  {
   "cell_type": "code",
   "execution_count": 39,
   "id": "05abb6f0",
   "metadata": {},
   "outputs": [],
   "source": [
    "# create a custom scorer for Precision-Recall AUC\n",
    "pr_auc_scorer = make_scorer(average_precision_score, needs_proba=True)"
   ]
  },
  {
   "cell_type": "code",
   "execution_count": 40,
   "id": "5241852c",
   "metadata": {},
   "outputs": [
    {
     "data": {
      "text/html": [
       "<style>#sk-container-id-2 {color: black;background-color: white;}#sk-container-id-2 pre{padding: 0;}#sk-container-id-2 div.sk-toggleable {background-color: white;}#sk-container-id-2 label.sk-toggleable__label {cursor: pointer;display: block;width: 100%;margin-bottom: 0;padding: 0.3em;box-sizing: border-box;text-align: center;}#sk-container-id-2 label.sk-toggleable__label-arrow:before {content: \"▸\";float: left;margin-right: 0.25em;color: #696969;}#sk-container-id-2 label.sk-toggleable__label-arrow:hover:before {color: black;}#sk-container-id-2 div.sk-estimator:hover label.sk-toggleable__label-arrow:before {color: black;}#sk-container-id-2 div.sk-toggleable__content {max-height: 0;max-width: 0;overflow: hidden;text-align: left;background-color: #f0f8ff;}#sk-container-id-2 div.sk-toggleable__content pre {margin: 0.2em;color: black;border-radius: 0.25em;background-color: #f0f8ff;}#sk-container-id-2 input.sk-toggleable__control:checked~div.sk-toggleable__content {max-height: 200px;max-width: 100%;overflow: auto;}#sk-container-id-2 input.sk-toggleable__control:checked~label.sk-toggleable__label-arrow:before {content: \"▾\";}#sk-container-id-2 div.sk-estimator input.sk-toggleable__control:checked~label.sk-toggleable__label {background-color: #d4ebff;}#sk-container-id-2 div.sk-label input.sk-toggleable__control:checked~label.sk-toggleable__label {background-color: #d4ebff;}#sk-container-id-2 input.sk-hidden--visually {border: 0;clip: rect(1px 1px 1px 1px);clip: rect(1px, 1px, 1px, 1px);height: 1px;margin: -1px;overflow: hidden;padding: 0;position: absolute;width: 1px;}#sk-container-id-2 div.sk-estimator {font-family: monospace;background-color: #f0f8ff;border: 1px dotted black;border-radius: 0.25em;box-sizing: border-box;margin-bottom: 0.5em;}#sk-container-id-2 div.sk-estimator:hover {background-color: #d4ebff;}#sk-container-id-2 div.sk-parallel-item::after {content: \"\";width: 100%;border-bottom: 1px solid gray;flex-grow: 1;}#sk-container-id-2 div.sk-label:hover label.sk-toggleable__label {background-color: #d4ebff;}#sk-container-id-2 div.sk-serial::before {content: \"\";position: absolute;border-left: 1px solid gray;box-sizing: border-box;top: 0;bottom: 0;left: 50%;z-index: 0;}#sk-container-id-2 div.sk-serial {display: flex;flex-direction: column;align-items: center;background-color: white;padding-right: 0.2em;padding-left: 0.2em;position: relative;}#sk-container-id-2 div.sk-item {position: relative;z-index: 1;}#sk-container-id-2 div.sk-parallel {display: flex;align-items: stretch;justify-content: center;background-color: white;position: relative;}#sk-container-id-2 div.sk-item::before, #sk-container-id-2 div.sk-parallel-item::before {content: \"\";position: absolute;border-left: 1px solid gray;box-sizing: border-box;top: 0;bottom: 0;left: 50%;z-index: -1;}#sk-container-id-2 div.sk-parallel-item {display: flex;flex-direction: column;z-index: 1;position: relative;background-color: white;}#sk-container-id-2 div.sk-parallel-item:first-child::after {align-self: flex-end;width: 50%;}#sk-container-id-2 div.sk-parallel-item:last-child::after {align-self: flex-start;width: 50%;}#sk-container-id-2 div.sk-parallel-item:only-child::after {width: 0;}#sk-container-id-2 div.sk-dashed-wrapped {border: 1px dashed gray;margin: 0 0.4em 0.5em 0.4em;box-sizing: border-box;padding-bottom: 0.4em;background-color: white;}#sk-container-id-2 div.sk-label label {font-family: monospace;font-weight: bold;display: inline-block;line-height: 1.2em;}#sk-container-id-2 div.sk-label-container {text-align: center;}#sk-container-id-2 div.sk-container {/* jupyter's `normalize.less` sets `[hidden] { display: none; }` but bootstrap.min.css set `[hidden] { display: none !important; }` so we also need the `!important` here to be able to override the default hidden behavior on the sphinx rendered scikit-learn.org. See: https://github.com/scikit-learn/scikit-learn/issues/21755 */display: inline-block !important;position: relative;}#sk-container-id-2 div.sk-text-repr-fallback {display: none;}</style><div id=\"sk-container-id-2\" class=\"sk-top-container\"><div class=\"sk-text-repr-fallback\"><pre>Pipeline(steps=[(&#x27;columntransformer&#x27;,\n",
       "                 ColumnTransformer(transformers=[(&#x27;pipeline-1&#x27;,\n",
       "                                                  Pipeline(steps=[(&#x27;minmaxscaler&#x27;,\n",
       "                                                                   MinMaxScaler())]),\n",
       "                                                  &lt;sklearn.compose._column_transformer.make_column_selector object at 0x7faafb877b50&gt;),\n",
       "                                                 (&#x27;pipeline-2&#x27;,\n",
       "                                                  Pipeline(steps=[(&#x27;onehotencoder&#x27;,\n",
       "                                                                   OneHotEncoder(drop=&#x27;if_binary&#x27;,\n",
       "                                                                                 handle_unknown=&#x27;ignore&#x27;,\n",
       "                                                                                 sparse=False))]),\n",
       "                                                  &lt;sklearn.compose._column_transformer.make_column_selector object at 0x7faafb8911e0&gt;)])),\n",
       "                (&#x27;logisticregression&#x27;, LogisticRegression(max_iter=1000))])</pre><b>In a Jupyter environment, please rerun this cell to show the HTML representation or trust the notebook. <br />On GitHub, the HTML representation is unable to render, please try loading this page with nbviewer.org.</b></div><div class=\"sk-container\" hidden><div class=\"sk-item sk-dashed-wrapped\"><div class=\"sk-label-container\"><div class=\"sk-label sk-toggleable\"><input class=\"sk-toggleable__control sk-hidden--visually\" id=\"sk-estimator-id-6\" type=\"checkbox\" ><label for=\"sk-estimator-id-6\" class=\"sk-toggleable__label sk-toggleable__label-arrow\">Pipeline</label><div class=\"sk-toggleable__content\"><pre>Pipeline(steps=[(&#x27;columntransformer&#x27;,\n",
       "                 ColumnTransformer(transformers=[(&#x27;pipeline-1&#x27;,\n",
       "                                                  Pipeline(steps=[(&#x27;minmaxscaler&#x27;,\n",
       "                                                                   MinMaxScaler())]),\n",
       "                                                  &lt;sklearn.compose._column_transformer.make_column_selector object at 0x7faafb877b50&gt;),\n",
       "                                                 (&#x27;pipeline-2&#x27;,\n",
       "                                                  Pipeline(steps=[(&#x27;onehotencoder&#x27;,\n",
       "                                                                   OneHotEncoder(drop=&#x27;if_binary&#x27;,\n",
       "                                                                                 handle_unknown=&#x27;ignore&#x27;,\n",
       "                                                                                 sparse=False))]),\n",
       "                                                  &lt;sklearn.compose._column_transformer.make_column_selector object at 0x7faafb8911e0&gt;)])),\n",
       "                (&#x27;logisticregression&#x27;, LogisticRegression(max_iter=1000))])</pre></div></div></div><div class=\"sk-serial\"><div class=\"sk-item sk-dashed-wrapped\"><div class=\"sk-label-container\"><div class=\"sk-label sk-toggleable\"><input class=\"sk-toggleable__control sk-hidden--visually\" id=\"sk-estimator-id-7\" type=\"checkbox\" ><label for=\"sk-estimator-id-7\" class=\"sk-toggleable__label sk-toggleable__label-arrow\">columntransformer: ColumnTransformer</label><div class=\"sk-toggleable__content\"><pre>ColumnTransformer(transformers=[(&#x27;pipeline-1&#x27;,\n",
       "                                 Pipeline(steps=[(&#x27;minmaxscaler&#x27;,\n",
       "                                                  MinMaxScaler())]),\n",
       "                                 &lt;sklearn.compose._column_transformer.make_column_selector object at 0x7faafb877b50&gt;),\n",
       "                                (&#x27;pipeline-2&#x27;,\n",
       "                                 Pipeline(steps=[(&#x27;onehotencoder&#x27;,\n",
       "                                                  OneHotEncoder(drop=&#x27;if_binary&#x27;,\n",
       "                                                                handle_unknown=&#x27;ignore&#x27;,\n",
       "                                                                sparse=False))]),\n",
       "                                 &lt;sklearn.compose._column_transformer.make_column_selector object at 0x7faafb8911e0&gt;)])</pre></div></div></div><div class=\"sk-parallel\"><div class=\"sk-parallel-item\"><div class=\"sk-item\"><div class=\"sk-label-container\"><div class=\"sk-label sk-toggleable\"><input class=\"sk-toggleable__control sk-hidden--visually\" id=\"sk-estimator-id-8\" type=\"checkbox\" ><label for=\"sk-estimator-id-8\" class=\"sk-toggleable__label sk-toggleable__label-arrow\">pipeline-1</label><div class=\"sk-toggleable__content\"><pre>&lt;sklearn.compose._column_transformer.make_column_selector object at 0x7faafb877b50&gt;</pre></div></div></div><div class=\"sk-serial\"><div class=\"sk-item\"><div class=\"sk-serial\"><div class=\"sk-item\"><div class=\"sk-estimator sk-toggleable\"><input class=\"sk-toggleable__control sk-hidden--visually\" id=\"sk-estimator-id-9\" type=\"checkbox\" ><label for=\"sk-estimator-id-9\" class=\"sk-toggleable__label sk-toggleable__label-arrow\">MinMaxScaler</label><div class=\"sk-toggleable__content\"><pre>MinMaxScaler()</pre></div></div></div></div></div></div></div></div><div class=\"sk-parallel-item\"><div class=\"sk-item\"><div class=\"sk-label-container\"><div class=\"sk-label sk-toggleable\"><input class=\"sk-toggleable__control sk-hidden--visually\" id=\"sk-estimator-id-10\" type=\"checkbox\" ><label for=\"sk-estimator-id-10\" class=\"sk-toggleable__label sk-toggleable__label-arrow\">pipeline-2</label><div class=\"sk-toggleable__content\"><pre>&lt;sklearn.compose._column_transformer.make_column_selector object at 0x7faafb8911e0&gt;</pre></div></div></div><div class=\"sk-serial\"><div class=\"sk-item\"><div class=\"sk-serial\"><div class=\"sk-item\"><div class=\"sk-estimator sk-toggleable\"><input class=\"sk-toggleable__control sk-hidden--visually\" id=\"sk-estimator-id-11\" type=\"checkbox\" ><label for=\"sk-estimator-id-11\" class=\"sk-toggleable__label sk-toggleable__label-arrow\">OneHotEncoder</label><div class=\"sk-toggleable__content\"><pre>OneHotEncoder(drop=&#x27;if_binary&#x27;, handle_unknown=&#x27;ignore&#x27;, sparse=False)</pre></div></div></div></div></div></div></div></div></div></div><div class=\"sk-item\"><div class=\"sk-estimator sk-toggleable\"><input class=\"sk-toggleable__control sk-hidden--visually\" id=\"sk-estimator-id-12\" type=\"checkbox\" ><label for=\"sk-estimator-id-12\" class=\"sk-toggleable__label sk-toggleable__label-arrow\">LogisticRegression</label><div class=\"sk-toggleable__content\"><pre>LogisticRegression(max_iter=1000)</pre></div></div></div></div></div></div></div>"
      ],
      "text/plain": [
       "Pipeline(steps=[('columntransformer',\n",
       "                 ColumnTransformer(transformers=[('pipeline-1',\n",
       "                                                  Pipeline(steps=[('minmaxscaler',\n",
       "                                                                   MinMaxScaler())]),\n",
       "                                                  <sklearn.compose._column_transformer.make_column_selector object at 0x7faafb877b50>),\n",
       "                                                 ('pipeline-2',\n",
       "                                                  Pipeline(steps=[('onehotencoder',\n",
       "                                                                   OneHotEncoder(drop='if_binary',\n",
       "                                                                                 handle_unknown='ignore',\n",
       "                                                                                 sparse=False))]),\n",
       "                                                  <sklearn.compose._column_transformer.make_column_selector object at 0x7faafb8911e0>)])),\n",
       "                ('logisticregression', LogisticRegression(max_iter=1000))])"
      ]
     },
     "execution_count": 40,
     "metadata": {},
     "output_type": "execute_result"
    }
   ],
   "source": [
    "lr_classifier = make_pipeline(processor, LogisticRegression(max_iter=1000))\n",
    "lr_classifier"
   ]
  },
  {
   "cell_type": "code",
   "execution_count": 41,
   "id": "9a487790",
   "metadata": {},
   "outputs": [
    {
     "name": "stdout",
     "output_type": "stream",
     "text": [
      "Fitting 5 folds for each of 7 candidates, totalling 35 fits\n"
     ]
    },
    {
     "name": "stdout",
     "output_type": "stream",
     "text": [
      "[CV] END ........................logisticregression__C=0.001; total time=   0.2s\n",
      "[CV] END ........................logisticregression__C=0.001; total time=   0.2s\n",
      "[CV] END .........................logisticregression__C=0.01; total time=   0.2s\n",
      "[CV] END ........................logisticregression__C=0.001; total time=   0.3s\n",
      "[CV] END .........................logisticregression__C=0.01; total time=   0.3s\n",
      "[CV] END .........................logisticregression__C=0.01; total time=   0.4s\n",
      "[CV] END ........................logisticregression__C=0.001; total time=   0.3s\n",
      "[CV] END .........................logisticregression__C=0.01; total time=   0.3s\n",
      "[CV] END ........................logisticregression__C=0.001; total time=   0.4s\n",
      "[CV] END .........................logisticregression__C=0.01; total time=   0.3s\n",
      "[CV] END ..........................logisticregression__C=0.1; total time=   0.5s\n",
      "[CV] END ..........................logisticregression__C=0.1; total time=   0.4s\n",
      "[CV] END ..........................logisticregression__C=0.1; total time=   0.6s\n",
      "[CV] END ..........................logisticregression__C=0.1; total time=   0.5s\n",
      "[CV] END ..........................logisticregression__C=0.1; total time=   0.5s\n",
      "[CV] END ............................logisticregression__C=1; total time=   0.8s\n",
      "[CV] END ............................logisticregression__C=1; total time=   0.7s\n",
      "[CV] END ............................logisticregression__C=1; total time=   1.0s\n",
      "[CV] END ............................logisticregression__C=1; total time=   1.1s\n",
      "[CV] END ............................logisticregression__C=1; total time=   0.8s\n",
      "[CV] END ...........................logisticregression__C=10; total time=   1.3s\n",
      "[CV] END ...........................logisticregression__C=10; total time=   1.6s\n",
      "[CV] END ...........................logisticregression__C=10; total time=   1.1s\n",
      "[CV] END ...........................logisticregression__C=10; total time=   1.7s\n",
      "[CV] END ...........................logisticregression__C=10; total time=   2.0s\n",
      "[CV] END ..........................logisticregression__C=100; total time=   1.7s\n",
      "[CV] END ..........................logisticregression__C=100; total time=   1.7s\n",
      "[CV] END ..........................logisticregression__C=100; total time=   2.1s\n",
      "[CV] END ..........................logisticregression__C=100; total time=   1.4s\n",
      "[CV] END ..........................logisticregression__C=100; total time=   1.5s\n",
      "[CV] END .........................logisticregression__C=1000; total time=   1.6s\n",
      "[CV] END .........................logisticregression__C=1000; total time=   1.7s\n",
      "[CV] END .........................logisticregression__C=1000; total time=   2.1s\n",
      "[CV] END .........................logisticregression__C=1000; total time=   1.5s\n",
      "[CV] END .........................logisticregression__C=1000; total time=   1.5s\n",
      "{'logisticregression__C': 1000}\n"
     ]
    },
    {
     "data": {
      "text/plain": [
       "0.5699929810942412"
      ]
     },
     "execution_count": 41,
     "metadata": {},
     "output_type": "execute_result"
    }
   ],
   "source": [
    "# grid search for C : Inverse of regularization strength \n",
    "param_grid = {'logisticregression__C': [0.001, 0.01, 0.1, 1, 10, 100, 1000]}\n",
    "clf_lr = GridSearchCV(lr_classifier, param_grid, cv=5, n_jobs=-1, verbose=2, scoring=pr_auc_scorer)\n",
    "clf_lr.fit(X_train, y_train);\n",
    "\n",
    "print(clf_lr.best_params_)\n",
    "clf_lr.best_score_"
   ]
  },
  {
   "cell_type": "code",
   "execution_count": 42,
   "id": "f15cd343",
   "metadata": {},
   "outputs": [
    {
     "name": "stdout",
     "output_type": "stream",
     "text": [
      "              precision    recall  f1-score   support\n",
      "\n",
      "           0       0.89      0.96      0.92      3742\n",
      "           1       0.59      0.31      0.41       664\n",
      "\n",
      "    accuracy                           0.86      4406\n",
      "   macro avg       0.74      0.64      0.67      4406\n",
      "weighted avg       0.84      0.86      0.85      4406\n",
      "\n"
     ]
    }
   ],
   "source": [
    "y_pred_lr = clf_lr.best_estimator_.predict(X_test)\n",
    "print(classification_report(y_test, y_pred_lr))"
   ]
  },
  {
   "cell_type": "markdown",
   "id": "f4ad8bb4",
   "metadata": {},
   "source": [
    "The first thing we notice is that the recall is very low for the positive class."
   ]
  },
  {
   "cell_type": "markdown",
   "id": "8d2a23eb",
   "metadata": {},
   "source": [
    "## SVM"
   ]
  },
  {
   "cell_type": "markdown",
   "id": "b5b07861",
   "metadata": {},
   "source": [
    "Another model that is well-suited for classification problems is the support vector classifier (SVC). Let us get a quick first estimate using a radial basis function kernel."
   ]
  },
  {
   "cell_type": "code",
   "execution_count": 43,
   "id": "e652e80d",
   "metadata": {},
   "outputs": [],
   "source": [
    "svm_classifier = make_pipeline(processor, SVC(kernel='rbf', C=0.4))"
   ]
  },
  {
   "cell_type": "code",
   "execution_count": 44,
   "id": "c2b93e27",
   "metadata": {},
   "outputs": [
    {
     "name": "stdout",
     "output_type": "stream",
     "text": [
      "Fitting 5 folds for each of 4 candidates, totalling 20 fits\n"
     ]
    },
    {
     "name": "stdout",
     "output_type": "stream",
     "text": [
      "[CV] END .......................svc__C=0.1, svc__gamma=0.001; total time=  20.4s\n",
      "[CV] END .........................svc__C=0.1, svc__gamma=0.1; total time=  20.7s\n",
      "[CV] END .......................svc__C=0.1, svc__gamma=0.001; total time=  21.5s\n",
      "[CV] END .........................svc__C=0.1, svc__gamma=0.1; total time=  21.7s\n",
      "[CV] END .........................svc__C=0.1, svc__gamma=0.1; total time=  22.1s\n",
      "[CV] END .......................svc__C=0.1, svc__gamma=0.001; total time=  22.2s\n",
      "[CV] END .........................svc__C=0.1, svc__gamma=0.1; total time=  22.3s\n",
      "[CV] END .........................svc__C=0.1, svc__gamma=0.1; total time=  22.3s\n",
      "[CV] END .......................svc__C=0.1, svc__gamma=0.001; total time=  18.0s\n",
      "[CV] END .......................svc__C=0.1, svc__gamma=0.001; total time=  18.2s\n",
      "[CV] END ........................svc__C=10, svc__gamma=0.001; total time=  19.4s\n",
      "[CV] END ..........................svc__C=10, svc__gamma=0.1; total time=  19.5s\n",
      "[CV] END ..........................svc__C=10, svc__gamma=0.1; total time=  20.6s\n",
      "[CV] END ..........................svc__C=10, svc__gamma=0.1; total time=  21.5s\n",
      "[CV] END ..........................svc__C=10, svc__gamma=0.1; total time=  21.5s\n",
      "[CV] END ..........................svc__C=10, svc__gamma=0.1; total time=  22.3s\n",
      "[CV] END ........................svc__C=10, svc__gamma=0.001; total time=  10.9s\n",
      "[CV] END ........................svc__C=10, svc__gamma=0.001; total time=  10.5s\n",
      "[CV] END ........................svc__C=10, svc__gamma=0.001; total time=   9.6s\n",
      "[CV] END ........................svc__C=10, svc__gamma=0.001; total time=   9.8s\n",
      "{'svc__C': 10, 'svc__gamma': 0.1}\n"
     ]
    },
    {
     "data": {
      "text/plain": [
       "0.40402369790390846"
      ]
     },
     "execution_count": 44,
     "metadata": {},
     "output_type": "execute_result"
    }
   ],
   "source": [
    "# grid search\n",
    "param_grid = {'svc__C':[0.1, 10],'svc__gamma':[0.1, 0.001]}\n",
    "clf_svm = GridSearchCV(\n",
    "    svm_classifier, \n",
    "    param_grid=param_grid, \n",
    "    cv=5, \n",
    "    n_jobs=-1, \n",
    "    verbose=2, \n",
    "    scoring='f1') # using the PR-AUC scorer slows down the method so we use only 'f1' as a proxy\n",
    "\n",
    "clf_svm.fit(X_train, y_train);\n",
    "print(clf_svm.best_params_)\n",
    "clf_svm.best_score_"
   ]
  },
  {
   "cell_type": "code",
   "execution_count": 45,
   "id": "194e3f3c",
   "metadata": {},
   "outputs": [
    {
     "name": "stdout",
     "output_type": "stream",
     "text": [
      "              precision    recall  f1-score   support\n",
      "\n",
      "           0       0.88      0.98      0.93      3742\n",
      "           1       0.67      0.26      0.37       664\n",
      "\n",
      "    accuracy                           0.87      4406\n",
      "   macro avg       0.77      0.62      0.65      4406\n",
      "weighted avg       0.85      0.87      0.84      4406\n",
      "\n"
     ]
    }
   ],
   "source": [
    "y_pred_svm = clf_svm.best_estimator_.predict(X_test)\n",
    "print(classification_report(y_test, y_pred_svm))"
   ]
  },
  {
   "cell_type": "markdown",
   "id": "b7ccbe6c",
   "metadata": {},
   "source": [
    "We notice the same thing for SVM, the recall for the positive class is very low."
   ]
  },
  {
   "cell_type": "markdown",
   "id": "157c60aa",
   "metadata": {},
   "source": [
    "## Decision Tree"
   ]
  },
  {
   "cell_type": "code",
   "execution_count": 46,
   "id": "00f25559",
   "metadata": {},
   "outputs": [
    {
     "name": "stdout",
     "output_type": "stream",
     "text": [
      "Fitting 5 folds for each of 6 candidates, totalling 30 fits\n"
     ]
    },
    {
     "name": "stdout",
     "output_type": "stream",
     "text": [
      "[CV] END decisiontreeclassifier__max_depth=None, decisiontreeclassifier__min_samples_split=10; total time=   0.5s\n",
      "[CV] END decisiontreeclassifier__max_depth=None, decisiontreeclassifier__min_samples_split=5; total time=   0.6s\n",
      "[CV] END decisiontreeclassifier__max_depth=None, decisiontreeclassifier__min_samples_split=10; total time=   0.6s\n",
      "[CV] END decisiontreeclassifier__max_depth=None, decisiontreeclassifier__min_samples_split=5; total time=   0.6s\n",
      "[CV] END decisiontreeclassifier__max_depth=None, decisiontreeclassifier__min_samples_split=5; total time=   0.6s\n",
      "[CV] END decisiontreeclassifier__max_depth=None, decisiontreeclassifier__min_samples_split=10; total time=   0.6s[CV] END decisiontreeclassifier__max_depth=None, decisiontreeclassifier__min_samples_split=5; total time=   0.6s\n",
      "\n",
      "[CV] END decisiontreeclassifier__max_depth=None, decisiontreeclassifier__min_samples_split=5; total time=   0.6s\n",
      "[CV] END decisiontreeclassifier__max_depth=5, decisiontreeclassifier__min_samples_split=5; total time=   0.3s\n",
      "[CV] END decisiontreeclassifier__max_depth=5, decisiontreeclassifier__min_samples_split=5; total time=   0.3s\n",
      "[CV] END decisiontreeclassifier__max_depth=5, decisiontreeclassifier__min_samples_split=5; total time=   0.3s\n",
      "[CV] END decisiontreeclassifier__max_depth=5, decisiontreeclassifier__min_samples_split=5; total time=   0.3s\n",
      "[CV] END decisiontreeclassifier__max_depth=5, decisiontreeclassifier__min_samples_split=5; total time=   0.4s\n",
      "[CV] END decisiontreeclassifier__max_depth=5, decisiontreeclassifier__min_samples_split=10; total time=   0.4s\n",
      "[CV] END decisiontreeclassifier__max_depth=None, decisiontreeclassifier__min_samples_split=10; total time=   0.6s\n",
      "[CV] END decisiontreeclassifier__max_depth=None, decisiontreeclassifier__min_samples_split=10; total time=   0.6s\n",
      "[CV] END decisiontreeclassifier__max_depth=5, decisiontreeclassifier__min_samples_split=10; total time=   0.3s\n",
      "[CV] END decisiontreeclassifier__max_depth=5, decisiontreeclassifier__min_samples_split=10; total time=   0.3s\n",
      "[CV] END decisiontreeclassifier__max_depth=5, decisiontreeclassifier__min_samples_split=10; total time=   0.3s\n",
      "[CV] END decisiontreeclassifier__max_depth=5, decisiontreeclassifier__min_samples_split=10; total time=   0.3s\n",
      "[CV] END decisiontreeclassifier__max_depth=7, decisiontreeclassifier__min_samples_split=5; total time=   0.3s\n",
      "[CV] END decisiontreeclassifier__max_depth=7, decisiontreeclassifier__min_samples_split=5; total time=   0.5s\n",
      "[CV] END decisiontreeclassifier__max_depth=7, decisiontreeclassifier__min_samples_split=5; total time=   0.4s\n",
      "[CV] END decisiontreeclassifier__max_depth=7, decisiontreeclassifier__min_samples_split=5; total time=   0.4s\n",
      "[CV] END decisiontreeclassifier__max_depth=7, decisiontreeclassifier__min_samples_split=10; total time=   0.4s\n",
      "[CV] END decisiontreeclassifier__max_depth=7, decisiontreeclassifier__min_samples_split=5; total time=   0.4s\n",
      "[CV] END decisiontreeclassifier__max_depth=7, decisiontreeclassifier__min_samples_split=10; total time=   0.4s\n",
      "[CV] END decisiontreeclassifier__max_depth=7, decisiontreeclassifier__min_samples_split=10; total time=   0.4s\n",
      "[CV] END decisiontreeclassifier__max_depth=7, decisiontreeclassifier__min_samples_split=10; total time=   0.3s\n",
      "[CV] END decisiontreeclassifier__max_depth=7, decisiontreeclassifier__min_samples_split=10; total time=   0.3s\n",
      "{'decisiontreeclassifier__max_depth': 7, 'decisiontreeclassifier__min_samples_split': 5}\n",
      "0.5410026369034453\n"
     ]
    }
   ],
   "source": [
    "# grid search\n",
    "dt_pipeline = make_pipeline(processor, DecisionTreeClassifier())\n",
    "param_grid_dt = {'decisiontreeclassifier__max_depth': [None, 5, 7],\n",
    "                 'decisiontreeclassifier__min_samples_split': [5, 10]}\n",
    "clf_dt = GridSearchCV(dt_pipeline, param_grid_dt, cv=5, n_jobs=-1, verbose=2, scoring=pr_auc_scorer)\n",
    "clf_dt.fit(X_train, y_train)\n",
    "\n",
    "print(clf_dt.best_params_)\n",
    "print(clf_dt.best_score_)"
   ]
  },
  {
   "cell_type": "markdown",
   "id": "70f6eba4",
   "metadata": {},
   "source": [
    "## Random Forest"
   ]
  },
  {
   "cell_type": "code",
   "execution_count": 47,
   "id": "17769a8d",
   "metadata": {},
   "outputs": [
    {
     "name": "stdout",
     "output_type": "stream",
     "text": [
      "Fitting 5 folds for each of 6 candidates, totalling 30 fits\n"
     ]
    },
    {
     "name": "stdout",
     "output_type": "stream",
     "text": [
      "[CV] END randomforestclassifier__max_depth=None, randomforestclassifier__n_estimators=200; total time=  10.1s\n",
      "[CV] END randomforestclassifier__max_depth=None, randomforestclassifier__n_estimators=200; total time=  10.6s\n",
      "[CV] END randomforestclassifier__max_depth=None, randomforestclassifier__n_estimators=200; total time=  10.7s\n",
      "[CV] END randomforestclassifier__max_depth=None, randomforestclassifier__n_estimators=200; total time=  10.9s\n",
      "[CV] END randomforestclassifier__max_depth=None, randomforestclassifier__n_estimators=200; total time=  11.7s\n",
      "[CV] END randomforestclassifier__max_depth=None, randomforestclassifier__n_estimators=400; total time=  21.3s\n",
      "[CV] END randomforestclassifier__max_depth=None, randomforestclassifier__n_estimators=400; total time=  21.3s\n",
      "[CV] END randomforestclassifier__max_depth=None, randomforestclassifier__n_estimators=400; total time=  22.1s\n",
      "[CV] END randomforestclassifier__max_depth=3, randomforestclassifier__n_estimators=200; total time=   4.1s\n",
      "[CV] END randomforestclassifier__max_depth=3, randomforestclassifier__n_estimators=200; total time=   4.2s\n",
      "[CV] END randomforestclassifier__max_depth=None, randomforestclassifier__n_estimators=400; total time=  20.5s\n",
      "[CV] END randomforestclassifier__max_depth=None, randomforestclassifier__n_estimators=400; total time=  22.0s\n",
      "[CV] END randomforestclassifier__max_depth=3, randomforestclassifier__n_estimators=200; total time=   4.0s\n",
      "[CV] END randomforestclassifier__max_depth=3, randomforestclassifier__n_estimators=200; total time=   4.3s\n",
      "[CV] END randomforestclassifier__max_depth=3, randomforestclassifier__n_estimators=200; total time=   4.0s\n",
      "[CV] END randomforestclassifier__max_depth=None, randomforestclassifier__n_estimators=500; total time=  27.2s\n",
      "[CV] END randomforestclassifier__max_depth=None, randomforestclassifier__n_estimators=500; total time=  27.2s\n",
      "[CV] END randomforestclassifier__max_depth=None, randomforestclassifier__n_estimators=500; total time=  27.6s\n",
      "[CV] END randomforestclassifier__max_depth=3, randomforestclassifier__n_estimators=400; total time=   8.0s\n",
      "[CV] END randomforestclassifier__max_depth=3, randomforestclassifier__n_estimators=400; total time=   8.4s\n",
      "[CV] END randomforestclassifier__max_depth=3, randomforestclassifier__n_estimators=400; total time=   8.1s\n",
      "[CV] END randomforestclassifier__max_depth=3, randomforestclassifier__n_estimators=400; total time=   8.3s\n",
      "[CV] END randomforestclassifier__max_depth=3, randomforestclassifier__n_estimators=400; total time=   9.0s\n",
      "[CV] END randomforestclassifier__max_depth=None, randomforestclassifier__n_estimators=500; total time=  26.6s\n",
      "[CV] END randomforestclassifier__max_depth=None, randomforestclassifier__n_estimators=500; total time=  27.0s\n",
      "[CV] END randomforestclassifier__max_depth=3, randomforestclassifier__n_estimators=500; total time=  10.0s\n",
      "[CV] END randomforestclassifier__max_depth=3, randomforestclassifier__n_estimators=500; total time=   9.7s\n",
      "[CV] END randomforestclassifier__max_depth=3, randomforestclassifier__n_estimators=500; total time=   9.4s\n",
      "[CV] END randomforestclassifier__max_depth=3, randomforestclassifier__n_estimators=500; total time=   9.0s\n",
      "[CV] END randomforestclassifier__max_depth=3, randomforestclassifier__n_estimators=500; total time=   8.3s\n",
      "{'randomforestclassifier__max_depth': None, 'randomforestclassifier__n_estimators': 500}\n",
      "0.7278655834828991\n"
     ]
    }
   ],
   "source": [
    "# grid search\n",
    "rf_pipeline = make_pipeline(processor, RandomForestClassifier())\n",
    "param_grid_rf = {'randomforestclassifier__n_estimators': [200, 400, 500],\n",
    "                 'randomforestclassifier__max_depth': [None, 3]}\n",
    "clf_rf = GridSearchCV(rf_pipeline, param_grid_rf, cv=5, n_jobs=-1, verbose=2, scoring=pr_auc_scorer)\n",
    "clf_rf.fit(X_train, y_train)\n",
    "\n",
    "print(clf_rf.best_params_)\n",
    "print(clf_rf.best_score_)"
   ]
  },
  {
   "cell_type": "markdown",
   "id": "7563945d",
   "metadata": {},
   "source": [
    "## XGBoost"
   ]
  },
  {
   "cell_type": "code",
   "execution_count": 48,
   "id": "42b7aa6c",
   "metadata": {},
   "outputs": [
    {
     "name": "stdout",
     "output_type": "stream",
     "text": [
      "Fitting 5 folds for each of 8 candidates, totalling 40 fits\n"
     ]
    },
    {
     "name": "stdout",
     "output_type": "stream",
     "text": [
      "[CV] END xgbclassifier__learning_rate=0.01, xgbclassifier__max_depth=3, xgbclassifier__n_estimators=100; total time=   0.7s\n",
      "[CV] END xgbclassifier__learning_rate=0.01, xgbclassifier__max_depth=3, xgbclassifier__n_estimators=100; total time=   0.7s\n",
      "[CV] END xgbclassifier__learning_rate=0.01, xgbclassifier__max_depth=3, xgbclassifier__n_estimators=100; total time=   0.8s\n",
      "[CV] END xgbclassifier__learning_rate=0.01, xgbclassifier__max_depth=3, xgbclassifier__n_estimators=100; total time=   0.8s\n",
      "[CV] END xgbclassifier__learning_rate=0.01, xgbclassifier__max_depth=3, xgbclassifier__n_estimators=100; total time=   0.8s\n",
      "[CV] END xgbclassifier__learning_rate=0.01, xgbclassifier__max_depth=3, xgbclassifier__n_estimators=300; total time=   1.4s\n",
      "[CV] END xgbclassifier__learning_rate=0.01, xgbclassifier__max_depth=3, xgbclassifier__n_estimators=300; total time=   1.5s\n",
      "[CV] END xgbclassifier__learning_rate=0.01, xgbclassifier__max_depth=3, xgbclassifier__n_estimators=300; total time=   1.7s\n",
      "[CV] END xgbclassifier__learning_rate=0.01, xgbclassifier__max_depth=3, xgbclassifier__n_estimators=300; total time=   1.5s\n",
      "[CV] END xgbclassifier__learning_rate=0.01, xgbclassifier__max_depth=3, xgbclassifier__n_estimators=300; total time=   1.6s\n",
      "[CV] END xgbclassifier__learning_rate=0.01, xgbclassifier__max_depth=7, xgbclassifier__n_estimators=100; total time=   2.1s\n",
      "[CV] END xgbclassifier__learning_rate=0.01, xgbclassifier__max_depth=7, xgbclassifier__n_estimators=100; total time=   2.2s\n",
      "[CV] END xgbclassifier__learning_rate=0.01, xgbclassifier__max_depth=7, xgbclassifier__n_estimators=100; total time=   2.4s\n",
      "[CV] END xgbclassifier__learning_rate=0.01, xgbclassifier__max_depth=7, xgbclassifier__n_estimators=100; total time=   2.2s\n",
      "[CV] END xgbclassifier__learning_rate=0.1, xgbclassifier__max_depth=3, xgbclassifier__n_estimators=100; total time=   0.7s\n",
      "[CV] END xgbclassifier__learning_rate=0.01, xgbclassifier__max_depth=7, xgbclassifier__n_estimators=100; total time=   2.4s\n",
      "[CV] END xgbclassifier__learning_rate=0.1, xgbclassifier__max_depth=3, xgbclassifier__n_estimators=100; total time=   0.6s\n",
      "[CV] END xgbclassifier__learning_rate=0.1, xgbclassifier__max_depth=3, xgbclassifier__n_estimators=100; total time=   0.6s\n",
      "[CV] END xgbclassifier__learning_rate=0.1, xgbclassifier__max_depth=3, xgbclassifier__n_estimators=100; total time=   0.6s\n",
      "[CV] END xgbclassifier__learning_rate=0.1, xgbclassifier__max_depth=3, xgbclassifier__n_estimators=100; total time=   0.6s\n",
      "[CV] END xgbclassifier__learning_rate=0.1, xgbclassifier__max_depth=3, xgbclassifier__n_estimators=300; total time=   1.3s\n",
      "[CV] END xgbclassifier__learning_rate=0.1, xgbclassifier__max_depth=3, xgbclassifier__n_estimators=300; total time=   1.4s\n",
      "[CV] END xgbclassifier__learning_rate=0.1, xgbclassifier__max_depth=3, xgbclassifier__n_estimators=300; total time=   1.4s\n",
      "[CV] END xgbclassifier__learning_rate=0.1, xgbclassifier__max_depth=3, xgbclassifier__n_estimators=300; total time=   1.3s\n",
      "[CV] END xgbclassifier__learning_rate=0.1, xgbclassifier__max_depth=3, xgbclassifier__n_estimators=300; total time=   1.4s\n",
      "[CV] END xgbclassifier__learning_rate=0.01, xgbclassifier__max_depth=7, xgbclassifier__n_estimators=300; total time=   5.6s\n",
      "[CV] END xgbclassifier__learning_rate=0.01, xgbclassifier__max_depth=7, xgbclassifier__n_estimators=300; total time=   5.6s\n",
      "[CV] END xgbclassifier__learning_rate=0.01, xgbclassifier__max_depth=7, xgbclassifier__n_estimators=300; total time=   6.2s\n",
      "[CV] END xgbclassifier__learning_rate=0.1, xgbclassifier__max_depth=7, xgbclassifier__n_estimators=100; total time=   1.8s\n",
      "[CV] END xgbclassifier__learning_rate=0.01, xgbclassifier__max_depth=7, xgbclassifier__n_estimators=300; total time=   5.5s\n",
      "[CV] END xgbclassifier__learning_rate=0.01, xgbclassifier__max_depth=7, xgbclassifier__n_estimators=300; total time=   5.4s\n",
      "[CV] END xgbclassifier__learning_rate=0.1, xgbclassifier__max_depth=7, xgbclassifier__n_estimators=100; total time=   1.7s\n",
      "[CV] END xgbclassifier__learning_rate=0.1, xgbclassifier__max_depth=7, xgbclassifier__n_estimators=100; total time=   1.7s\n",
      "[CV] END xgbclassifier__learning_rate=0.1, xgbclassifier__max_depth=7, xgbclassifier__n_estimators=100; total time=   1.6s\n",
      "[CV] END xgbclassifier__learning_rate=0.1, xgbclassifier__max_depth=7, xgbclassifier__n_estimators=100; total time=   1.6s\n",
      "[CV] END xgbclassifier__learning_rate=0.1, xgbclassifier__max_depth=7, xgbclassifier__n_estimators=300; total time=   3.5s\n",
      "[CV] END xgbclassifier__learning_rate=0.1, xgbclassifier__max_depth=7, xgbclassifier__n_estimators=300; total time=   3.2s\n",
      "[CV] END xgbclassifier__learning_rate=0.1, xgbclassifier__max_depth=7, xgbclassifier__n_estimators=300; total time=   3.3s\n",
      "[CV] END xgbclassifier__learning_rate=0.1, xgbclassifier__max_depth=7, xgbclassifier__n_estimators=300; total time=   4.0s\n",
      "[CV] END xgbclassifier__learning_rate=0.1, xgbclassifier__max_depth=7, xgbclassifier__n_estimators=300; total time=   3.5s\n",
      "{'xgbclassifier__learning_rate': 0.1, 'xgbclassifier__max_depth': 7, 'xgbclassifier__n_estimators': 300}\n",
      "0.7267917000074123\n"
     ]
    }
   ],
   "source": [
    "xgb_pipeline = make_pipeline(processor, XGBClassifier())\n",
    "param_grid_xgb = {'xgbclassifier__n_estimators': [100, 300],\n",
    "                  'xgbclassifier__max_depth': [3, 7],\n",
    "                  'xgbclassifier__learning_rate': [0.01, 0.1]}\n",
    "clf_xgb = GridSearchCV(xgb_pipeline, param_grid_xgb, cv=5, n_jobs=-1, verbose=2, scoring=pr_auc_scorer)\n",
    "clf_xgb.fit(X_train, y_train)\n",
    "\n",
    "print(clf_xgb.best_params_)\n",
    "print(clf_xgb.best_score_)"
   ]
  },
  {
   "cell_type": "markdown",
   "id": "0bdeb9b5",
   "metadata": {},
   "source": [
    "## Compare classifiers"
   ]
  },
  {
   "cell_type": "code",
   "execution_count": 49,
   "id": "f02e4625",
   "metadata": {},
   "outputs": [],
   "source": [
    "# helper function to evaluate models and print metrics\n",
    "def evaluate_model(model, X_train, y_train, X_test, y_test):\n",
    "    # predict\n",
    "    y_train_pred = model.predict(X_train)\n",
    "    y_test_pred = model.predict(X_test)\n",
    "\n",
    "    # predict proba for PR-AUC\n",
    "    y_train_prob = model.predict_proba(X_train)[:, 1]\n",
    "    y_test_prob = model.predict_proba(X_test)[:, 1]\n",
    "\n",
    "    # precision\n",
    "    train_precision = precision_score(y_train, y_train_pred)\n",
    "    test_precision = precision_score(y_test, y_test_pred)\n",
    "\n",
    "    # recall\n",
    "    train_recall = recall_score(y_train, y_train_pred)\n",
    "    test_recall = recall_score(y_test, y_test_pred)\n",
    "\n",
    "    # PR-AUC\n",
    "    train_pr_auc = average_precision_score(y_train, y_train_prob)\n",
    "    test_pr_auc = average_precision_score(y_test, y_test_prob)\n",
    "\n",
    "    print(f\"Model: {model.steps[-1][0]}\")\n",
    "    print(f\"Train Precision: {train_precision:.4f}, Recall: {train_recall:.4f}, PR-AUC: {train_pr_auc:.4f}\")\n",
    "    print(f\"Test Precision: {test_precision:.4f}, Recall: {test_recall:.4f}, PR-AUC: {test_pr_auc:.4f}\\n\")\n",
    "    print(30 * \"*\")"
   ]
  },
  {
   "cell_type": "markdown",
   "id": "42593955",
   "metadata": {},
   "source": [
    "Let's compare all the previous classifiers using a PR curve."
   ]
  },
  {
   "cell_type": "code",
   "execution_count": 50,
   "id": "e2eb1cd3",
   "metadata": {},
   "outputs": [
    {
     "name": "stdout",
     "output_type": "stream",
     "text": [
      "Model: logisticregression\n",
      "Train Precision: 0.6317, Recall: 0.3630, PR-AUC: 0.5741\n",
      "Test Precision: 0.5876, Recall: 0.3133, PR-AUC: 0.5186\n",
      "\n",
      "******************************\n",
      "Model: svc\n",
      "Train Precision: 0.7396, Recall: 0.3155, PR-AUC: 0.6470\n",
      "Test Precision: 0.6654, Recall: 0.2575, PR-AUC: 0.5775\n",
      "\n",
      "******************************\n",
      "Model: decisiontreeclassifier\n",
      "Train Precision: 0.6461, Recall: 0.4804, PR-AUC: 0.6056\n",
      "Test Precision: 0.6295, Recall: 0.4247, PR-AUC: 0.5521\n",
      "\n",
      "******************************\n",
      "Model: randomforestclassifier\n",
      "Train Precision: 1.0000, Recall: 1.0000, PR-AUC: 1.0000\n",
      "Test Precision: 0.7797, Recall: 0.4744, PR-AUC: 0.7268\n",
      "\n",
      "******************************\n",
      "Model: xgbclassifier\n",
      "Train Precision: 1.0000, Recall: 0.9955, PR-AUC: 1.0000\n",
      "Test Precision: 0.7515, Recall: 0.5557, PR-AUC: 0.7519\n",
      "\n",
      "******************************\n"
     ]
    },
    {
     "data": {
      "image/png": "[encoded data removed]",
      "text/plain": [
       "<Figure size 1000x600 with 1 Axes>"
      ]
     },
     "metadata": {},
     "output_type": "display_data"
    }
   ],
   "source": [
    "# classifiers\n",
    "lr_classifier = make_pipeline(processor, LogisticRegression(max_iter=1000, C=1000))\n",
    "svm_classifier = make_pipeline(processor, SVC(C=10, gamma=0.1, probability=True))\n",
    "dt_classifier = make_pipeline(processor, DecisionTreeClassifier(**{'max_depth': 5, 'min_samples_split': 10}))\n",
    "rf_classifier = make_pipeline(processor, RandomForestClassifier(**{'max_depth': None, 'n_estimators': 400}))\n",
    "xgb_classifier = make_pipeline(processor, XGBClassifier(**{'learning_rate': 0.1, 'max_depth': 7, 'n_estimators': 300}))\n",
    "\n",
    "# fit\n",
    "lr_classifier.fit(X_train, y_train)\n",
    "svm_classifier.fit(X_train, y_train)\n",
    "dt_classifier.fit(X_train, y_train)\n",
    "rf_classifier.fit(X_train, y_train)\n",
    "xgb_classifier.fit(X_train, y_train)\n",
    "\n",
    "# print metrics\n",
    "evaluate_model(lr_classifier, X_train, y_train, X_test, y_test)\n",
    "evaluate_model(svm_classifier, X_train, y_train, X_test, y_test)\n",
    "evaluate_model(dt_classifier, X_train, y_train, X_test, y_test)\n",
    "evaluate_model(rf_classifier, X_train, y_train, X_test, y_test)\n",
    "evaluate_model(xgb_classifier, X_train, y_train, X_test, y_test)\n",
    "\n",
    "# plot PR curves\n",
    "plt.figure(figsize=(10, 6))\n",
    "\n",
    "# Logistic Regression\n",
    "PrecisionRecallDisplay.from_estimator(lr_classifier, X_test, y_test, name=\"Logistic Regression\", ax=plt.gca())\n",
    "\n",
    "# SVM\n",
    "PrecisionRecallDisplay.from_estimator(svm_classifier, X_test, y_test, name=\"SVM\", ax=plt.gca())\n",
    "\n",
    "# Decision Tree\n",
    "PrecisionRecallDisplay.from_estimator(dt_classifier, X_test, y_test, name=\"Decision Tree\", ax=plt.gca())\n",
    "\n",
    "# Random Forest\n",
    "PrecisionRecallDisplay.from_estimator(rf_classifier, X_test, y_test, name=\"Random Forest\", ax=plt.gca())\n",
    "\n",
    "# XGBoost\n",
    "PrecisionRecallDisplay.from_estimator(xgb_classifier, X_test, y_test, name=\"XGBoost\", ax=plt.gca())\n",
    "\n",
    "plt.title(\"Precision-Recall Curve: Comparing Classifiers\")\n",
    "plt.legend(loc=\"best\")\n",
    "plt.show()"
   ]
  },
  {
   "cell_type": "markdown",
   "id": "8111ce8a",
   "metadata": {},
   "source": [
    "These scores show that while on the train set we get high precision, recall and PR-AUC, the models suffer from an overfitting problem on test set with low metrics on the test set. The models have a very low recall on the test set, which indicates that the models are not very good at classifying the ignition class.\n",
    "\n",
    "On the Precision-Recall curve, we can see that all the models are far from the perfect score of (1, 1) which means that there is room for improvement. The best performing model is XGBoost with an average precision AP=0.75 then comes Random Forest with an AP=0.73."
   ]
  },
  {
   "cell_type": "markdown",
   "id": "9b58059d",
   "metadata": {},
   "source": [
    "## Impute yearly_avg_temp"
   ]
  },
  {
   "cell_type": "markdown",
   "id": "f4d1f8af",
   "metadata": {},
   "source": [
    "By imputing the yearly_avg_temp with the most recent knwon value and retraining all the models, we do not notice any improvements and it slightly degrades the performance of XGBoost. So dropping this column is better."
   ]
  },
  {
   "cell_type": "markdown",
   "id": "051f7042",
   "metadata": {},
   "source": [
    "# Prediction"
   ]
  },
  {
   "cell_type": "markdown",
   "id": "74ab0bf0",
   "metadata": {},
   "source": [
    "Here is how we can perform prediction on a new dataset that has the same columns expected as features."
   ]
  },
  {
   "cell_type": "code",
   "execution_count": 51,
   "id": "28f9e48d",
   "metadata": {},
   "outputs": [],
   "source": [
    "def predict_ignition(model, dataframe):\n",
    "    \"\"\"Predict the ignition probability.\"\"\"\n",
    "    # predict\n",
    "    probabilities = model.predict_proba(dataframe)\n",
    "\n",
    "    # create a DataFrame with the prediction probabilities\n",
    "    pred_df = pd.DataFrame(probabilities[:, 1], columns=['ignition'])\n",
    "    return pred_df"
   ]
  },
  {
   "cell_type": "code",
   "execution_count": 52,
   "id": "560202ee",
   "metadata": {},
   "outputs": [
    {
     "data": {
      "text/html": [
       "<style>#sk-container-id-3 {color: black;background-color: white;}#sk-container-id-3 pre{padding: 0;}#sk-container-id-3 div.sk-toggleable {background-color: white;}#sk-container-id-3 label.sk-toggleable__label {cursor: pointer;display: block;width: 100%;margin-bottom: 0;padding: 0.3em;box-sizing: border-box;text-align: center;}#sk-container-id-3 label.sk-toggleable__label-arrow:before {content: \"▸\";float: left;margin-right: 0.25em;color: #696969;}#sk-container-id-3 label.sk-toggleable__label-arrow:hover:before {color: black;}#sk-container-id-3 div.sk-estimator:hover label.sk-toggleable__label-arrow:before {color: black;}#sk-container-id-3 div.sk-toggleable__content {max-height: 0;max-width: 0;overflow: hidden;text-align: left;background-color: #f0f8ff;}#sk-container-id-3 div.sk-toggleable__content pre {margin: 0.2em;color: black;border-radius: 0.25em;background-color: #f0f8ff;}#sk-container-id-3 input.sk-toggleable__control:checked~div.sk-toggleable__content {max-height: 200px;max-width: 100%;overflow: auto;}#sk-container-id-3 input.sk-toggleable__control:checked~label.sk-toggleable__label-arrow:before {content: \"▾\";}#sk-container-id-3 div.sk-estimator input.sk-toggleable__control:checked~label.sk-toggleable__label {background-color: #d4ebff;}#sk-container-id-3 div.sk-label input.sk-toggleable__control:checked~label.sk-toggleable__label {background-color: #d4ebff;}#sk-container-id-3 input.sk-hidden--visually {border: 0;clip: rect(1px 1px 1px 1px);clip: rect(1px, 1px, 1px, 1px);height: 1px;margin: -1px;overflow: hidden;padding: 0;position: absolute;width: 1px;}#sk-container-id-3 div.sk-estimator {font-family: monospace;background-color: #f0f8ff;border: 1px dotted black;border-radius: 0.25em;box-sizing: border-box;margin-bottom: 0.5em;}#sk-container-id-3 div.sk-estimator:hover {background-color: #d4ebff;}#sk-container-id-3 div.sk-parallel-item::after {content: \"\";width: 100%;border-bottom: 1px solid gray;flex-grow: 1;}#sk-container-id-3 div.sk-label:hover label.sk-toggleable__label {background-color: #d4ebff;}#sk-container-id-3 div.sk-serial::before {content: \"\";position: absolute;border-left: 1px solid gray;box-sizing: border-box;top: 0;bottom: 0;left: 50%;z-index: 0;}#sk-container-id-3 div.sk-serial {display: flex;flex-direction: column;align-items: center;background-color: white;padding-right: 0.2em;padding-left: 0.2em;position: relative;}#sk-container-id-3 div.sk-item {position: relative;z-index: 1;}#sk-container-id-3 div.sk-parallel {display: flex;align-items: stretch;justify-content: center;background-color: white;position: relative;}#sk-container-id-3 div.sk-item::before, #sk-container-id-3 div.sk-parallel-item::before {content: \"\";position: absolute;border-left: 1px solid gray;box-sizing: border-box;top: 0;bottom: 0;left: 50%;z-index: -1;}#sk-container-id-3 div.sk-parallel-item {display: flex;flex-direction: column;z-index: 1;position: relative;background-color: white;}#sk-container-id-3 div.sk-parallel-item:first-child::after {align-self: flex-end;width: 50%;}#sk-container-id-3 div.sk-parallel-item:last-child::after {align-self: flex-start;width: 50%;}#sk-container-id-3 div.sk-parallel-item:only-child::after {width: 0;}#sk-container-id-3 div.sk-dashed-wrapped {border: 1px dashed gray;margin: 0 0.4em 0.5em 0.4em;box-sizing: border-box;padding-bottom: 0.4em;background-color: white;}#sk-container-id-3 div.sk-label label {font-family: monospace;font-weight: bold;display: inline-block;line-height: 1.2em;}#sk-container-id-3 div.sk-label-container {text-align: center;}#sk-container-id-3 div.sk-container {/* jupyter's `normalize.less` sets `[hidden] { display: none; }` but bootstrap.min.css set `[hidden] { display: none !important; }` so we also need the `!important` here to be able to override the default hidden behavior on the sphinx rendered scikit-learn.org. See: https://github.com/scikit-learn/scikit-learn/issues/21755 */display: inline-block !important;position: relative;}#sk-container-id-3 div.sk-text-repr-fallback {display: none;}</style><div id=\"sk-container-id-3\" class=\"sk-top-container\"><div class=\"sk-text-repr-fallback\"><pre>Pipeline(steps=[(&#x27;columntransformer&#x27;,\n",
       "                 ColumnTransformer(transformers=[(&#x27;pipeline-1&#x27;,\n",
       "                                                  Pipeline(steps=[(&#x27;minmaxscaler&#x27;,\n",
       "                                                                   MinMaxScaler())]),\n",
       "                                                  &lt;sklearn.compose._column_transformer.make_column_selector object at 0x7faafb877b50&gt;),\n",
       "                                                 (&#x27;pipeline-2&#x27;,\n",
       "                                                  Pipeline(steps=[(&#x27;onehotencoder&#x27;,\n",
       "                                                                   OneHotEncoder(drop=&#x27;if_binary&#x27;,\n",
       "                                                                                 handle_unknown=&#x27;ignore&#x27;,\n",
       "                                                                                 sparse=False))]),\n",
       "                                                  &lt;sklearn.compose...\n",
       "                               feature_types=None, gamma=None, grow_policy=None,\n",
       "                               importance_type=None,\n",
       "                               interaction_constraints=None, learning_rate=0.1,\n",
       "                               max_bin=None, max_cat_threshold=None,\n",
       "                               max_cat_to_onehot=None, max_delta_step=None,\n",
       "                               max_depth=7, max_leaves=None,\n",
       "                               min_child_weight=None, missing=nan,\n",
       "                               monotone_constraints=None, multi_strategy=None,\n",
       "                               n_estimators=300, n_jobs=None,\n",
       "                               num_parallel_tree=None, random_state=None, ...))])</pre><b>In a Jupyter environment, please rerun this cell to show the HTML representation or trust the notebook. <br />On GitHub, the HTML representation is unable to render, please try loading this page with nbviewer.org.</b></div><div class=\"sk-container\" hidden><div class=\"sk-item sk-dashed-wrapped\"><div class=\"sk-label-container\"><div class=\"sk-label sk-toggleable\"><input class=\"sk-toggleable__control sk-hidden--visually\" id=\"sk-estimator-id-13\" type=\"checkbox\" ><label for=\"sk-estimator-id-13\" class=\"sk-toggleable__label sk-toggleable__label-arrow\">Pipeline</label><div class=\"sk-toggleable__content\"><pre>Pipeline(steps=[(&#x27;columntransformer&#x27;,\n",
       "                 ColumnTransformer(transformers=[(&#x27;pipeline-1&#x27;,\n",
       "                                                  Pipeline(steps=[(&#x27;minmaxscaler&#x27;,\n",
       "                                                                   MinMaxScaler())]),\n",
       "                                                  &lt;sklearn.compose._column_transformer.make_column_selector object at 0x7faafb877b50&gt;),\n",
       "                                                 (&#x27;pipeline-2&#x27;,\n",
       "                                                  Pipeline(steps=[(&#x27;onehotencoder&#x27;,\n",
       "                                                                   OneHotEncoder(drop=&#x27;if_binary&#x27;,\n",
       "                                                                                 handle_unknown=&#x27;ignore&#x27;,\n",
       "                                                                                 sparse=False))]),\n",
       "                                                  &lt;sklearn.compose...\n",
       "                               feature_types=None, gamma=None, grow_policy=None,\n",
       "                               importance_type=None,\n",
       "                               interaction_constraints=None, learning_rate=0.1,\n",
       "                               max_bin=None, max_cat_threshold=None,\n",
       "                               max_cat_to_onehot=None, max_delta_step=None,\n",
       "                               max_depth=7, max_leaves=None,\n",
       "                               min_child_weight=None, missing=nan,\n",
       "                               monotone_constraints=None, multi_strategy=None,\n",
       "                               n_estimators=300, n_jobs=None,\n",
       "                               num_parallel_tree=None, random_state=None, ...))])</pre></div></div></div><div class=\"sk-serial\"><div class=\"sk-item sk-dashed-wrapped\"><div class=\"sk-label-container\"><div class=\"sk-label sk-toggleable\"><input class=\"sk-toggleable__control sk-hidden--visually\" id=\"sk-estimator-id-14\" type=\"checkbox\" ><label for=\"sk-estimator-id-14\" class=\"sk-toggleable__label sk-toggleable__label-arrow\">columntransformer: ColumnTransformer</label><div class=\"sk-toggleable__content\"><pre>ColumnTransformer(transformers=[(&#x27;pipeline-1&#x27;,\n",
       "                                 Pipeline(steps=[(&#x27;minmaxscaler&#x27;,\n",
       "                                                  MinMaxScaler())]),\n",
       "                                 &lt;sklearn.compose._column_transformer.make_column_selector object at 0x7faafb877b50&gt;),\n",
       "                                (&#x27;pipeline-2&#x27;,\n",
       "                                 Pipeline(steps=[(&#x27;onehotencoder&#x27;,\n",
       "                                                  OneHotEncoder(drop=&#x27;if_binary&#x27;,\n",
       "                                                                handle_unknown=&#x27;ignore&#x27;,\n",
       "                                                                sparse=False))]),\n",
       "                                 &lt;sklearn.compose._column_transformer.make_column_selector object at 0x7faafb8911e0&gt;)])</pre></div></div></div><div class=\"sk-parallel\"><div class=\"sk-parallel-item\"><div class=\"sk-item\"><div class=\"sk-label-container\"><div class=\"sk-label sk-toggleable\"><input class=\"sk-toggleable__control sk-hidden--visually\" id=\"sk-estimator-id-15\" type=\"checkbox\" ><label for=\"sk-estimator-id-15\" class=\"sk-toggleable__label sk-toggleable__label-arrow\">pipeline-1</label><div class=\"sk-toggleable__content\"><pre>&lt;sklearn.compose._column_transformer.make_column_selector object at 0x7faafb877b50&gt;</pre></div></div></div><div class=\"sk-serial\"><div class=\"sk-item\"><div class=\"sk-serial\"><div class=\"sk-item\"><div class=\"sk-estimator sk-toggleable\"><input class=\"sk-toggleable__control sk-hidden--visually\" id=\"sk-estimator-id-16\" type=\"checkbox\" ><label for=\"sk-estimator-id-16\" class=\"sk-toggleable__label sk-toggleable__label-arrow\">MinMaxScaler</label><div class=\"sk-toggleable__content\"><pre>MinMaxScaler()</pre></div></div></div></div></div></div></div></div><div class=\"sk-parallel-item\"><div class=\"sk-item\"><div class=\"sk-label-container\"><div class=\"sk-label sk-toggleable\"><input class=\"sk-toggleable__control sk-hidden--visually\" id=\"sk-estimator-id-17\" type=\"checkbox\" ><label for=\"sk-estimator-id-17\" class=\"sk-toggleable__label sk-toggleable__label-arrow\">pipeline-2</label><div class=\"sk-toggleable__content\"><pre>&lt;sklearn.compose._column_transformer.make_column_selector object at 0x7faafb8911e0&gt;</pre></div></div></div><div class=\"sk-serial\"><div class=\"sk-item\"><div class=\"sk-serial\"><div class=\"sk-item\"><div class=\"sk-estimator sk-toggleable\"><input class=\"sk-toggleable__control sk-hidden--visually\" id=\"sk-estimator-id-18\" type=\"checkbox\" ><label for=\"sk-estimator-id-18\" class=\"sk-toggleable__label sk-toggleable__label-arrow\">OneHotEncoder</label><div class=\"sk-toggleable__content\"><pre>OneHotEncoder(drop=&#x27;if_binary&#x27;, handle_unknown=&#x27;ignore&#x27;, sparse=False)</pre></div></div></div></div></div></div></div></div></div></div><div class=\"sk-item\"><div class=\"sk-estimator sk-toggleable\"><input class=\"sk-toggleable__control sk-hidden--visually\" id=\"sk-estimator-id-19\" type=\"checkbox\" ><label for=\"sk-estimator-id-19\" class=\"sk-toggleable__label sk-toggleable__label-arrow\">XGBClassifier</label><div class=\"sk-toggleable__content\"><pre>XGBClassifier(base_score=None, booster=None, callbacks=None,\n",
       "              colsample_bylevel=None, colsample_bynode=None,\n",
       "              colsample_bytree=None, device=None, early_stopping_rounds=None,\n",
       "              enable_categorical=False, eval_metric=None, feature_types=None,\n",
       "              gamma=None, grow_policy=None, importance_type=None,\n",
       "              interaction_constraints=None, learning_rate=0.1, max_bin=None,\n",
       "              max_cat_threshold=None, max_cat_to_onehot=None,\n",
       "              max_delta_step=None, max_depth=7, max_leaves=None,\n",
       "              min_child_weight=None, missing=nan, monotone_constraints=None,\n",
       "              multi_strategy=None, n_estimators=300, n_jobs=None,\n",
       "              num_parallel_tree=None, random_state=None, ...)</pre></div></div></div></div></div></div></div>"
      ],
      "text/plain": [
       "Pipeline(steps=[('columntransformer',\n",
       "                 ColumnTransformer(transformers=[('pipeline-1',\n",
       "                                                  Pipeline(steps=[('minmaxscaler',\n",
       "                                                                   MinMaxScaler())]),\n",
       "                                                  <sklearn.compose._column_transformer.make_column_selector object at 0x7faafb877b50>),\n",
       "                                                 ('pipeline-2',\n",
       "                                                  Pipeline(steps=[('onehotencoder',\n",
       "                                                                   OneHotEncoder(drop='if_binary',\n",
       "                                                                                 handle_unknown='ignore',\n",
       "                                                                                 sparse=False))]),\n",
       "                                                  <sklearn.compose...\n",
       "                               feature_types=None, gamma=None, grow_policy=None,\n",
       "                               importance_type=None,\n",
       "                               interaction_constraints=None, learning_rate=0.1,\n",
       "                               max_bin=None, max_cat_threshold=None,\n",
       "                               max_cat_to_onehot=None, max_delta_step=None,\n",
       "                               max_depth=7, max_leaves=None,\n",
       "                               min_child_weight=None, missing=nan,\n",
       "                               monotone_constraints=None, multi_strategy=None,\n",
       "                               n_estimators=300, n_jobs=None,\n",
       "                               num_parallel_tree=None, random_state=None, ...))])"
      ]
     },
     "execution_count": 52,
     "metadata": {},
     "output_type": "execute_result"
    }
   ],
   "source": [
    "xgb_classifier"
   ]
  },
  {
   "cell_type": "code",
   "execution_count": 53,
   "id": "1e862b9c",
   "metadata": {},
   "outputs": [],
   "source": [
    "# predict ignition\n",
    "predictions_df = predict_ignition(xgb_classifier, X_test)\n",
    "\n",
    "# write predictions to CSV\n",
    "# predictions_df.to_csv(\"./predictions.csv\", index=True)"
   ]
  },
  {
   "cell_type": "markdown",
   "id": "3c2a47ce",
   "metadata": {},
   "source": [
    "### Few last things"
   ]
  },
  {
   "cell_type": "markdown",
   "id": "12c4e16a",
   "metadata": {},
   "source": [
    "- Other normalization techniques could be used such as Robust Scaler.\n",
    "- We can also try feature engineering : in particular we can combine the month with other numerical features like monthly precipitation.\n",
    "- The Year column is treated as a continuous feature which might not be adapted."
   ]
  },
  {
   "cell_type": "markdown",
   "id": "6c50b0eb",
   "metadata": {},
   "source": []
  }
 ],
 "metadata": {
  "kernelspec": {
   "display_name": "dc",
   "language": "python",
   "name": "python3"
  },
  "language_info": {
   "codemirror_mode": {
    "name": "ipython",
    "version": 3
   },
   "file_extension": ".py",
   "mimetype": "text/x-python",
   "name": "python",
   "nbconvert_exporter": "python",
   "pygments_lexer": "ipython3",
   "version": "3.10.13"
  }
 },
 "nbformat": 4,
 "nbformat_minor": 5
}
