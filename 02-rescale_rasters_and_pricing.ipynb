{
 "cells": [
  {
   "cell_type": "markdown",
   "metadata": {},
   "source": [
    "# Pricing : excess of rain cover"
   ]
  },
  {
   "cell_type": "code",
   "execution_count": 1,
   "metadata": {},
   "outputs": [
    {
     "data": {
      "application/javascript": "\n            setTimeout(function() {\n                var nbb_cell_id = 1;\n                var nbb_unformatted_code = \"%load_ext nb_black\\nfrom pathlib import Path\\nimport pandas as pd\\nimport numpy as np\\nimport xarray as xr\\nfrom numpy.testing import assert_allclose\\nimport matplotlib.pyplot as plt\\n\\n%reload_ext autoreload\\n%autoreload 2\";\n                var nbb_formatted_code = \"%load_ext nb_black\\nfrom pathlib import Path\\nimport pandas as pd\\nimport numpy as np\\nimport xarray as xr\\nfrom numpy.testing import assert_allclose\\nimport matplotlib.pyplot as plt\\n\\n%reload_ext autoreload\\n%autoreload 2\";\n                var nbb_cells = Jupyter.notebook.get_cells();\n                for (var i = 0; i < nbb_cells.length; ++i) {\n                    if (nbb_cells[i].input_prompt_number == nbb_cell_id) {\n                        if (nbb_cells[i].get_text() == nbb_unformatted_code) {\n                             nbb_cells[i].set_text(nbb_formatted_code);\n                        }\n                        break;\n                    }\n                }\n            }, 500);\n            ",
      "text/plain": [
       "<IPython.core.display.Javascript object>"
      ]
     },
     "metadata": {},
     "output_type": "display_data"
    }
   ],
   "source": [
    "%load_ext nb_black\n",
    "from pathlib import Path\n",
    "import pandas as pd\n",
    "import numpy as np\n",
    "import xarray as xr\n",
    "from numpy.testing import assert_allclose\n",
    "import matplotlib.pyplot as plt\n",
    "\n",
    "%reload_ext autoreload\n",
    "%autoreload 2"
   ]
  },
  {
   "cell_type": "markdown",
   "metadata": {},
   "source": [
    "# Context"
   ]
  },
  {
   "cell_type": "markdown",
   "metadata": {},
   "source": [
    "A client is looking to be covered against excess of rain.\n",
    "\n",
    "You will first manipulate rasters and then use historical data to understand the risk."
   ]
  },
  {
   "cell_type": "markdown",
   "metadata": {},
   "source": [
    "# 1. Parameters"
   ]
  },
  {
   "cell_type": "code",
   "execution_count": 2,
   "metadata": {},
   "outputs": [
    {
     "data": {
      "application/javascript": "\n            setTimeout(function() {\n                var nbb_cell_id = 2;\n                var nbb_unformatted_code = \"DATA_PATH = Path(\\\"data\\\")\\nRASTERS_PATH = DATA_PATH / \\\"rasters\\\"\";\n                var nbb_formatted_code = \"DATA_PATH = Path(\\\"data\\\")\\nRASTERS_PATH = DATA_PATH / \\\"rasters\\\"\";\n                var nbb_cells = Jupyter.notebook.get_cells();\n                for (var i = 0; i < nbb_cells.length; ++i) {\n                    if (nbb_cells[i].input_prompt_number == nbb_cell_id) {\n                        if (nbb_cells[i].get_text() == nbb_unformatted_code) {\n                             nbb_cells[i].set_text(nbb_formatted_code);\n                        }\n                        break;\n                    }\n                }\n            }, 500);\n            ",
      "text/plain": [
       "<IPython.core.display.Javascript object>"
      ]
     },
     "metadata": {},
     "output_type": "display_data"
    }
   ],
   "source": [
    "DATA_PATH = Path(\"data\")\n",
    "RASTERS_PATH = DATA_PATH / \"rasters\""
   ]
  },
  {
   "cell_type": "markdown",
   "metadata": {},
   "source": [
    "# 2. Data"
   ]
  },
  {
   "cell_type": "markdown",
   "metadata": {},
   "source": [
    "## 2.1 Load data"
   ]
  },
  {
   "cell_type": "code",
   "execution_count": 3,
   "metadata": {},
   "outputs": [
    {
     "data": {
      "application/javascript": "\n            setTimeout(function() {\n                var nbb_cell_id = 3;\n                var nbb_unformatted_code = \"vegetation_path = RASTERS_PATH / \\\"vegetation.nc\\\"\\nprecipitation_path = RASTERS_PATH / \\\"precipitation.nc\\\"\";\n                var nbb_formatted_code = \"vegetation_path = RASTERS_PATH / \\\"vegetation.nc\\\"\\nprecipitation_path = RASTERS_PATH / \\\"precipitation.nc\\\"\";\n                var nbb_cells = Jupyter.notebook.get_cells();\n                for (var i = 0; i < nbb_cells.length; ++i) {\n                    if (nbb_cells[i].input_prompt_number == nbb_cell_id) {\n                        if (nbb_cells[i].get_text() == nbb_unformatted_code) {\n                             nbb_cells[i].set_text(nbb_formatted_code);\n                        }\n                        break;\n                    }\n                }\n            }, 500);\n            ",
      "text/plain": [
       "<IPython.core.display.Javascript object>"
      ]
     },
     "metadata": {},
     "output_type": "display_data"
    }
   ],
   "source": [
    "vegetation_path = RASTERS_PATH / \"vegetation.nc\"\n",
    "precipitation_path = RASTERS_PATH / \"precipitation.nc\""
   ]
  },
  {
   "cell_type": "code",
   "execution_count": 4,
   "metadata": {},
   "outputs": [
    {
     "data": {
      "application/javascript": "\n            setTimeout(function() {\n                var nbb_cell_id = 4;\n                var nbb_unformatted_code = \"vegetation_xr = xr.load_dataset(vegetation_path)\\nprecipitation_xr = xr.load_dataset(precipitation_path)\";\n                var nbb_formatted_code = \"vegetation_xr = xr.load_dataset(vegetation_path)\\nprecipitation_xr = xr.load_dataset(precipitation_path)\";\n                var nbb_cells = Jupyter.notebook.get_cells();\n                for (var i = 0; i < nbb_cells.length; ++i) {\n                    if (nbb_cells[i].input_prompt_number == nbb_cell_id) {\n                        if (nbb_cells[i].get_text() == nbb_unformatted_code) {\n                             nbb_cells[i].set_text(nbb_formatted_code);\n                        }\n                        break;\n                    }\n                }\n            }, 500);\n            ",
      "text/plain": [
       "<IPython.core.display.Javascript object>"
      ]
     },
     "metadata": {},
     "output_type": "display_data"
    }
   ],
   "source": [
    "vegetation_xr = xr.load_dataset(vegetation_path)\n",
    "precipitation_xr = xr.load_dataset(precipitation_path)"
   ]
  },
  {
   "cell_type": "markdown",
   "metadata": {},
   "source": [
    "## 2.2 Visualize data"
   ]
  },
  {
   "cell_type": "markdown",
   "metadata": {},
   "source": [
    "Let's look at the coordinates values:"
   ]
  },
  {
   "cell_type": "code",
   "execution_count": 5,
   "metadata": {},
   "outputs": [
    {
     "name": "stdout",
     "output_type": "stream",
     "text": [
      "[-4755784.4062485 -4756034.4062485]\n"
     ]
    },
    {
     "data": {
      "application/javascript": "\n            setTimeout(function() {\n                var nbb_cell_id = 5;\n                var nbb_unformatted_code = \"print(vegetation_xr.latitude.values[:2])\";\n                var nbb_formatted_code = \"print(vegetation_xr.latitude.values[:2])\";\n                var nbb_cells = Jupyter.notebook.get_cells();\n                for (var i = 0; i < nbb_cells.length; ++i) {\n                    if (nbb_cells[i].input_prompt_number == nbb_cell_id) {\n                        if (nbb_cells[i].get_text() == nbb_unformatted_code) {\n                             nbb_cells[i].set_text(nbb_formatted_code);\n                        }\n                        break;\n                    }\n                }\n            }, 500);\n            ",
      "text/plain": [
       "<IPython.core.display.Javascript object>"
      ]
     },
     "metadata": {},
     "output_type": "display_data"
    }
   ],
   "source": [
    "print(vegetation_xr.latitude.values[:2])"
   ]
  },
  {
   "cell_type": "markdown",
   "metadata": {},
   "source": [
    "The coordinate reference system (crs) here is named an equal-area crs which means that the areas are preserved when projecting the earth to a plane. The unit of the coordinates is **meters**. See more info [there](https://en.wikipedia.org/wiki/Spatial_reference_system)."
   ]
  },
  {
   "cell_type": "code",
   "execution_count": 6,
   "metadata": {},
   "outputs": [
    {
     "data": {
      "text/html": [
       "<div><svg style=\"position: absolute; width: 0; height: 0; overflow: hidden\">\n",
       "<defs>\n",
       "<symbol id=\"icon-database\" viewBox=\"0 0 32 32\">\n",
       "<path d=\"M16 0c-8.837 0-16 2.239-16 5v4c0 2.761 7.163 5 16 5s16-2.239 16-5v-4c0-2.761-7.163-5-16-5z\"></path>\n",
       "<path d=\"M16 17c-8.837 0-16-2.239-16-5v6c0 2.761 7.163 5 16 5s16-2.239 16-5v-6c0 2.761-7.163 5-16 5z\"></path>\n",
       "<path d=\"M16 26c-8.837 0-16-2.239-16-5v6c0 2.761 7.163 5 16 5s16-2.239 16-5v-6c0 2.761-7.163 5-16 5z\"></path>\n",
       "</symbol>\n",
       "<symbol id=\"icon-file-text2\" viewBox=\"0 0 32 32\">\n",
       "<path d=\"M28.681 7.159c-0.694-0.947-1.662-2.053-2.724-3.116s-2.169-2.030-3.116-2.724c-1.612-1.182-2.393-1.319-2.841-1.319h-15.5c-1.378 0-2.5 1.121-2.5 2.5v27c0 1.378 1.122 2.5 2.5 2.5h23c1.378 0 2.5-1.122 2.5-2.5v-19.5c0-0.448-0.137-1.23-1.319-2.841zM24.543 5.457c0.959 0.959 1.712 1.825 2.268 2.543h-4.811v-4.811c0.718 0.556 1.584 1.309 2.543 2.268zM28 29.5c0 0.271-0.229 0.5-0.5 0.5h-23c-0.271 0-0.5-0.229-0.5-0.5v-27c0-0.271 0.229-0.5 0.5-0.5 0 0 15.499-0 15.5 0v7c0 0.552 0.448 1 1 1h7v19.5z\"></path>\n",
       "<path d=\"M23 26h-14c-0.552 0-1-0.448-1-1s0.448-1 1-1h14c0.552 0 1 0.448 1 1s-0.448 1-1 1z\"></path>\n",
       "<path d=\"M23 22h-14c-0.552 0-1-0.448-1-1s0.448-1 1-1h14c0.552 0 1 0.448 1 1s-0.448 1-1 1z\"></path>\n",
       "<path d=\"M23 18h-14c-0.552 0-1-0.448-1-1s0.448-1 1-1h14c0.552 0 1 0.448 1 1s-0.448 1-1 1z\"></path>\n",
       "</symbol>\n",
       "</defs>\n",
       "</svg>\n",
       "<style>/* CSS stylesheet for displaying xarray objects in jupyterlab.\n",
       " *\n",
       " */\n",
       "\n",
       ":root {\n",
       "  --xr-font-color0: var(--jp-content-font-color0, rgba(0, 0, 0, 1));\n",
       "  --xr-font-color2: var(--jp-content-font-color2, rgba(0, 0, 0, 0.54));\n",
       "  --xr-font-color3: var(--jp-content-font-color3, rgba(0, 0, 0, 0.38));\n",
       "  --xr-border-color: var(--jp-border-color2, #e0e0e0);\n",
       "  --xr-disabled-color: var(--jp-layout-color3, #bdbdbd);\n",
       "  --xr-background-color: var(--jp-layout-color0, white);\n",
       "  --xr-background-color-row-even: var(--jp-layout-color1, white);\n",
       "  --xr-background-color-row-odd: var(--jp-layout-color2, #eeeeee);\n",
       "}\n",
       "\n",
       "html[theme=dark],\n",
       "body[data-theme=dark],\n",
       "body.vscode-dark {\n",
       "  --xr-font-color0: rgba(255, 255, 255, 1);\n",
       "  --xr-font-color2: rgba(255, 255, 255, 0.54);\n",
       "  --xr-font-color3: rgba(255, 255, 255, 0.38);\n",
       "  --xr-border-color: #1F1F1F;\n",
       "  --xr-disabled-color: #515151;\n",
       "  --xr-background-color: #111111;\n",
       "  --xr-background-color-row-even: #111111;\n",
       "  --xr-background-color-row-odd: #313131;\n",
       "}\n",
       "\n",
       ".xr-wrap {\n",
       "  display: block !important;\n",
       "  min-width: 300px;\n",
       "  max-width: 700px;\n",
       "}\n",
       "\n",
       ".xr-text-repr-fallback {\n",
       "  /* fallback to plain text repr when CSS is not injected (untrusted notebook) */\n",
       "  display: none;\n",
       "}\n",
       "\n",
       ".xr-header {\n",
       "  padding-top: 6px;\n",
       "  padding-bottom: 6px;\n",
       "  margin-bottom: 4px;\n",
       "  border-bottom: solid 1px var(--xr-border-color);\n",
       "}\n",
       "\n",
       ".xr-header > div,\n",
       ".xr-header > ul {\n",
       "  display: inline;\n",
       "  margin-top: 0;\n",
       "  margin-bottom: 0;\n",
       "}\n",
       "\n",
       ".xr-obj-type,\n",
       ".xr-array-name {\n",
       "  margin-left: 2px;\n",
       "  margin-right: 10px;\n",
       "}\n",
       "\n",
       ".xr-obj-type {\n",
       "  color: var(--xr-font-color2);\n",
       "}\n",
       "\n",
       ".xr-sections {\n",
       "  padding-left: 0 !important;\n",
       "  display: grid;\n",
       "  grid-template-columns: 150px auto auto 1fr 20px 20px;\n",
       "}\n",
       "\n",
       ".xr-section-item {\n",
       "  display: contents;\n",
       "}\n",
       "\n",
       ".xr-section-item input {\n",
       "  display: none;\n",
       "}\n",
       "\n",
       ".xr-section-item input + label {\n",
       "  color: var(--xr-disabled-color);\n",
       "}\n",
       "\n",
       ".xr-section-item input:enabled + label {\n",
       "  cursor: pointer;\n",
       "  color: var(--xr-font-color2);\n",
       "}\n",
       "\n",
       ".xr-section-item input:enabled + label:hover {\n",
       "  color: var(--xr-font-color0);\n",
       "}\n",
       "\n",
       ".xr-section-summary {\n",
       "  grid-column: 1;\n",
       "  color: var(--xr-font-color2);\n",
       "  font-weight: 500;\n",
       "}\n",
       "\n",
       ".xr-section-summary > span {\n",
       "  display: inline-block;\n",
       "  padding-left: 0.5em;\n",
       "}\n",
       "\n",
       ".xr-section-summary-in:disabled + label {\n",
       "  color: var(--xr-font-color2);\n",
       "}\n",
       "\n",
       ".xr-section-summary-in + label:before {\n",
       "  display: inline-block;\n",
       "  content: '►';\n",
       "  font-size: 11px;\n",
       "  width: 15px;\n",
       "  text-align: center;\n",
       "}\n",
       "\n",
       ".xr-section-summary-in:disabled + label:before {\n",
       "  color: var(--xr-disabled-color);\n",
       "}\n",
       "\n",
       ".xr-section-summary-in:checked + label:before {\n",
       "  content: '▼';\n",
       "}\n",
       "\n",
       ".xr-section-summary-in:checked + label > span {\n",
       "  display: none;\n",
       "}\n",
       "\n",
       ".xr-section-summary,\n",
       ".xr-section-inline-details {\n",
       "  padding-top: 4px;\n",
       "  padding-bottom: 4px;\n",
       "}\n",
       "\n",
       ".xr-section-inline-details {\n",
       "  grid-column: 2 / -1;\n",
       "}\n",
       "\n",
       ".xr-section-details {\n",
       "  display: none;\n",
       "  grid-column: 1 / -1;\n",
       "  margin-bottom: 5px;\n",
       "}\n",
       "\n",
       ".xr-section-summary-in:checked ~ .xr-section-details {\n",
       "  display: contents;\n",
       "}\n",
       "\n",
       ".xr-array-wrap {\n",
       "  grid-column: 1 / -1;\n",
       "  display: grid;\n",
       "  grid-template-columns: 20px auto;\n",
       "}\n",
       "\n",
       ".xr-array-wrap > label {\n",
       "  grid-column: 1;\n",
       "  vertical-align: top;\n",
       "}\n",
       "\n",
       ".xr-preview {\n",
       "  color: var(--xr-font-color3);\n",
       "}\n",
       "\n",
       ".xr-array-preview,\n",
       ".xr-array-data {\n",
       "  padding: 0 5px !important;\n",
       "  grid-column: 2;\n",
       "}\n",
       "\n",
       ".xr-array-data,\n",
       ".xr-array-in:checked ~ .xr-array-preview {\n",
       "  display: none;\n",
       "}\n",
       "\n",
       ".xr-array-in:checked ~ .xr-array-data,\n",
       ".xr-array-preview {\n",
       "  display: inline-block;\n",
       "}\n",
       "\n",
       ".xr-dim-list {\n",
       "  display: inline-block !important;\n",
       "  list-style: none;\n",
       "  padding: 0 !important;\n",
       "  margin: 0;\n",
       "}\n",
       "\n",
       ".xr-dim-list li {\n",
       "  display: inline-block;\n",
       "  padding: 0;\n",
       "  margin: 0;\n",
       "}\n",
       "\n",
       ".xr-dim-list:before {\n",
       "  content: '(';\n",
       "}\n",
       "\n",
       ".xr-dim-list:after {\n",
       "  content: ')';\n",
       "}\n",
       "\n",
       ".xr-dim-list li:not(:last-child):after {\n",
       "  content: ',';\n",
       "  padding-right: 5px;\n",
       "}\n",
       "\n",
       ".xr-has-index {\n",
       "  font-weight: bold;\n",
       "}\n",
       "\n",
       ".xr-var-list,\n",
       ".xr-var-item {\n",
       "  display: contents;\n",
       "}\n",
       "\n",
       ".xr-var-item > div,\n",
       ".xr-var-item label,\n",
       ".xr-var-item > .xr-var-name span {\n",
       "  background-color: var(--xr-background-color-row-even);\n",
       "  margin-bottom: 0;\n",
       "}\n",
       "\n",
       ".xr-var-item > .xr-var-name:hover span {\n",
       "  padding-right: 5px;\n",
       "}\n",
       "\n",
       ".xr-var-list > li:nth-child(odd) > div,\n",
       ".xr-var-list > li:nth-child(odd) > label,\n",
       ".xr-var-list > li:nth-child(odd) > .xr-var-name span {\n",
       "  background-color: var(--xr-background-color-row-odd);\n",
       "}\n",
       "\n",
       ".xr-var-name {\n",
       "  grid-column: 1;\n",
       "}\n",
       "\n",
       ".xr-var-dims {\n",
       "  grid-column: 2;\n",
       "}\n",
       "\n",
       ".xr-var-dtype {\n",
       "  grid-column: 3;\n",
       "  text-align: right;\n",
       "  color: var(--xr-font-color2);\n",
       "}\n",
       "\n",
       ".xr-var-preview {\n",
       "  grid-column: 4;\n",
       "}\n",
       "\n",
       ".xr-index-preview {\n",
       "  grid-column: 2 / 5;\n",
       "  color: var(--xr-font-color2);\n",
       "}\n",
       "\n",
       ".xr-var-name,\n",
       ".xr-var-dims,\n",
       ".xr-var-dtype,\n",
       ".xr-preview,\n",
       ".xr-attrs dt {\n",
       "  white-space: nowrap;\n",
       "  overflow: hidden;\n",
       "  text-overflow: ellipsis;\n",
       "  padding-right: 10px;\n",
       "}\n",
       "\n",
       ".xr-var-name:hover,\n",
       ".xr-var-dims:hover,\n",
       ".xr-var-dtype:hover,\n",
       ".xr-attrs dt:hover {\n",
       "  overflow: visible;\n",
       "  width: auto;\n",
       "  z-index: 1;\n",
       "}\n",
       "\n",
       ".xr-var-attrs,\n",
       ".xr-var-data,\n",
       ".xr-index-data {\n",
       "  display: none;\n",
       "  background-color: var(--xr-background-color) !important;\n",
       "  padding-bottom: 5px !important;\n",
       "}\n",
       "\n",
       ".xr-var-attrs-in:checked ~ .xr-var-attrs,\n",
       ".xr-var-data-in:checked ~ .xr-var-data,\n",
       ".xr-index-data-in:checked ~ .xr-index-data {\n",
       "  display: block;\n",
       "}\n",
       "\n",
       ".xr-var-data > table {\n",
       "  float: right;\n",
       "}\n",
       "\n",
       ".xr-var-name span,\n",
       ".xr-var-data,\n",
       ".xr-index-name div,\n",
       ".xr-index-data,\n",
       ".xr-attrs {\n",
       "  padding-left: 25px !important;\n",
       "}\n",
       "\n",
       ".xr-attrs,\n",
       ".xr-var-attrs,\n",
       ".xr-var-data,\n",
       ".xr-index-data {\n",
       "  grid-column: 1 / -1;\n",
       "}\n",
       "\n",
       "dl.xr-attrs {\n",
       "  padding: 0;\n",
       "  margin: 0;\n",
       "  display: grid;\n",
       "  grid-template-columns: 125px auto;\n",
       "}\n",
       "\n",
       ".xr-attrs dt,\n",
       ".xr-attrs dd {\n",
       "  padding: 0;\n",
       "  margin: 0;\n",
       "  float: left;\n",
       "  padding-right: 10px;\n",
       "  width: auto;\n",
       "}\n",
       "\n",
       ".xr-attrs dt {\n",
       "  font-weight: normal;\n",
       "  grid-column: 1;\n",
       "}\n",
       "\n",
       ".xr-attrs dt:hover span {\n",
       "  display: inline-block;\n",
       "  background: var(--xr-background-color);\n",
       "  padding-right: 10px;\n",
       "}\n",
       "\n",
       ".xr-attrs dd {\n",
       "  grid-column: 2;\n",
       "  white-space: pre-wrap;\n",
       "  word-break: break-all;\n",
       "}\n",
       "\n",
       ".xr-icon-database,\n",
       ".xr-icon-file-text2,\n",
       ".xr-no-icon {\n",
       "  display: inline-block;\n",
       "  vertical-align: middle;\n",
       "  width: 1em;\n",
       "  height: 1.5em !important;\n",
       "  stroke-width: 0;\n",
       "  stroke: currentColor;\n",
       "  fill: currentColor;\n",
       "}\n",
       "</style><pre class='xr-text-repr-fallback'>&lt;xarray.Dataset&gt;\n",
       "Dimensions:        (longitude: 48, latitude: 48, time: 26433)\n",
       "Coordinates:\n",
       "    spatial_ref    int64 0\n",
       "  * longitude      (longitude) float64 1.275e+06 1.276e+06 ... 1.28e+06 1.28e+06\n",
       "  * latitude       (latitude) float64 -4.756e+06 -4.756e+06 ... -4.76e+06\n",
       "  * time           (time) datetime64[ns] 1950-01-01 1950-01-02 ... 2022-05-15\n",
       "Data variables:\n",
       "    precipitation  (latitude, longitude, time) float32 0.0 0.0 0.0 ... 0.0 0.0</pre><div class='xr-wrap' style='display:none'><div class='xr-header'><div class='xr-obj-type'>xarray.Dataset</div></div><ul class='xr-sections'><li class='xr-section-item'><input id='section-4f9139d6-3a48-4f7e-9d08-7a0840b89e8d' class='xr-section-summary-in' type='checkbox' disabled ><label for='section-4f9139d6-3a48-4f7e-9d08-7a0840b89e8d' class='xr-section-summary'  title='Expand/collapse section'>Dimensions:</label><div class='xr-section-inline-details'><ul class='xr-dim-list'><li><span class='xr-has-index'>longitude</span>: 48</li><li><span class='xr-has-index'>latitude</span>: 48</li><li><span class='xr-has-index'>time</span>: 26433</li></ul></div><div class='xr-section-details'></div></li><li class='xr-section-item'><input id='section-ce7e830c-c849-4382-b165-0586df3fdb15' class='xr-section-summary-in' type='checkbox'  checked><label for='section-ce7e830c-c849-4382-b165-0586df3fdb15' class='xr-section-summary' >Coordinates: <span>(4)</span></label><div class='xr-section-inline-details'></div><div class='xr-section-details'><ul class='xr-var-list'><li class='xr-var-item'><div class='xr-var-name'><span>spatial_ref</span></div><div class='xr-var-dims'>()</div><div class='xr-var-dtype'>int64</div><div class='xr-var-preview xr-preview'>0</div><input id='attrs-96a50f22-765b-4b6a-af8d-a6b77d9be897' class='xr-var-attrs-in' type='checkbox' disabled><label for='attrs-96a50f22-765b-4b6a-af8d-a6b77d9be897' title='Show/Hide attributes'><svg class='icon xr-icon-file-text2'><use xlink:href='#icon-file-text2'></use></svg></label><input id='data-3241a8a8-7b2a-4941-9d2b-bb5753d9992f' class='xr-var-data-in' type='checkbox'><label for='data-3241a8a8-7b2a-4941-9d2b-bb5753d9992f' title='Show/Hide data repr'><svg class='icon xr-icon-database'><use xlink:href='#icon-database'></use></svg></label><div class='xr-var-attrs'><dl class='xr-attrs'></dl></div><div class='xr-var-data'><pre>array(0)</pre></div></li><li class='xr-var-item'><div class='xr-var-name'><span class='xr-has-index'>longitude</span></div><div class='xr-var-dims'>(longitude)</div><div class='xr-var-dtype'>float64</div><div class='xr-var-preview xr-preview'>1.275e+06 1.276e+06 ... 1.28e+06</div><input id='attrs-8b8810e4-0c85-46ac-a8c1-ea5ef9caad76' class='xr-var-attrs-in' type='checkbox' disabled><label for='attrs-8b8810e4-0c85-46ac-a8c1-ea5ef9caad76' title='Show/Hide attributes'><svg class='icon xr-icon-file-text2'><use xlink:href='#icon-file-text2'></use></svg></label><input id='data-6873e488-6096-4c72-9681-09933d48c0cd' class='xr-var-data-in' type='checkbox'><label for='data-6873e488-6096-4c72-9681-09933d48c0cd' title='Show/Hide data repr'><svg class='icon xr-icon-database'><use xlink:href='#icon-database'></use></svg></label><div class='xr-var-attrs'><dl class='xr-attrs'></dl></div><div class='xr-var-data'><pre>array([1275453.788973, 1275553.488371, 1275653.18777 , 1275752.887169,\n",
       "       1275852.586568, 1275952.285967, 1276051.985365, 1276151.684764,\n",
       "       1276251.384163, 1276351.083562, 1276450.782961, 1276550.482359,\n",
       "       1276650.181758, 1276749.881157, 1276849.580556, 1276949.279955,\n",
       "       1277048.979353, 1277148.678752, 1277248.378151, 1277348.07755 ,\n",
       "       1277447.776949, 1277547.476347, 1277647.175746, 1277746.875145,\n",
       "       1277846.574544, 1277946.273943, 1278045.973341, 1278145.67274 ,\n",
       "       1278245.372139, 1278345.071538, 1278444.770937, 1278544.470335,\n",
       "       1278644.169734, 1278743.869133, 1278843.568532, 1278943.267931,\n",
       "       1279042.967329, 1279142.666728, 1279242.366127, 1279342.065526,\n",
       "       1279441.764925, 1279541.464323, 1279641.163722, 1279740.863121,\n",
       "       1279840.56252 , 1279940.261919, 1280039.961317, 1280139.660716])</pre></div></li><li class='xr-var-item'><div class='xr-var-name'><span class='xr-has-index'>latitude</span></div><div class='xr-var-dims'>(latitude)</div><div class='xr-var-dtype'>float64</div><div class='xr-var-preview xr-preview'>-4.756e+06 -4.756e+06 ... -4.76e+06</div><input id='attrs-3612d909-f5d6-445c-8c7b-b89936d0f1fe' class='xr-var-attrs-in' type='checkbox' disabled><label for='attrs-3612d909-f5d6-445c-8c7b-b89936d0f1fe' title='Show/Hide attributes'><svg class='icon xr-icon-file-text2'><use xlink:href='#icon-file-text2'></use></svg></label><input id='data-ef2e7521-cbeb-42c7-bf61-be422331658e' class='xr-var-data-in' type='checkbox'><label for='data-ef2e7521-cbeb-42c7-bf61-be422331658e' title='Show/Hide data repr'><svg class='icon xr-icon-database'><use xlink:href='#icon-database'></use></svg></label><div class='xr-var-attrs'><dl class='xr-attrs'></dl></div><div class='xr-var-data'><pre>array([-4755808.955347, -4755908.654745, -4756008.354144, -4756108.053543,\n",
       "       -4756207.752942, -4756307.452341, -4756407.151739, -4756506.851138,\n",
       "       -4756606.550537, -4756706.249936, -4756805.949335, -4756905.648733,\n",
       "       -4757005.348132, -4757105.047531, -4757204.74693 , -4757304.446329,\n",
       "       -4757404.145727, -4757503.845126, -4757603.544525, -4757703.243924,\n",
       "       -4757802.943323, -4757902.642721, -4758002.34212 , -4758102.041519,\n",
       "       -4758201.740918, -4758301.440317, -4758401.139715, -4758500.839114,\n",
       "       -4758600.538513, -4758700.237912, -4758799.937311, -4758899.636709,\n",
       "       -4758999.336108, -4759099.035507, -4759198.734906, -4759298.434305,\n",
       "       -4759398.133703, -4759497.833102, -4759597.532501, -4759697.2319  ,\n",
       "       -4759796.931299, -4759896.630697, -4759996.330096, -4760096.029495,\n",
       "       -4760195.728894, -4760295.428293, -4760395.127691, -4760494.82709 ])</pre></div></li><li class='xr-var-item'><div class='xr-var-name'><span class='xr-has-index'>time</span></div><div class='xr-var-dims'>(time)</div><div class='xr-var-dtype'>datetime64[ns]</div><div class='xr-var-preview xr-preview'>1950-01-01 ... 2022-05-15</div><input id='attrs-ed003d8b-eab7-4020-a338-9e9b4c509cf8' class='xr-var-attrs-in' type='checkbox' disabled><label for='attrs-ed003d8b-eab7-4020-a338-9e9b4c509cf8' title='Show/Hide attributes'><svg class='icon xr-icon-file-text2'><use xlink:href='#icon-file-text2'></use></svg></label><input id='data-125839d2-d3c1-4aec-b4b6-7bce53cffcfd' class='xr-var-data-in' type='checkbox'><label for='data-125839d2-d3c1-4aec-b4b6-7bce53cffcfd' title='Show/Hide data repr'><svg class='icon xr-icon-database'><use xlink:href='#icon-database'></use></svg></label><div class='xr-var-attrs'><dl class='xr-attrs'></dl></div><div class='xr-var-data'><pre>array([&#x27;1950-01-01T00:00:00.000000000&#x27;, &#x27;1950-01-02T00:00:00.000000000&#x27;,\n",
       "       &#x27;1950-01-03T00:00:00.000000000&#x27;, ..., &#x27;2022-05-13T00:00:00.000000000&#x27;,\n",
       "       &#x27;2022-05-14T00:00:00.000000000&#x27;, &#x27;2022-05-15T00:00:00.000000000&#x27;],\n",
       "      dtype=&#x27;datetime64[ns]&#x27;)</pre></div></li></ul></div></li><li class='xr-section-item'><input id='section-c0e564a5-98d4-49e5-92cf-c791eb9b1e0d' class='xr-section-summary-in' type='checkbox'  checked><label for='section-c0e564a5-98d4-49e5-92cf-c791eb9b1e0d' class='xr-section-summary' >Data variables: <span>(1)</span></label><div class='xr-section-inline-details'></div><div class='xr-section-details'><ul class='xr-var-list'><li class='xr-var-item'><div class='xr-var-name'><span>precipitation</span></div><div class='xr-var-dims'>(latitude, longitude, time)</div><div class='xr-var-dtype'>float32</div><div class='xr-var-preview xr-preview'>0.0 0.0 0.0 0.0 ... 24.8 0.0 0.0</div><input id='attrs-30920f70-3ff1-404d-baa8-d5f63b135144' class='xr-var-attrs-in' type='checkbox' ><label for='attrs-30920f70-3ff1-404d-baa8-d5f63b135144' title='Show/Hide attributes'><svg class='icon xr-icon-file-text2'><use xlink:href='#icon-file-text2'></use></svg></label><input id='data-609b8626-495a-4832-b6cf-094c42f62914' class='xr-var-data-in' type='checkbox'><label for='data-609b8626-495a-4832-b6cf-094c42f62914' title='Show/Hide data repr'><svg class='icon xr-icon-database'><use xlink:href='#icon-database'></use></svg></label><div class='xr-var-attrs'><dl class='xr-attrs'><dt><span>units :</span></dt><dd>mm</dd></dl></div><div class='xr-var-data'><pre>array([[[ 0. ,  0. ,  0. , ...,  0. ,  0. ,  0. ],\n",
       "        [ 0. ,  0. ,  0. , ...,  0. ,  0. ,  0. ],\n",
       "        [ 0. ,  0. ,  0. , ...,  0. ,  0. ,  0. ],\n",
       "        ...,\n",
       "        [ 0. ,  0. ,  0. , ...,  0. ,  0. ,  0. ],\n",
       "        [ 0. ,  0. ,  0. , ...,  0. ,  0. ,  0. ],\n",
       "        [ 0. ,  0. ,  0. , ...,  0. ,  0. ,  0. ]],\n",
       "\n",
       "       [[ 0. ,  0. ,  0. , ...,  0. ,  0. ,  0. ],\n",
       "        [ 0. ,  0. ,  0. , ...,  0. ,  0. ,  0. ],\n",
       "        [ 0. ,  0. ,  0. , ...,  0. ,  0. ,  0. ],\n",
       "        ...,\n",
       "        [ 0. ,  0. ,  0. , ...,  0. ,  0. ,  0. ],\n",
       "        [ 0. ,  0. ,  0. , ...,  0. ,  0. ,  0. ],\n",
       "        [ 0. ,  0. ,  0. , ...,  0. ,  0. ,  0. ]],\n",
       "\n",
       "       [[ 0. ,  0. ,  5.9, ..., 24.8,  0. ,  0. ],\n",
       "        [ 0. ,  0. ,  5.9, ..., 24.8,  0. ,  0. ],\n",
       "        [ 0. ,  0. ,  5.9, ..., 24.8,  0. ,  0. ],\n",
       "        ...,\n",
       "...\n",
       "        ...,\n",
       "        [ 0. ,  0. ,  5.9, ..., 24.8,  0. ,  0. ],\n",
       "        [ 0. ,  0. ,  5.9, ..., 24.8,  0. ,  0. ],\n",
       "        [ 0. ,  0. ,  0. , ...,  0. ,  0. ,  0. ]],\n",
       "\n",
       "       [[ 0. ,  0. ,  5.9, ..., 24.8,  0. ,  0. ],\n",
       "        [ 0. ,  0. ,  5.9, ..., 24.8,  0. ,  0. ],\n",
       "        [ 0. ,  0. ,  5.9, ..., 24.8,  0. ,  0. ],\n",
       "        ...,\n",
       "        [ 0. ,  0. ,  5.9, ..., 24.8,  0. ,  0. ],\n",
       "        [ 0. ,  0. ,  5.9, ..., 24.8,  0. ,  0. ],\n",
       "        [ 0. ,  0. ,  0. , ...,  0. ,  0. ,  0. ]],\n",
       "\n",
       "       [[ 0. ,  0. ,  5.9, ..., 24.8,  0. ,  0. ],\n",
       "        [ 0. ,  0. ,  5.9, ..., 24.8,  0. ,  0. ],\n",
       "        [ 0. ,  0. ,  5.9, ..., 24.8,  0. ,  0. ],\n",
       "        ...,\n",
       "        [ 0. ,  0. ,  5.9, ..., 24.8,  0. ,  0. ],\n",
       "        [ 0. ,  0. ,  5.9, ..., 24.8,  0. ,  0. ],\n",
       "        [ 0. ,  0. ,  5.9, ..., 24.8,  0. ,  0. ]]], dtype=float32)</pre></div></li></ul></div></li><li class='xr-section-item'><input id='section-73cdc0d1-aa38-43ce-b692-7de9314af652' class='xr-section-summary-in' type='checkbox'  ><label for='section-73cdc0d1-aa38-43ce-b692-7de9314af652' class='xr-section-summary' >Indexes: <span>(3)</span></label><div class='xr-section-inline-details'></div><div class='xr-section-details'><ul class='xr-var-list'><li class='xr-var-item'><div class='xr-index-name'><div>longitude</div></div><div class='xr-index-preview'>PandasIndex</div><div></div><input id='index-3de8e8d7-eeb0-492d-87e6-6ecf761d087f' class='xr-index-data-in' type='checkbox'/><label for='index-3de8e8d7-eeb0-492d-87e6-6ecf761d087f' title='Show/Hide index repr'><svg class='icon xr-icon-database'><use xlink:href='#icon-database'></use></svg></label><div class='xr-index-data'><pre>PandasIndex(Float64Index([ 1275453.788972701, 1275553.4883714984, 1275653.1877702961,\n",
       "              1275752.8871690936, 1275852.5865678913, 1275952.2859666888,\n",
       "              1276051.9853654865, 1276151.6847642842, 1276251.3841630816,\n",
       "              1276351.0835618793, 1276450.7829606768, 1276550.4823594745,\n",
       "               1276650.181758272, 1276749.8811570697, 1276849.5805558672,\n",
       "              1276949.2799546649, 1277048.9793534623,   1277148.67875226,\n",
       "              1277248.3781510575, 1277348.0775498552, 1277447.7769486527,\n",
       "              1277547.4763474504,  1277647.175746248, 1277746.8751450456,\n",
       "              1277846.5745438433, 1277946.2739426407, 1278045.9733414385,\n",
       "               1278145.672740236, 1278245.3721390336,  1278345.071537831,\n",
       "              1278444.7709366288, 1278544.4703354263,  1278644.169734224,\n",
       "              1278743.8691330214, 1278843.5685318192, 1278943.2679306166,\n",
       "              1279042.9673294143,  1279142.666728212, 1279242.3661270095,\n",
       "              1279342.0655258072, 1279441.7649246047, 1279541.4643234024,\n",
       "              1279641.1637221999, 1279740.8631209976,  1279840.562519795,\n",
       "              1279940.2619185927, 1280039.9613173902,  1280139.660716188],\n",
       "             dtype=&#x27;float64&#x27;, name=&#x27;longitude&#x27;))</pre></div></li><li class='xr-var-item'><div class='xr-index-name'><div>latitude</div></div><div class='xr-index-preview'>PandasIndex</div><div></div><input id='index-12a3ce13-6b19-478f-ac9d-688ee684d2e5' class='xr-index-data-in' type='checkbox'/><label for='index-12a3ce13-6b19-478f-ac9d-688ee684d2e5' title='Show/Hide index repr'><svg class='icon xr-icon-database'><use xlink:href='#icon-database'></use></svg></label><div class='xr-index-data'><pre>PandasIndex(Float64Index([ -4755808.955346698,  -4755908.654745496,  -4756008.354144293,\n",
       "               -4756108.053543091,  -4756207.752941888,  -4756307.452340686,\n",
       "               -4756407.151739484,  -4756506.851138281,  -4756606.550537079,\n",
       "               -4756706.249935877,  -4756805.949334674, -4756905.6487334715,\n",
       "               -4757005.348132269,  -4757105.047531066,  -4757204.746929864,\n",
       "               -4757304.446328661,  -4757404.145727459,  -4757503.845126257,\n",
       "               -4757603.544525054,  -4757703.243923852,   -4757802.94332265,\n",
       "               -4757902.642721447,  -4758002.342120245,  -4758102.041519043,\n",
       "                -4758201.74091784,  -4758301.440316638,  -4758401.139715435,\n",
       "               -4758500.839114233,  -4758600.538513031,  -4758700.237911828,\n",
       "               -4758799.937310626,  -4758899.636709424,  -4758999.336108221,\n",
       "               -4759099.035507019,  -4759198.734905816,  -4759298.434304614,\n",
       "               -4759398.133703412,  -4759497.833102209, -4759597.5325010065,\n",
       "               -4759697.231899804,  -4759796.931298601,  -4759896.630697399,\n",
       "               -4759996.330096197,  -4760096.029494994,  -4760195.728893792,\n",
       "               -4760295.428292589,  -4760395.127691387,  -4760494.827090185],\n",
       "             dtype=&#x27;float64&#x27;, name=&#x27;latitude&#x27;))</pre></div></li><li class='xr-var-item'><div class='xr-index-name'><div>time</div></div><div class='xr-index-preview'>PandasIndex</div><div></div><input id='index-52fecfb8-350a-477f-b99b-95e29091b182' class='xr-index-data-in' type='checkbox'/><label for='index-52fecfb8-350a-477f-b99b-95e29091b182' title='Show/Hide index repr'><svg class='icon xr-icon-database'><use xlink:href='#icon-database'></use></svg></label><div class='xr-index-data'><pre>PandasIndex(DatetimeIndex([&#x27;1950-01-01&#x27;, &#x27;1950-01-02&#x27;, &#x27;1950-01-03&#x27;, &#x27;1950-01-04&#x27;,\n",
       "               &#x27;1950-01-05&#x27;, &#x27;1950-01-06&#x27;, &#x27;1950-01-07&#x27;, &#x27;1950-01-08&#x27;,\n",
       "               &#x27;1950-01-09&#x27;, &#x27;1950-01-10&#x27;,\n",
       "               ...\n",
       "               &#x27;2022-05-06&#x27;, &#x27;2022-05-07&#x27;, &#x27;2022-05-08&#x27;, &#x27;2022-05-09&#x27;,\n",
       "               &#x27;2022-05-10&#x27;, &#x27;2022-05-11&#x27;, &#x27;2022-05-12&#x27;, &#x27;2022-05-13&#x27;,\n",
       "               &#x27;2022-05-14&#x27;, &#x27;2022-05-15&#x27;],\n",
       "              dtype=&#x27;datetime64[ns]&#x27;, name=&#x27;time&#x27;, length=26433, freq=None))</pre></div></li></ul></div></li><li class='xr-section-item'><input id='section-b43a6b3e-b334-4439-873c-3dec04559e80' class='xr-section-summary-in' type='checkbox' disabled ><label for='section-b43a6b3e-b334-4439-873c-3dec04559e80' class='xr-section-summary'  title='Expand/collapse section'>Attributes: <span>(0)</span></label><div class='xr-section-inline-details'></div><div class='xr-section-details'><dl class='xr-attrs'></dl></div></li></ul></div></div>"
      ],
      "text/plain": [
       "<xarray.Dataset>\n",
       "Dimensions:        (longitude: 48, latitude: 48, time: 26433)\n",
       "Coordinates:\n",
       "    spatial_ref    int64 0\n",
       "  * longitude      (longitude) float64 1.275e+06 1.276e+06 ... 1.28e+06 1.28e+06\n",
       "  * latitude       (latitude) float64 -4.756e+06 -4.756e+06 ... -4.76e+06\n",
       "  * time           (time) datetime64[ns] 1950-01-01 1950-01-02 ... 2022-05-15\n",
       "Data variables:\n",
       "    precipitation  (latitude, longitude, time) float32 0.0 0.0 0.0 ... 0.0 0.0"
      ]
     },
     "execution_count": 6,
     "metadata": {},
     "output_type": "execute_result"
    },
    {
     "data": {
      "application/javascript": "\n            setTimeout(function() {\n                var nbb_cell_id = 6;\n                var nbb_unformatted_code = \"precipitation_xr\";\n                var nbb_formatted_code = \"precipitation_xr\";\n                var nbb_cells = Jupyter.notebook.get_cells();\n                for (var i = 0; i < nbb_cells.length; ++i) {\n                    if (nbb_cells[i].input_prompt_number == nbb_cell_id) {\n                        if (nbb_cells[i].get_text() == nbb_unformatted_code) {\n                             nbb_cells[i].set_text(nbb_formatted_code);\n                        }\n                        break;\n                    }\n                }\n            }, 500);\n            ",
      "text/plain": [
       "<IPython.core.display.Javascript object>"
      ]
     },
     "metadata": {},
     "output_type": "display_data"
    }
   ],
   "source": [
    "precipitation_xr"
   ]
  },
  {
   "cell_type": "markdown",
   "metadata": {},
   "source": [
    "One can notice that the precipitation raster has time variable. We then have access of cumulative daily precipitation data since the 1st of January 1950"
   ]
  },
  {
   "cell_type": "code",
   "execution_count": 7,
   "metadata": {},
   "outputs": [
    {
     "data": {
      "image/png": "[encoded data removed]",
      "text/plain": [
       "<Figure size 1400x600 with 4 Axes>"
      ]
     },
     "metadata": {},
     "output_type": "display_data"
    },
    {
     "data": {
      "application/javascript": "\n            setTimeout(function() {\n                var nbb_cell_id = 7;\n                var nbb_unformatted_code = \"fig, ax = plt.subplots(1, 2, figsize=(14, 6))\\nvegetation_xr.vegetation.plot(ax=ax[0])\\nax[0].set_title(\\\"Vegetation class\\\")\\nprecipitation_xr.precipitation[dict(time=3)].plot(ax=ax[1])\\nax[1].set_title(\\\"Daily precipitation (mm)\\\")\\nax[1].set_xlabel(\\\"longitude\\\")\\nax[1].set_ylabel(\\\"latitude\\\")\\nplt.tight_layout()\\nplt.show()\";\n                var nbb_formatted_code = \"fig, ax = plt.subplots(1, 2, figsize=(14, 6))\\nvegetation_xr.vegetation.plot(ax=ax[0])\\nax[0].set_title(\\\"Vegetation class\\\")\\nprecipitation_xr.precipitation[dict(time=3)].plot(ax=ax[1])\\nax[1].set_title(\\\"Daily precipitation (mm)\\\")\\nax[1].set_xlabel(\\\"longitude\\\")\\nax[1].set_ylabel(\\\"latitude\\\")\\nplt.tight_layout()\\nplt.show()\";\n                var nbb_cells = Jupyter.notebook.get_cells();\n                for (var i = 0; i < nbb_cells.length; ++i) {\n                    if (nbb_cells[i].input_prompt_number == nbb_cell_id) {\n                        if (nbb_cells[i].get_text() == nbb_unformatted_code) {\n                             nbb_cells[i].set_text(nbb_formatted_code);\n                        }\n                        break;\n                    }\n                }\n            }, 500);\n            ",
      "text/plain": [
       "<IPython.core.display.Javascript object>"
      ]
     },
     "metadata": {},
     "output_type": "display_data"
    }
   ],
   "source": [
    "fig, ax = plt.subplots(1, 2, figsize=(14, 6))\n",
    "vegetation_xr.vegetation.plot(ax=ax[0])\n",
    "ax[0].set_title(\"Vegetation class\")\n",
    "precipitation_xr.precipitation[dict(time=3)].plot(ax=ax[1])\n",
    "ax[1].set_title(\"Daily precipitation (mm)\")\n",
    "ax[1].set_xlabel(\"longitude\")\n",
    "ax[1].set_ylabel(\"latitude\")\n",
    "plt.tight_layout()\n",
    "plt.show()"
   ]
  },
  {
   "cell_type": "markdown",
   "metadata": {},
   "source": [
    "The vegetation raster is a gridded array of categorical values with information on the type of the dominant vegetation of each pixel.\n",
    "\n",
    "    - Class 90 : Water and urban areas\n",
    "    - Class 100: Herbaceous class\n",
    "    - Class 110: Forest class\n",
    "    - Class 120: Shrubland class\n",
    "    \n",
    "For example, the pixel at location (longitude 1277929.24, latitude -4758284.41) displays a value of 120, meaning that the vegetation at this location is shrubland."
   ]
  },
  {
   "cell_type": "markdown",
   "metadata": {},
   "source": [
    "#### What is each raster's resolution (in meters)?\n",
    "\n",
    "The resolution is defined as the distance between the centres of 2 neighbour pixels."
   ]
  },
  {
   "cell_type": "code",
   "execution_count": 8,
   "metadata": {},
   "outputs": [
    {
     "name": "stdout",
     "output_type": "stream",
     "text": [
      "The vegetation resolution is 250 meters\n",
      "The precipitation resolution is 99 meters\n"
     ]
    },
    {
     "data": {
      "application/javascript": "\n            setTimeout(function() {\n                var nbb_cell_id = 8;\n                var nbb_unformatted_code = \"# the pixels are well aligned on the x and y axis so the distance is just the absolute value of the differences between consecutive pixels\\n# we verify that resolution is approximately the same along both axes\\nvegetation_resolution = int(abs(vegetation_xr.latitude.diff(dim=\\\"latitude\\\").mean()))\\nprecipitation_resolution = int(abs(precipitation_xr.latitude.diff(dim=\\\"latitude\\\").mean())) # rounds to the smallest integer\\n\\nprint(f\\\"The vegetation resolution is {vegetation_resolution} meters\\\")\\nprint(f\\\"The precipitation resolution is {precipitation_resolution} meters\\\")\";\n                var nbb_formatted_code = \"# the pixels are well aligned on the x and y axis so the distance is just the absolute value of the differences between consecutive pixels\\n# we verify that resolution is approximately the same along both axes\\nvegetation_resolution = int(abs(vegetation_xr.latitude.diff(dim=\\\"latitude\\\").mean()))\\nprecipitation_resolution = int(\\n    abs(precipitation_xr.latitude.diff(dim=\\\"latitude\\\").mean())\\n)  # rounds to the smallest integer\\n\\nprint(f\\\"The vegetation resolution is {vegetation_resolution} meters\\\")\\nprint(f\\\"The precipitation resolution is {precipitation_resolution} meters\\\")\";\n                var nbb_cells = Jupyter.notebook.get_cells();\n                for (var i = 0; i < nbb_cells.length; ++i) {\n                    if (nbb_cells[i].input_prompt_number == nbb_cell_id) {\n                        if (nbb_cells[i].get_text() == nbb_unformatted_code) {\n                             nbb_cells[i].set_text(nbb_formatted_code);\n                        }\n                        break;\n                    }\n                }\n            }, 500);\n            ",
      "text/plain": [
       "<IPython.core.display.Javascript object>"
      ]
     },
     "metadata": {},
     "output_type": "display_data"
    }
   ],
   "source": [
    "# the pixels are well aligned on the x and y axis so the distance is just the absolute value of the differences between consecutive pixels\n",
    "# we verify that resolution is approximately the same along both axes\n",
    "vegetation_resolution = int(abs(vegetation_xr.latitude.diff(dim=\"latitude\").mean()))\n",
    "precipitation_resolution = int(abs(precipitation_xr.latitude.diff(dim=\"latitude\").mean())) # rounds to the smallest integer\n",
    "\n",
    "print(f\"The vegetation resolution is {vegetation_resolution} meters\")\n",
    "print(f\"The precipitation resolution is {precipitation_resolution} meters\")"
   ]
  },
  {
   "cell_type": "markdown",
   "metadata": {},
   "source": [
    "This is coherent with the previous figure, where we can see that the size of individual pixels in the vegetation raster are bigger than those in the precipitation raster."
   ]
  },
  {
   "cell_type": "code",
   "execution_count": 9,
   "metadata": {},
   "outputs": [
    {
     "data": {
      "application/javascript": "\n            setTimeout(function() {\n                var nbb_cell_id = 9;\n                var nbb_unformatted_code = \"assert isinstance(vegetation_resolution, int)\\nassert isinstance(precipitation_resolution, int)\";\n                var nbb_formatted_code = \"assert isinstance(vegetation_resolution, int)\\nassert isinstance(precipitation_resolution, int)\";\n                var nbb_cells = Jupyter.notebook.get_cells();\n                for (var i = 0; i < nbb_cells.length; ++i) {\n                    if (nbb_cells[i].input_prompt_number == nbb_cell_id) {\n                        if (nbb_cells[i].get_text() == nbb_unformatted_code) {\n                             nbb_cells[i].set_text(nbb_formatted_code);\n                        }\n                        break;\n                    }\n                }\n            }, 500);\n            ",
      "text/plain": [
       "<IPython.core.display.Javascript object>"
      ]
     },
     "metadata": {},
     "output_type": "display_data"
    }
   ],
   "source": [
    "assert isinstance(vegetation_resolution, int)\n",
    "assert isinstance(precipitation_resolution, int)"
   ]
  },
  {
   "cell_type": "markdown",
   "metadata": {},
   "source": [
    "# 3. Manipulate rasters"
   ]
  },
  {
   "cell_type": "markdown",
   "metadata": {},
   "source": [
    "### 3.1 Change rasters' resolution"
   ]
  },
  {
   "cell_type": "markdown",
   "metadata": {},
   "source": [
    "Your task is to get the precipitation for all grid cells in the forest class (value of 110). Unfortunately, the 2 rasters do not have the same resolution. Your task will be to reindex the 2 rasters at the **same** resolution."
   ]
  },
  {
   "cell_type": "markdown",
   "metadata": {},
   "source": [
    "The resolution of each raster should be the finest one out of the 2 intial datasets.\n",
    "\n",
    "To downscale (move from coarse to finer resolution), you will use the function `xarray.interp()`: https://docs.xarray.dev/en/stable/generated/xarray.DataArray.interp.html"
   ]
  },
  {
   "cell_type": "code",
   "execution_count": 10,
   "metadata": {},
   "outputs": [
    {
     "data": {
      "application/javascript": "\n            setTimeout(function() {\n                var nbb_cell_id = 10;\n                var nbb_unformatted_code = \"# We downscale only the coarser raster i.e the vegetation one\\nvegetation_downscaled_xr = vegetation_xr.interp(\\n    longitude=precipitation_xr.longitude.values, \\n    latitude=precipitation_xr.latitude.values,\\n    method=\\\"nearest\\\"\\n)\\nprecipitation_downscaled_xr = precipitation_xr.copy()\";\n                var nbb_formatted_code = \"# We downscale only the coarser raster i.e the vegetation one\\nvegetation_downscaled_xr = vegetation_xr.interp(\\n    longitude=precipitation_xr.longitude.values,\\n    latitude=precipitation_xr.latitude.values,\\n    method=\\\"nearest\\\",\\n)\\nprecipitation_downscaled_xr = precipitation_xr.copy()\";\n                var nbb_cells = Jupyter.notebook.get_cells();\n                for (var i = 0; i < nbb_cells.length; ++i) {\n                    if (nbb_cells[i].input_prompt_number == nbb_cell_id) {\n                        if (nbb_cells[i].get_text() == nbb_unformatted_code) {\n                             nbb_cells[i].set_text(nbb_formatted_code);\n                        }\n                        break;\n                    }\n                }\n            }, 500);\n            ",
      "text/plain": [
       "<IPython.core.display.Javascript object>"
      ]
     },
     "metadata": {},
     "output_type": "display_data"
    }
   ],
   "source": [
    "# We downscale only the coarser raster i.e the vegetation one\n",
    "vegetation_downscaled_xr = vegetation_xr.interp(\n",
    "    longitude=precipitation_xr.longitude.values, \n",
    "    latitude=precipitation_xr.latitude.values,\n",
    "    method=\"nearest\"\n",
    ")\n",
    "precipitation_downscaled_xr = precipitation_xr.copy()"
   ]
  },
  {
   "cell_type": "markdown",
   "metadata": {},
   "source": [
    "Since the vegetation raster contains categorical data about the type of vegetation in each location, we can not use the default interpolation method \"linear\" in xarray.interp() because it would introduce float values which did not exist in the original raster. For that reason, we use the \"nearest\" method which uses the nearest neighbor in the original raster to determine the new class."
   ]
  },
  {
   "cell_type": "code",
   "execution_count": 11,
   "metadata": {},
   "outputs": [
    {
     "data": {
      "image/png": "[encoded data removed]",
      "text/plain": [
       "<Figure size 1400x600 with 4 Axes>"
      ]
     },
     "metadata": {},
     "output_type": "display_data"
    },
    {
     "data": {
      "application/javascript": "\n            setTimeout(function() {\n                var nbb_cell_id = 11;\n                var nbb_unformatted_code = \"fig, ax = plt.subplots(1, 2, figsize=(14, 6))\\nvegetation_downscaled_xr.vegetation.plot(ax=ax[0])\\nax[0].set_title(\\\"Vegetation class(downscaled)\\\")\\nvegetation_xr.vegetation.plot(ax=ax[1])\\nax[1].set_title(\\\"Vegetation class\\\")\\nax[1].set_xlabel(\\\"longitude\\\")\\nax[1].set_ylabel(\\\"latitude\\\")\\nplt.tight_layout()\\nplt.show()\";\n                var nbb_formatted_code = \"fig, ax = plt.subplots(1, 2, figsize=(14, 6))\\nvegetation_downscaled_xr.vegetation.plot(ax=ax[0])\\nax[0].set_title(\\\"Vegetation class(downscaled)\\\")\\nvegetation_xr.vegetation.plot(ax=ax[1])\\nax[1].set_title(\\\"Vegetation class\\\")\\nax[1].set_xlabel(\\\"longitude\\\")\\nax[1].set_ylabel(\\\"latitude\\\")\\nplt.tight_layout()\\nplt.show()\";\n                var nbb_cells = Jupyter.notebook.get_cells();\n                for (var i = 0; i < nbb_cells.length; ++i) {\n                    if (nbb_cells[i].input_prompt_number == nbb_cell_id) {\n                        if (nbb_cells[i].get_text() == nbb_unformatted_code) {\n                             nbb_cells[i].set_text(nbb_formatted_code);\n                        }\n                        break;\n                    }\n                }\n            }, 500);\n            ",
      "text/plain": [
       "<IPython.core.display.Javascript object>"
      ]
     },
     "metadata": {},
     "output_type": "display_data"
    }
   ],
   "source": [
    "fig, ax = plt.subplots(1, 2, figsize=(14, 6))\n",
    "vegetation_downscaled_xr.vegetation.plot(ax=ax[0])\n",
    "ax[0].set_title(\"Vegetation class(downscaled)\")\n",
    "vegetation_xr.vegetation.plot(ax=ax[1])\n",
    "ax[1].set_title(\"Vegetation class\")\n",
    "ax[1].set_xlabel(\"longitude\")\n",
    "ax[1].set_ylabel(\"latitude\")\n",
    "plt.tight_layout()\n",
    "plt.show()"
   ]
  },
  {
   "cell_type": "code",
   "execution_count": 12,
   "metadata": {},
   "outputs": [
    {
     "data": {
      "application/javascript": "\n            setTimeout(function() {\n                var nbb_cell_id = 12;\n                var nbb_unformatted_code = \"assert isinstance(vegetation_downscaled_xr, xr.Dataset)\\nassert isinstance(precipitation_downscaled_xr, xr.Dataset)\";\n                var nbb_formatted_code = \"assert isinstance(vegetation_downscaled_xr, xr.Dataset)\\nassert isinstance(precipitation_downscaled_xr, xr.Dataset)\";\n                var nbb_cells = Jupyter.notebook.get_cells();\n                for (var i = 0; i < nbb_cells.length; ++i) {\n                    if (nbb_cells[i].input_prompt_number == nbb_cell_id) {\n                        if (nbb_cells[i].get_text() == nbb_unformatted_code) {\n                             nbb_cells[i].set_text(nbb_formatted_code);\n                        }\n                        break;\n                    }\n                }\n            }, 500);\n            ",
      "text/plain": [
       "<IPython.core.display.Javascript object>"
      ]
     },
     "metadata": {},
     "output_type": "display_data"
    }
   ],
   "source": [
    "assert isinstance(vegetation_downscaled_xr, xr.Dataset)\n",
    "assert isinstance(precipitation_downscaled_xr, xr.Dataset)"
   ]
  },
  {
   "cell_type": "markdown",
   "metadata": {},
   "source": [
    "## 3.2 Compute mean precipitation"
   ]
  },
  {
   "cell_type": "markdown",
   "metadata": {},
   "source": [
    "The client has forests that span over all the area showed by the raster, which means that all grid cells in forest class belong to the client."
   ]
  },
  {
   "cell_type": "markdown",
   "metadata": {},
   "source": [
    "**Task**\n",
    "\n",
    "Your task is to compute the mean daily precipitation for grid cells only in **forest class**. You may want to use the function [`xarray.where()`](https://docs.xarray.dev/en/stable/generated/xarray.where.html).\n",
    "\n",
    "The output will be a dataframe `df_rain_historical` with the dates as index with name `Date` and the column daily precipitation renamed `daily_rain`. You could use the function [`xarray.to_dataframe()`](https://docs.xarray.dev/en/stable/generated/xarray.DataArray.to_dataframe.html)"
   ]
  },
  {
   "cell_type": "code",
   "execution_count": 13,
   "metadata": {},
   "outputs": [
    {
     "data": {
      "text/html": [
       "<div>\n",
       "<style scoped>\n",
       "    .dataframe tbody tr th:only-of-type {\n",
       "        vertical-align: middle;\n",
       "    }\n",
       "\n",
       "    .dataframe tbody tr th {\n",
       "        vertical-align: top;\n",
       "    }\n",
       "\n",
       "    .dataframe thead th {\n",
       "        text-align: right;\n",
       "    }\n",
       "</style>\n",
       "<table border=\"1\" class=\"dataframe\">\n",
       "  <thead>\n",
       "    <tr style=\"text-align: right;\">\n",
       "      <th></th>\n",
       "      <th>daily_rain</th>\n",
       "    </tr>\n",
       "    <tr>\n",
       "      <th>Date</th>\n",
       "      <th></th>\n",
       "    </tr>\n",
       "  </thead>\n",
       "  <tbody>\n",
       "    <tr>\n",
       "      <th>1950-01-01</th>\n",
       "      <td>0.000000</td>\n",
       "    </tr>\n",
       "    <tr>\n",
       "      <th>1950-01-02</th>\n",
       "      <td>0.000000</td>\n",
       "    </tr>\n",
       "    <tr>\n",
       "      <th>1950-01-03</th>\n",
       "      <td>5.899972</td>\n",
       "    </tr>\n",
       "    <tr>\n",
       "      <th>1950-01-04</th>\n",
       "      <td>2.300004</td>\n",
       "    </tr>\n",
       "    <tr>\n",
       "      <th>1950-01-05</th>\n",
       "      <td>0.000000</td>\n",
       "    </tr>\n",
       "    <tr>\n",
       "      <th>...</th>\n",
       "      <td>...</td>\n",
       "    </tr>\n",
       "    <tr>\n",
       "      <th>2022-05-11</th>\n",
       "      <td>20.099937</td>\n",
       "    </tr>\n",
       "    <tr>\n",
       "      <th>2022-05-12</th>\n",
       "      <td>7.199967</td>\n",
       "    </tr>\n",
       "    <tr>\n",
       "      <th>2022-05-13</th>\n",
       "      <td>24.799871</td>\n",
       "    </tr>\n",
       "    <tr>\n",
       "      <th>2022-05-14</th>\n",
       "      <td>0.000000</td>\n",
       "    </tr>\n",
       "    <tr>\n",
       "      <th>2022-05-15</th>\n",
       "      <td>0.000000</td>\n",
       "    </tr>\n",
       "  </tbody>\n",
       "</table>\n",
       "<p>26433 rows × 1 columns</p>\n",
       "</div>"
      ],
      "text/plain": [
       "            daily_rain\n",
       "Date                  \n",
       "1950-01-01    0.000000\n",
       "1950-01-02    0.000000\n",
       "1950-01-03    5.899972\n",
       "1950-01-04    2.300004\n",
       "1950-01-05    0.000000\n",
       "...                ...\n",
       "2022-05-11   20.099937\n",
       "2022-05-12    7.199967\n",
       "2022-05-13   24.799871\n",
       "2022-05-14    0.000000\n",
       "2022-05-15    0.000000\n",
       "\n",
       "[26433 rows x 1 columns]"
      ]
     },
     "execution_count": 13,
     "metadata": {},
     "output_type": "execute_result"
    },
    {
     "data": {
      "application/javascript": "\n            setTimeout(function() {\n                var nbb_cell_id = 13;\n                var nbb_unformatted_code = \"# create a mask for forest areas (vegetation class 110)\\nforest_mask = vegetation_downscaled_xr.vegetation == 110\\n\\n# filter precipitation of forest areas\\nforest_precipitation = precipitation_downscaled_xr.where(forest_mask)\\n\\n# compute mean daily precipitation, mean over spatial dims latitude and longitude\\ndf_rain_historical = forest_precipitation.mean(dim=['latitude', 'longitude'], skipna=True).to_dataframe()\\n\\n# drop the spatial_ref column from the resulting df\\ndf_rain_historical.drop(columns='spatial_ref', inplace=True)\\n\\n# rename the precipitation column and index\\ndf_rain_historical.rename(columns={'precipitation': 'daily_rain'}, inplace=True)\\ndf_rain_historical.index.rename('Date', inplace=True)\\ndf_rain_historical\";\n                var nbb_formatted_code = \"# create a mask for forest areas (vegetation class 110)\\nforest_mask = vegetation_downscaled_xr.vegetation == 110\\n\\n# filter precipitation of forest areas\\nforest_precipitation = precipitation_downscaled_xr.where(forest_mask)\\n\\n# compute mean daily precipitation, mean over spatial dims latitude and longitude\\ndf_rain_historical = forest_precipitation.mean(\\n    dim=[\\\"latitude\\\", \\\"longitude\\\"], skipna=True\\n).to_dataframe()\\n\\n# drop the spatial_ref column from the resulting df\\ndf_rain_historical.drop(columns=\\\"spatial_ref\\\", inplace=True)\\n\\n# rename the precipitation column and index\\ndf_rain_historical.rename(columns={\\\"precipitation\\\": \\\"daily_rain\\\"}, inplace=True)\\ndf_rain_historical.index.rename(\\\"Date\\\", inplace=True)\\ndf_rain_historical\";\n                var nbb_cells = Jupyter.notebook.get_cells();\n                for (var i = 0; i < nbb_cells.length; ++i) {\n                    if (nbb_cells[i].input_prompt_number == nbb_cell_id) {\n                        if (nbb_cells[i].get_text() == nbb_unformatted_code) {\n                             nbb_cells[i].set_text(nbb_formatted_code);\n                        }\n                        break;\n                    }\n                }\n            }, 500);\n            ",
      "text/plain": [
       "<IPython.core.display.Javascript object>"
      ]
     },
     "metadata": {},
     "output_type": "display_data"
    }
   ],
   "source": [
    "# create a mask for forest areas (vegetation class 110)\n",
    "forest_mask = vegetation_downscaled_xr.vegetation == 110\n",
    "\n",
    "# filter precipitation of forest areas\n",
    "forest_precipitation = precipitation_downscaled_xr.where(forest_mask)\n",
    "\n",
    "# compute mean daily precipitation, mean over spatial dims latitude and longitude\n",
    "df_rain_historical = forest_precipitation.mean(dim=['latitude', 'longitude'], skipna=True).to_dataframe()\n",
    "\n",
    "# drop the spatial_ref column from the resulting df\n",
    "df_rain_historical.drop(columns='spatial_ref', inplace=True)\n",
    "\n",
    "# rename the precipitation column and index\n",
    "df_rain_historical.rename(columns={'precipitation': 'daily_rain'}, inplace=True)\n",
    "df_rain_historical.index.rename('Date', inplace=True)\n",
    "df_rain_historical"
   ]
  },
  {
   "cell_type": "code",
   "execution_count": 14,
   "metadata": {},
   "outputs": [
    {
     "data": {
      "image/png": "[encoded data removed]",
      "text/plain": [
       "<Figure size 1400x600 with 4 Axes>"
      ]
     },
     "metadata": {},
     "output_type": "display_data"
    },
    {
     "data": {
      "application/javascript": "\n            setTimeout(function() {\n                var nbb_cell_id = 14;\n                var nbb_unformatted_code = \"fig, ax = plt.subplots(1, 2, figsize=(14, 6))\\nvegetation_downscaled_xr.vegetation.plot(ax=ax[0])\\nax[0].set_title(\\\"Vegetation class\\\")\\nforest_precipitation.precipitation[dict(time=3)].plot(ax=ax[1])\\nax[1].set_title(\\\"Vegetation class downscaled\\\")\\nax[1].set_xlabel(\\\"longitude\\\")\\nax[1].set_ylabel(\\\"latitude\\\")\\nplt.tight_layout()\\nplt.show()\";\n                var nbb_formatted_code = \"fig, ax = plt.subplots(1, 2, figsize=(14, 6))\\nvegetation_downscaled_xr.vegetation.plot(ax=ax[0])\\nax[0].set_title(\\\"Vegetation class\\\")\\nforest_precipitation.precipitation[dict(time=3)].plot(ax=ax[1])\\nax[1].set_title(\\\"Vegetation class downscaled\\\")\\nax[1].set_xlabel(\\\"longitude\\\")\\nax[1].set_ylabel(\\\"latitude\\\")\\nplt.tight_layout()\\nplt.show()\";\n                var nbb_cells = Jupyter.notebook.get_cells();\n                for (var i = 0; i < nbb_cells.length; ++i) {\n                    if (nbb_cells[i].input_prompt_number == nbb_cell_id) {\n                        if (nbb_cells[i].get_text() == nbb_unformatted_code) {\n                             nbb_cells[i].set_text(nbb_formatted_code);\n                        }\n                        break;\n                    }\n                }\n            }, 500);\n            ",
      "text/plain": [
       "<IPython.core.display.Javascript object>"
      ]
     },
     "metadata": {},
     "output_type": "display_data"
    }
   ],
   "source": [
    "fig, ax = plt.subplots(1, 2, figsize=(14, 6))\n",
    "vegetation_downscaled_xr.vegetation.plot(ax=ax[0])\n",
    "ax[0].set_title(\"Vegetation class\")\n",
    "forest_precipitation.precipitation[dict(time=3)].plot(ax=ax[1])\n",
    "ax[1].set_title(\"Precipitation (mm)\")\n",
    "ax[1].set_xlabel(\"longitude\")\n",
    "ax[1].set_ylabel(\"latitude\")\n",
    "plt.tight_layout()\n",
    "plt.show()"
   ]
  },
  {
   "cell_type": "markdown",
   "metadata": {},
   "source": [
    "The values seem reasonable for a palce like Australia which is known for its dry weather."
   ]
  },
  {
   "cell_type": "code",
   "execution_count": 15,
   "metadata": {},
   "outputs": [
    {
     "data": {
      "application/javascript": "\n            setTimeout(function() {\n                var nbb_cell_id = 15;\n                var nbb_unformatted_code = \"assert df_rain_historical.index.name == \\\"Date\\\"\";\n                var nbb_formatted_code = \"assert df_rain_historical.index.name == \\\"Date\\\"\";\n                var nbb_cells = Jupyter.notebook.get_cells();\n                for (var i = 0; i < nbb_cells.length; ++i) {\n                    if (nbb_cells[i].input_prompt_number == nbb_cell_id) {\n                        if (nbb_cells[i].get_text() == nbb_unformatted_code) {\n                             nbb_cells[i].set_text(nbb_formatted_code);\n                        }\n                        break;\n                    }\n                }\n            }, 500);\n            ",
      "text/plain": [
       "<IPython.core.display.Javascript object>"
      ]
     },
     "metadata": {},
     "output_type": "display_data"
    }
   ],
   "source": [
    "assert df_rain_historical.index.name == \"Date\""
   ]
  },
  {
   "cell_type": "markdown",
   "metadata": {},
   "source": [
    "## 3.3 Next steps"
   ]
  },
  {
   "cell_type": "markdown",
   "metadata": {},
   "source": [
    "The previous task helped you to compute the daily precipitation for one day at the client's locations. We actually have access to 70 years of historical data and that's the object of the next steps. The data from the previous part has been extracted at the client location into a dataframe that you will use from now on"
   ]
  },
  {
   "cell_type": "markdown",
   "metadata": {},
   "source": [
    "# 4. Pricing"
   ]
  },
  {
   "cell_type": "markdown",
   "metadata": {},
   "source": [
    "## 4.1 Context\n",
    "\n",
    "The client is looking to be covered against excess of rain.\n",
    "\n",
    "The client wishes to receive a payout under the following conditions:\n",
    "+ Depends on the cumulative rainfall (mm) over the season.\n",
    "+ Linear payout starting at a deductible of 650 mm and limit of 750 mm with a payout of AUD 500,000.\n",
    "\n",
    "It means that \n",
    "+ If the cumulative rainfall is below 650 mm, the client receives nothing.\n",
    "+ If the cumulative rainfall is above 750 mm, the client receives the max payout of AUD 500,000 no matter the loss.\n",
    "+ If the cumulative rainfall is between 650 and 750 mm, the payout is linear, slope of AUD 5,000 per mm. For example, if the cumulative rainfall is 700 mm, the payout would be AUD 250,000.\n"
   ]
  },
  {
   "cell_type": "markdown",
   "metadata": {},
   "source": [
    "## 4.2 Data"
   ]
  },
  {
   "cell_type": "markdown",
   "metadata": {},
   "source": [
    "We have access to the cumulative rainfall (in millimeters-mm) each day since 1950 January 1st using the task before."
   ]
  },
  {
   "cell_type": "markdown",
   "metadata": {},
   "source": [
    "## 4.3 Preprocessing"
   ]
  },
  {
   "cell_type": "markdown",
   "metadata": {},
   "source": [
    "### 4.3.1 Filtering"
   ]
  },
  {
   "cell_type": "markdown",
   "metadata": {},
   "source": [
    "**Risk period**\n",
    "\n",
    "The client would like to be covered from the 1st of December of a given year until 1st of March of the following year (**not included**).\n",
    "\n",
    "**Task**\n",
    "- Filter the historical dates to keep only the ones in the risk periods. ⚠️ You should not have incomplete seasons. ⚠️\n",
    "- Remove the rows with the date equal to February 29th.\n",
    "- Create a `season` column, the value of the season is the year corresponding to the 1st of December. For example, for the given risk period 1st of December 2021 - 1st of March 2022, the season is 2021."
   ]
  },
  {
   "cell_type": "code",
   "execution_count": 16,
   "metadata": {},
   "outputs": [
    {
     "data": {
      "text/html": [
       "<div>\n",
       "<style scoped>\n",
       "    .dataframe tbody tr th:only-of-type {\n",
       "        vertical-align: middle;\n",
       "    }\n",
       "\n",
       "    .dataframe tbody tr th {\n",
       "        vertical-align: top;\n",
       "    }\n",
       "\n",
       "    .dataframe thead th {\n",
       "        text-align: right;\n",
       "    }\n",
       "</style>\n",
       "<table border=\"1\" class=\"dataframe\">\n",
       "  <thead>\n",
       "    <tr style=\"text-align: right;\">\n",
       "      <th></th>\n",
       "      <th>daily_rain</th>\n",
       "      <th>season</th>\n",
       "    </tr>\n",
       "    <tr>\n",
       "      <th>Date</th>\n",
       "      <th></th>\n",
       "      <th></th>\n",
       "    </tr>\n",
       "  </thead>\n",
       "  <tbody>\n",
       "    <tr>\n",
       "      <th>1950-12-01</th>\n",
       "      <td>0.099999</td>\n",
       "      <td>1950</td>\n",
       "    </tr>\n",
       "    <tr>\n",
       "      <th>1950-12-02</th>\n",
       "      <td>0.099999</td>\n",
       "      <td>1950</td>\n",
       "    </tr>\n",
       "    <tr>\n",
       "      <th>1950-12-03</th>\n",
       "      <td>0.199999</td>\n",
       "      <td>1950</td>\n",
       "    </tr>\n",
       "    <tr>\n",
       "      <th>1950-12-04</th>\n",
       "      <td>0.199999</td>\n",
       "      <td>1950</td>\n",
       "    </tr>\n",
       "    <tr>\n",
       "      <th>1950-12-05</th>\n",
       "      <td>16.799904</td>\n",
       "      <td>1950</td>\n",
       "    </tr>\n",
       "    <tr>\n",
       "      <th>...</th>\n",
       "      <td>...</td>\n",
       "      <td>...</td>\n",
       "    </tr>\n",
       "    <tr>\n",
       "      <th>2022-02-24</th>\n",
       "      <td>0.000000</td>\n",
       "      <td>2021</td>\n",
       "    </tr>\n",
       "    <tr>\n",
       "      <th>2022-02-25</th>\n",
       "      <td>1.599992</td>\n",
       "      <td>2021</td>\n",
       "    </tr>\n",
       "    <tr>\n",
       "      <th>2022-02-26</th>\n",
       "      <td>0.000000</td>\n",
       "      <td>2021</td>\n",
       "    </tr>\n",
       "    <tr>\n",
       "      <th>2022-02-27</th>\n",
       "      <td>3.500000</td>\n",
       "      <td>2021</td>\n",
       "    </tr>\n",
       "    <tr>\n",
       "      <th>2022-02-28</th>\n",
       "      <td>0.000000</td>\n",
       "      <td>2021</td>\n",
       "    </tr>\n",
       "  </tbody>\n",
       "</table>\n",
       "<p>6480 rows × 2 columns</p>\n",
       "</div>"
      ],
      "text/plain": [
       "            daily_rain  season\n",
       "Date                          \n",
       "1950-12-01    0.099999    1950\n",
       "1950-12-02    0.099999    1950\n",
       "1950-12-03    0.199999    1950\n",
       "1950-12-04    0.199999    1950\n",
       "1950-12-05   16.799904    1950\n",
       "...                ...     ...\n",
       "2022-02-24    0.000000    2021\n",
       "2022-02-25    1.599992    2021\n",
       "2022-02-26    0.000000    2021\n",
       "2022-02-27    3.500000    2021\n",
       "2022-02-28    0.000000    2021\n",
       "\n",
       "[6480 rows x 2 columns]"
      ]
     },
     "execution_count": 16,
     "metadata": {},
     "output_type": "execute_result"
    },
    {
     "data": {
      "application/javascript": "\n            setTimeout(function() {\n                var nbb_cell_id = 16;\n                var nbb_unformatted_code = \"# filter dates to only risk periods i.e from 1st of December to 1st of March\\ndf_rain_historical = df_rain_historical[\\n    (df_rain_historical.index.month == 12) | # December\\n    (df_rain_historical.index.month <= 2)    # January and February\\n    ].copy()\\n\\n# remove February 29th (leap day)\\ndf_rain_historical = df_rain_historical[~((df_rain_historical.index.month == 2) & (df_rain_historical.index.day == 29))]\\n\\n# create the \\\"season\\\" column\\ndf_rain_historical['season'] = df_rain_historical.index.year\\ndf_rain_historical.loc[df_rain_historical.index.month <= 2, 'season'] -= 1\\n\\n# ensure that seasons are complete i.e they have exactly 90 days\\ndf_rain_historical = df_rain_historical.groupby('season').filter(lambda group : len(group) == 90)\\ndf_rain_historical\";\n                var nbb_formatted_code = \"# filter dates to only risk periods i.e from 1st of December to 1st of March\\ndf_rain_historical = df_rain_historical[\\n    (df_rain_historical.index.month == 12)\\n    | (df_rain_historical.index.month <= 2)  # December  # January and February\\n].copy()\\n\\n# remove February 29th (leap day)\\ndf_rain_historical = df_rain_historical[\\n    ~((df_rain_historical.index.month == 2) & (df_rain_historical.index.day == 29))\\n]\\n\\n# create the \\\"season\\\" column\\ndf_rain_historical[\\\"season\\\"] = df_rain_historical.index.year\\ndf_rain_historical.loc[df_rain_historical.index.month <= 2, \\\"season\\\"] -= 1\\n\\n# ensure that seasons are complete i.e they have exactly 90 days\\ndf_rain_historical = df_rain_historical.groupby(\\\"season\\\").filter(\\n    lambda group: len(group) == 90\\n)\\ndf_rain_historical\";\n                var nbb_cells = Jupyter.notebook.get_cells();\n                for (var i = 0; i < nbb_cells.length; ++i) {\n                    if (nbb_cells[i].input_prompt_number == nbb_cell_id) {\n                        if (nbb_cells[i].get_text() == nbb_unformatted_code) {\n                             nbb_cells[i].set_text(nbb_formatted_code);\n                        }\n                        break;\n                    }\n                }\n            }, 500);\n            ",
      "text/plain": [
       "<IPython.core.display.Javascript object>"
      ]
     },
     "metadata": {},
     "output_type": "display_data"
    }
   ],
   "source": [
    "# filter dates to only risk periods i.e from 1st of December to 1st of March\n",
    "df_rain_historical = df_rain_historical[\n",
    "    (df_rain_historical.index.month == 12) | # December\n",
    "    (df_rain_historical.index.month <= 2)    # January and February\n",
    "    ].copy()\n",
    "\n",
    "# remove February 29th (leap day)\n",
    "df_rain_historical = df_rain_historical[~((df_rain_historical.index.month == 2) & (df_rain_historical.index.day == 29))]\n",
    "\n",
    "# create the \"season\" column\n",
    "df_rain_historical['season'] = df_rain_historical.index.year\n",
    "df_rain_historical.loc[df_rain_historical.index.month <= 2, 'season'] -= 1\n",
    "\n",
    "# ensure that seasons are complete i.e they have exactly 90 days\n",
    "df_rain_historical = df_rain_historical.groupby('season').filter(lambda group : len(group) == 90)\n",
    "df_rain_historical"
   ]
  },
  {
   "cell_type": "code",
   "execution_count": 17,
   "metadata": {},
   "outputs": [
    {
     "data": {
      "application/javascript": "\n            setTimeout(function() {\n                var nbb_cell_id = 17;\n                var nbb_unformatted_code = \"assert list(df_rain_historical.columns) == [\\\"daily_rain\\\", \\\"season\\\"]\";\n                var nbb_formatted_code = \"assert list(df_rain_historical.columns) == [\\\"daily_rain\\\", \\\"season\\\"]\";\n                var nbb_cells = Jupyter.notebook.get_cells();\n                for (var i = 0; i < nbb_cells.length; ++i) {\n                    if (nbb_cells[i].input_prompt_number == nbb_cell_id) {\n                        if (nbb_cells[i].get_text() == nbb_unformatted_code) {\n                             nbb_cells[i].set_text(nbb_formatted_code);\n                        }\n                        break;\n                    }\n                }\n            }, 500);\n            ",
      "text/plain": [
       "<IPython.core.display.Javascript object>"
      ]
     },
     "metadata": {},
     "output_type": "display_data"
    }
   ],
   "source": [
    "assert list(df_rain_historical.columns) == [\"daily_rain\", \"season\"]"
   ]
  },
  {
   "cell_type": "markdown",
   "metadata": {},
   "source": [
    "### 4.3.2 Regroup by season"
   ]
  },
  {
   "cell_type": "markdown",
   "metadata": {},
   "source": [
    "**Task**\n",
    "\n",
    "- Create a new dataframe `df_cum_rain` by regrouping by season and by computing the cumulative rainfall over the risk period.\n",
    "- Rename the column `daily_rain` by `cum_rain`."
   ]
  },
  {
   "cell_type": "code",
   "execution_count": 18,
   "metadata": {},
   "outputs": [
    {
     "data": {
      "text/html": [
       "<div>\n",
       "<style scoped>\n",
       "    .dataframe tbody tr th:only-of-type {\n",
       "        vertical-align: middle;\n",
       "    }\n",
       "\n",
       "    .dataframe tbody tr th {\n",
       "        vertical-align: top;\n",
       "    }\n",
       "\n",
       "    .dataframe thead th {\n",
       "        text-align: right;\n",
       "    }\n",
       "</style>\n",
       "<table border=\"1\" class=\"dataframe\">\n",
       "  <thead>\n",
       "    <tr style=\"text-align: right;\">\n",
       "      <th></th>\n",
       "      <th>cum_rain</th>\n",
       "    </tr>\n",
       "    <tr>\n",
       "      <th>Date</th>\n",
       "      <th></th>\n",
       "    </tr>\n",
       "  </thead>\n",
       "  <tbody>\n",
       "    <tr>\n",
       "      <th>1950-12-01</th>\n",
       "      <td>0.099999</td>\n",
       "    </tr>\n",
       "    <tr>\n",
       "      <th>1950-12-02</th>\n",
       "      <td>0.199999</td>\n",
       "    </tr>\n",
       "    <tr>\n",
       "      <th>1950-12-03</th>\n",
       "      <td>0.399998</td>\n",
       "    </tr>\n",
       "    <tr>\n",
       "      <th>1950-12-04</th>\n",
       "      <td>0.599997</td>\n",
       "    </tr>\n",
       "    <tr>\n",
       "      <th>1950-12-05</th>\n",
       "      <td>17.399900</td>\n",
       "    </tr>\n",
       "    <tr>\n",
       "      <th>...</th>\n",
       "      <td>...</td>\n",
       "    </tr>\n",
       "    <tr>\n",
       "      <th>2022-02-24</th>\n",
       "      <td>145.000443</td>\n",
       "    </tr>\n",
       "    <tr>\n",
       "      <th>2022-02-25</th>\n",
       "      <td>146.600433</td>\n",
       "    </tr>\n",
       "    <tr>\n",
       "      <th>2022-02-26</th>\n",
       "      <td>146.600433</td>\n",
       "    </tr>\n",
       "    <tr>\n",
       "      <th>2022-02-27</th>\n",
       "      <td>150.100433</td>\n",
       "    </tr>\n",
       "    <tr>\n",
       "      <th>2022-02-28</th>\n",
       "      <td>150.100433</td>\n",
       "    </tr>\n",
       "  </tbody>\n",
       "</table>\n",
       "<p>6480 rows × 1 columns</p>\n",
       "</div>"
      ],
      "text/plain": [
       "              cum_rain\n",
       "Date                  \n",
       "1950-12-01    0.099999\n",
       "1950-12-02    0.199999\n",
       "1950-12-03    0.399998\n",
       "1950-12-04    0.599997\n",
       "1950-12-05   17.399900\n",
       "...                ...\n",
       "2022-02-24  145.000443\n",
       "2022-02-25  146.600433\n",
       "2022-02-26  146.600433\n",
       "2022-02-27  150.100433\n",
       "2022-02-28  150.100433\n",
       "\n",
       "[6480 rows x 1 columns]"
      ]
     },
     "execution_count": 18,
     "metadata": {},
     "output_type": "execute_result"
    },
    {
     "data": {
      "application/javascript": "\n            setTimeout(function() {\n                var nbb_cell_id = 18;\n                var nbb_unformatted_code = \"# group by \\\"season\\\" and use cumsum() from pandas.DataFrame to calculate the cumulative rainfall\\ndf_cum_rain = df_rain_historical.groupby('season')['daily_rain'].cumsum().reset_index()\\n\\n# rename the column daily_rain to cum_rain\\ndf_cum_rain.rename(columns={'daily_rain': 'cum_rain'}, inplace=True)\\n\\n# set Date as the index\\ndf_cum_rain = df_cum_rain.set_index('Date', drop=True)\\ndf_cum_rain\";\n                var nbb_formatted_code = \"# group by \\\"season\\\" and use cumsum() from pandas.DataFrame to calculate the cumulative rainfall\\ndf_cum_rain = df_rain_historical.groupby(\\\"season\\\")[\\\"daily_rain\\\"].cumsum().reset_index()\\n\\n# rename the column daily_rain to cum_rain\\ndf_cum_rain.rename(columns={\\\"daily_rain\\\": \\\"cum_rain\\\"}, inplace=True)\\n\\n# set Date as the index\\ndf_cum_rain = df_cum_rain.set_index(\\\"Date\\\", drop=True)\\ndf_cum_rain\";\n                var nbb_cells = Jupyter.notebook.get_cells();\n                for (var i = 0; i < nbb_cells.length; ++i) {\n                    if (nbb_cells[i].input_prompt_number == nbb_cell_id) {\n                        if (nbb_cells[i].get_text() == nbb_unformatted_code) {\n                             nbb_cells[i].set_text(nbb_formatted_code);\n                        }\n                        break;\n                    }\n                }\n            }, 500);\n            ",
      "text/plain": [
       "<IPython.core.display.Javascript object>"
      ]
     },
     "metadata": {},
     "output_type": "display_data"
    }
   ],
   "source": [
    "# group by \"season\" and use cumsum() from pandas.DataFrame to calculate the cumulative rainfall\n",
    "df_cum_rain = df_rain_historical.groupby('season')['daily_rain'].cumsum().reset_index()\n",
    "\n",
    "# rename the column daily_rain to cum_rain\n",
    "df_cum_rain.rename(columns={'daily_rain': 'cum_rain'}, inplace=True)\n",
    "\n",
    "# set Date as the index\n",
    "df_cum_rain = df_cum_rain.set_index('Date', drop=True)\n",
    "df_cum_rain"
   ]
  },
  {
   "cell_type": "markdown",
   "metadata": {},
   "source": [
    "## 4.4 Compute payouts"
   ]
  },
  {
   "cell_type": "markdown",
   "metadata": {},
   "source": [
    "Using the current values of `cum_rain`, we will now compute the historical payouts.\n",
    "\n",
    "**Task**\n",
    "- Design a function that computes the payouts using the structure defined above.\n",
    "- Compute historical payouts since 1950 by creating a new dataframe `df_historical_payouts` with column `hist_payouts`. \n",
    "\n",
    "The resulting mean value of historical payouts is called **burning cost** and corresponds to the mean payout the client would have received based on the historica data. This is an important metrics in the design of insurance covers."
   ]
  },
  {
   "cell_type": "code",
   "execution_count": 19,
   "metadata": {},
   "outputs": [
    {
     "data": {
      "text/html": [
       "<div>\n",
       "<style scoped>\n",
       "    .dataframe tbody tr th:only-of-type {\n",
       "        vertical-align: middle;\n",
       "    }\n",
       "\n",
       "    .dataframe tbody tr th {\n",
       "        vertical-align: top;\n",
       "    }\n",
       "\n",
       "    .dataframe thead th {\n",
       "        text-align: right;\n",
       "    }\n",
       "</style>\n",
       "<table border=\"1\" class=\"dataframe\">\n",
       "  <thead>\n",
       "    <tr style=\"text-align: right;\">\n",
       "      <th></th>\n",
       "      <th>hist_payouts</th>\n",
       "    </tr>\n",
       "    <tr>\n",
       "      <th>Date</th>\n",
       "      <th></th>\n",
       "    </tr>\n",
       "  </thead>\n",
       "  <tbody>\n",
       "    <tr>\n",
       "      <th>1950-12-01</th>\n",
       "      <td>0.0</td>\n",
       "    </tr>\n",
       "    <tr>\n",
       "      <th>1950-12-02</th>\n",
       "      <td>0.0</td>\n",
       "    </tr>\n",
       "    <tr>\n",
       "      <th>1950-12-03</th>\n",
       "      <td>0.0</td>\n",
       "    </tr>\n",
       "    <tr>\n",
       "      <th>1950-12-04</th>\n",
       "      <td>0.0</td>\n",
       "    </tr>\n",
       "    <tr>\n",
       "      <th>1950-12-05</th>\n",
       "      <td>0.0</td>\n",
       "    </tr>\n",
       "    <tr>\n",
       "      <th>...</th>\n",
       "      <td>...</td>\n",
       "    </tr>\n",
       "    <tr>\n",
       "      <th>2022-02-24</th>\n",
       "      <td>0.0</td>\n",
       "    </tr>\n",
       "    <tr>\n",
       "      <th>2022-02-25</th>\n",
       "      <td>0.0</td>\n",
       "    </tr>\n",
       "    <tr>\n",
       "      <th>2022-02-26</th>\n",
       "      <td>0.0</td>\n",
       "    </tr>\n",
       "    <tr>\n",
       "      <th>2022-02-27</th>\n",
       "      <td>0.0</td>\n",
       "    </tr>\n",
       "    <tr>\n",
       "      <th>2022-02-28</th>\n",
       "      <td>0.0</td>\n",
       "    </tr>\n",
       "  </tbody>\n",
       "</table>\n",
       "<p>6480 rows × 1 columns</p>\n",
       "</div>"
      ],
      "text/plain": [
       "            hist_payouts\n",
       "Date                    \n",
       "1950-12-01           0.0\n",
       "1950-12-02           0.0\n",
       "1950-12-03           0.0\n",
       "1950-12-04           0.0\n",
       "1950-12-05           0.0\n",
       "...                  ...\n",
       "2022-02-24           0.0\n",
       "2022-02-25           0.0\n",
       "2022-02-26           0.0\n",
       "2022-02-27           0.0\n",
       "2022-02-28           0.0\n",
       "\n",
       "[6480 rows x 1 columns]"
      ]
     },
     "execution_count": 19,
     "metadata": {},
     "output_type": "execute_result"
    },
    {
     "data": {
      "application/javascript": "\n            setTimeout(function() {\n                var nbb_cell_id = 19;\n                var nbb_unformatted_code = \"def calculate_payout(cum_rain: float) -> float:\\n    \\\"\\\"\\\"Calculates payout based on daily cumulative rainfall.\\\"\\\"\\\"\\n    lower = 650\\n    upper = 750\\n    max_payout = 500_000\\n    slope = 5_000\\n\\n    if cum_rain <= lower:\\n        return 0\\n    elif cum_rain >= upper:\\n        return max_payout\\n    else:\\n        return (cum_rain - lower) * slope\\n\\n# apply the calculate_payout function and name the resulting column hist_payouts\\ndf_historical_payouts = df_cum_rain['cum_rain'].apply(calculate_payout).to_frame(name='hist_payouts')\\ndf_historical_payouts\";\n                var nbb_formatted_code = \"def calculate_payout(cum_rain: float) -> float:\\n    \\\"\\\"\\\"Calculates payout based on daily cumulative rainfall.\\\"\\\"\\\"\\n    lower = 650\\n    upper = 750\\n    max_payout = 500_000\\n    slope = 5_000\\n\\n    if cum_rain <= lower:\\n        return 0\\n    elif cum_rain >= upper:\\n        return max_payout\\n    else:\\n        return (cum_rain - lower) * slope\\n\\n\\n# apply the calculate_payout function and name the resulting column hist_payouts\\ndf_historical_payouts = (\\n    df_cum_rain[\\\"cum_rain\\\"].apply(calculate_payout).to_frame(name=\\\"hist_payouts\\\")\\n)\\ndf_historical_payouts\";\n                var nbb_cells = Jupyter.notebook.get_cells();\n                for (var i = 0; i < nbb_cells.length; ++i) {\n                    if (nbb_cells[i].input_prompt_number == nbb_cell_id) {\n                        if (nbb_cells[i].get_text() == nbb_unformatted_code) {\n                             nbb_cells[i].set_text(nbb_formatted_code);\n                        }\n                        break;\n                    }\n                }\n            }, 500);\n            ",
      "text/plain": [
       "<IPython.core.display.Javascript object>"
      ]
     },
     "metadata": {},
     "output_type": "display_data"
    }
   ],
   "source": [
    "def calculate_payout(cum_rain: float) -> float:\n",
    "    \"\"\"Calculates payout based on daily cumulative rainfall.\"\"\"\n",
    "    lower = 650\n",
    "    upper = 750\n",
    "    max_payout = 500_000\n",
    "    slope = 5_000\n",
    "\n",
    "    if cum_rain <= lower:\n",
    "        return 0\n",
    "    elif cum_rain >= upper:\n",
    "        return max_payout\n",
    "    else:\n",
    "        return (cum_rain - lower) * slope\n",
    "\n",
    "# apply the calculate_payout function and name the resulting column hist_payouts\n",
    "df_historical_payouts = df_cum_rain['cum_rain'].apply(calculate_payout).to_frame(name='hist_payouts')\n",
    "df_historical_payouts"
   ]
  },
  {
   "cell_type": "markdown",
   "metadata": {},
   "source": [
    "First of all, the fact that we have mostly zero payouts makes sense. Excessive rainfalls are rare in general especially in a palce like Australia which is known for its arid weather. This is a good sanity check."
   ]
  },
  {
   "cell_type": "code",
   "execution_count": 20,
   "metadata": {},
   "outputs": [
    {
     "name": "stdout",
     "output_type": "stream",
     "text": [
      "The burning cost is at around 8917.19 AUD.\n"
     ]
    },
    {
     "data": {
      "application/javascript": "\n            setTimeout(function() {\n                var nbb_cell_id = 20;\n                var nbb_unformatted_code = \"print(f\\\"The burning cost is at around {df_historical_payouts.mean().item():.2f} AUD.\\\")\";\n                var nbb_formatted_code = \"print(f\\\"The burning cost is at around {df_historical_payouts.mean().item():.2f} AUD.\\\")\";\n                var nbb_cells = Jupyter.notebook.get_cells();\n                for (var i = 0; i < nbb_cells.length; ++i) {\n                    if (nbb_cells[i].input_prompt_number == nbb_cell_id) {\n                        if (nbb_cells[i].get_text() == nbb_unformatted_code) {\n                             nbb_cells[i].set_text(nbb_formatted_code);\n                        }\n                        break;\n                    }\n                }\n            }, 500);\n            ",
      "text/plain": [
       "<IPython.core.display.Javascript object>"
      ]
     },
     "metadata": {},
     "output_type": "display_data"
    }
   ],
   "source": [
    "print(f\"The burning cost is at around {df_historical_payouts.mean().item():.2f} AUD.\")"
   ]
  },
  {
   "cell_type": "markdown",
   "metadata": {},
   "source": [
    "## 4.5 Weighting"
   ]
  },
  {
   "cell_type": "markdown",
   "metadata": {},
   "source": [
    "### 4.5.1 Year type"
   ]
  },
  {
   "cell_type": "markdown",
   "metadata": {},
   "source": [
    "We actually have access to historical yearly forecasts that states if the year was supposed to be rainy or not. There are 3 predictions:\n",
    "- neutral\n",
    "- dry\n",
    "- rainy\n",
    "\n",
    "All the information is stored in the dataframe `df_year_type`.\n",
    "\n",
    "We will use this information to compute a weighted payouts using next year forecast."
   ]
  },
  {
   "cell_type": "code",
   "execution_count": 21,
   "metadata": {},
   "outputs": [
    {
     "data": {
      "application/javascript": "\n            setTimeout(function() {\n                var nbb_cell_id = 21;\n                var nbb_unformatted_code = \"year_type_data_path = DATA_PATH / \\\"pricing\\\" / \\\"year_type_historical.csv\\\"\";\n                var nbb_formatted_code = \"year_type_data_path = DATA_PATH / \\\"pricing\\\" / \\\"year_type_historical.csv\\\"\";\n                var nbb_cells = Jupyter.notebook.get_cells();\n                for (var i = 0; i < nbb_cells.length; ++i) {\n                    if (nbb_cells[i].input_prompt_number == nbb_cell_id) {\n                        if (nbb_cells[i].get_text() == nbb_unformatted_code) {\n                             nbb_cells[i].set_text(nbb_formatted_code);\n                        }\n                        break;\n                    }\n                }\n            }, 500);\n            ",
      "text/plain": [
       "<IPython.core.display.Javascript object>"
      ]
     },
     "metadata": {},
     "output_type": "display_data"
    }
   ],
   "source": [
    "year_type_data_path = DATA_PATH / \"pricing\" / \"year_type_historical.csv\""
   ]
  },
  {
   "cell_type": "code",
   "execution_count": 22,
   "metadata": {},
   "outputs": [
    {
     "data": {
      "text/html": [
       "<div>\n",
       "<style scoped>\n",
       "    .dataframe tbody tr th:only-of-type {\n",
       "        vertical-align: middle;\n",
       "    }\n",
       "\n",
       "    .dataframe tbody tr th {\n",
       "        vertical-align: top;\n",
       "    }\n",
       "\n",
       "    .dataframe thead th {\n",
       "        text-align: right;\n",
       "    }\n",
       "</style>\n",
       "<table border=\"1\" class=\"dataframe\">\n",
       "  <thead>\n",
       "    <tr style=\"text-align: right;\">\n",
       "      <th></th>\n",
       "      <th>year_type</th>\n",
       "    </tr>\n",
       "    <tr>\n",
       "      <th>season</th>\n",
       "      <th></th>\n",
       "    </tr>\n",
       "  </thead>\n",
       "  <tbody>\n",
       "    <tr>\n",
       "      <th>1950</th>\n",
       "      <td>rainy</td>\n",
       "    </tr>\n",
       "    <tr>\n",
       "      <th>1951</th>\n",
       "      <td>dry</td>\n",
       "    </tr>\n",
       "    <tr>\n",
       "      <th>1952</th>\n",
       "      <td>neutral</td>\n",
       "    </tr>\n",
       "    <tr>\n",
       "      <th>1953</th>\n",
       "      <td>dry</td>\n",
       "    </tr>\n",
       "    <tr>\n",
       "      <th>1954</th>\n",
       "      <td>rainy</td>\n",
       "    </tr>\n",
       "  </tbody>\n",
       "</table>\n",
       "</div>"
      ],
      "text/plain": [
       "       year_type\n",
       "season          \n",
       "1950       rainy\n",
       "1951         dry\n",
       "1952     neutral\n",
       "1953         dry\n",
       "1954       rainy"
      ]
     },
     "execution_count": 22,
     "metadata": {},
     "output_type": "execute_result"
    },
    {
     "data": {
      "application/javascript": "\n            setTimeout(function() {\n                var nbb_cell_id = 22;\n                var nbb_unformatted_code = \"df_year_type = (\\n    pd.read_csv(year_type_data_path, index_col=0)\\n    .rename(columns={\\\"Year\\\": \\\"season\\\"})\\n    .set_index(\\\"season\\\")\\n)\\ndf_year_type.head()\";\n                var nbb_formatted_code = \"df_year_type = (\\n    pd.read_csv(year_type_data_path, index_col=0)\\n    .rename(columns={\\\"Year\\\": \\\"season\\\"})\\n    .set_index(\\\"season\\\")\\n)\\ndf_year_type.head()\";\n                var nbb_cells = Jupyter.notebook.get_cells();\n                for (var i = 0; i < nbb_cells.length; ++i) {\n                    if (nbb_cells[i].input_prompt_number == nbb_cell_id) {\n                        if (nbb_cells[i].get_text() == nbb_unformatted_code) {\n                             nbb_cells[i].set_text(nbb_formatted_code);\n                        }\n                        break;\n                    }\n                }\n            }, 500);\n            ",
      "text/plain": [
       "<IPython.core.display.Javascript object>"
      ]
     },
     "metadata": {},
     "output_type": "display_data"
    }
   ],
   "source": [
    "df_year_type = (\n",
    "    pd.read_csv(year_type_data_path, index_col=0)\n",
    "    .rename(columns={\"Year\": \"season\"})\n",
    "    .set_index(\"season\")\n",
    ")\n",
    "df_year_type.head()"
   ]
  },
  {
   "cell_type": "markdown",
   "metadata": {},
   "source": [
    "**Task**\n",
    "\n",
    "Do the same computation (historical payouts) for each of the year type (rainy, dry or neutral). Compute the burning cost of each of the year type. What can you observe ?"
   ]
  },
  {
   "cell_type": "code",
   "execution_count": 23,
   "metadata": {},
   "outputs": [
    {
     "data": {
      "text/html": [
       "<div>\n",
       "<style scoped>\n",
       "    .dataframe tbody tr th:only-of-type {\n",
       "        vertical-align: middle;\n",
       "    }\n",
       "\n",
       "    .dataframe tbody tr th {\n",
       "        vertical-align: top;\n",
       "    }\n",
       "\n",
       "    .dataframe thead th {\n",
       "        text-align: right;\n",
       "    }\n",
       "</style>\n",
       "<table border=\"1\" class=\"dataframe\">\n",
       "  <thead>\n",
       "    <tr style=\"text-align: right;\">\n",
       "      <th></th>\n",
       "      <th>burning_cost</th>\n",
       "    </tr>\n",
       "    <tr>\n",
       "      <th>year_type</th>\n",
       "      <th></th>\n",
       "    </tr>\n",
       "  </thead>\n",
       "  <tbody>\n",
       "    <tr>\n",
       "      <th>dry</th>\n",
       "      <td>0.000000</td>\n",
       "    </tr>\n",
       "    <tr>\n",
       "      <th>neutral</th>\n",
       "      <td>16538.326687</td>\n",
       "    </tr>\n",
       "    <tr>\n",
       "      <th>rainy</th>\n",
       "      <td>12141.096578</td>\n",
       "    </tr>\n",
       "  </tbody>\n",
       "</table>\n",
       "</div>"
      ],
      "text/plain": [
       "           burning_cost\n",
       "year_type              \n",
       "dry            0.000000\n",
       "neutral    16538.326687\n",
       "rainy      12141.096578"
      ]
     },
     "execution_count": 23,
     "metadata": {},
     "output_type": "execute_result"
    },
    {
     "data": {
      "application/javascript": "\n            setTimeout(function() {\n                var nbb_cell_id = 23;\n                var nbb_unformatted_code = \"# merge rain and year type data\\ndf_rain_forecast = df_rain_historical.merge(df_year_type, on='season')\\n\\n# calculate cumulative rainfall\\ndf_rain_forecast['cum_rain'] = df_rain_forecast.groupby('season')['daily_rain'].cumsum()\\n\\n# calculate payouts\\ndf_rain_forecast['payout'] = df_rain_forecast['cum_rain'].apply(calculate_payout)\\n\\n# group by year_type and calculate burning cost for each type of year\\ndf_yearly_payouts = df_rain_forecast.groupby('year_type')['payout'].mean().to_frame(name='burning_cost')\\ndf_yearly_payouts\";\n                var nbb_formatted_code = \"# merge rain and year type data\\ndf_rain_forecast = df_rain_historical.merge(df_year_type, on=\\\"season\\\")\\n\\n# calculate cumulative rainfall\\ndf_rain_forecast[\\\"cum_rain\\\"] = df_rain_forecast.groupby(\\\"season\\\")[\\\"daily_rain\\\"].cumsum()\\n\\n# calculate payouts\\ndf_rain_forecast[\\\"payout\\\"] = df_rain_forecast[\\\"cum_rain\\\"].apply(calculate_payout)\\n\\n# group by year_type and calculate burning cost for each type of year\\ndf_yearly_payouts = (\\n    df_rain_forecast.groupby(\\\"year_type\\\")[\\\"payout\\\"].mean().to_frame(name=\\\"burning_cost\\\")\\n)\\ndf_yearly_payouts\";\n                var nbb_cells = Jupyter.notebook.get_cells();\n                for (var i = 0; i < nbb_cells.length; ++i) {\n                    if (nbb_cells[i].input_prompt_number == nbb_cell_id) {\n                        if (nbb_cells[i].get_text() == nbb_unformatted_code) {\n                             nbb_cells[i].set_text(nbb_formatted_code);\n                        }\n                        break;\n                    }\n                }\n            }, 500);\n            ",
      "text/plain": [
       "<IPython.core.display.Javascript object>"
      ]
     },
     "metadata": {},
     "output_type": "display_data"
    }
   ],
   "source": [
    "# merge rain and year type data\n",
    "df_rain_forecast = df_rain_historical.merge(df_year_type, on='season')\n",
    "\n",
    "# calculate cumulative rainfall\n",
    "df_rain_forecast['cum_rain'] = df_rain_forecast.groupby('season')['daily_rain'].cumsum()\n",
    "\n",
    "# calculate payouts\n",
    "df_rain_forecast['payout'] = df_rain_forecast['cum_rain'].apply(calculate_payout)\n",
    "\n",
    "# group by year_type and calculate burning cost for each type of year\n",
    "df_yearly_payouts = df_rain_forecast.groupby('year_type')['payout'].mean().to_frame(name='burning_cost')\n",
    "df_yearly_payouts"
   ]
  },
  {
   "cell_type": "markdown",
   "metadata": {},
   "source": [
    "For dry years, the burning cost is 0, indicating that the cumulative rainfall did not reach the lower limit of 650 mm required to trigger a payout. Consequently, the client has, on average, received no payouts during these years. For neutral years, the burning cost is observed to be the highest among the three types of years. Interestingly, in rainy years, the burning cost is lower than that in neutral years.\n",
    "\n",
    "This might initially appear counter-intuitive, but it could be a hit to the methodology used for the classification of years. For example, if the classification was based solely on average rainfall, this could hide those few anomalous days where the rainfall exceeded the upper limit, triggering maximum payouts thus leading to higher burning cost for the neutral years."
   ]
  },
  {
   "cell_type": "markdown",
   "metadata": {},
   "source": [
    "### 4.5.2 Next year forecast"
   ]
  },
  {
   "cell_type": "markdown",
   "metadata": {},
   "source": [
    "The forecast for next year is given in terms of probability for each of the year types:"
   ]
  },
  {
   "cell_type": "code",
   "execution_count": 24,
   "metadata": {},
   "outputs": [
    {
     "data": {
      "application/javascript": "\n            setTimeout(function() {\n                var nbb_cell_id = 24;\n                var nbb_unformatted_code = \"next_year_forecast = {\\\"dry\\\": 0.58, \\\"neutral\\\": 0.37, \\\"rainy\\\": 0.05}\";\n                var nbb_formatted_code = \"next_year_forecast = {\\\"dry\\\": 0.58, \\\"neutral\\\": 0.37, \\\"rainy\\\": 0.05}\";\n                var nbb_cells = Jupyter.notebook.get_cells();\n                for (var i = 0; i < nbb_cells.length; ++i) {\n                    if (nbb_cells[i].input_prompt_number == nbb_cell_id) {\n                        if (nbb_cells[i].get_text() == nbb_unformatted_code) {\n                             nbb_cells[i].set_text(nbb_formatted_code);\n                        }\n                        break;\n                    }\n                }\n            }, 500);\n            ",
      "text/plain": [
       "<IPython.core.display.Javascript object>"
      ]
     },
     "metadata": {},
     "output_type": "display_data"
    }
   ],
   "source": [
    "next_year_forecast = {\"dry\": 0.58, \"neutral\": 0.37, \"rainy\": 0.05}"
   ]
  },
  {
   "cell_type": "markdown",
   "metadata": {},
   "source": [
    "**Task**\n",
    "\n",
    "How would you leverage on these forecasts to better estimate the risk and adjust the burning cost ? "
   ]
  },
  {
   "cell_type": "markdown",
   "metadata": {},
   "source": [
    "To estimate the burning cost for next year we can calculate the expected burning cost as follows : "
   ]
  },
  {
   "cell_type": "code",
   "execution_count": 26,
   "metadata": {},
   "outputs": [
    {
     "name": "stdout",
     "output_type": "stream",
     "text": [
      "The expected burning cost for next year is : 6726.24 AUD\n"
     ]
    },
    {
     "data": {
      "application/javascript": "\n            setTimeout(function() {\n                var nbb_cell_id = 26;\n                var nbb_unformatted_code = \"# convert dataframe to dict\\nbc_dict = df_yearly_payouts.to_dict()['burning_cost']\\nprint(f\\\"The expected burning cost for next year is : {sum([bc_dict[k] * next_year_forecast[k] for k in bc_dict.keys()]):.2f} AUD\\\")\";\n                var nbb_formatted_code = \"# convert dataframe to dict\\nbc_dict = df_yearly_payouts.to_dict()[\\\"burning_cost\\\"]\\nprint(\\n    f\\\"The expected burning cost for next year is : {sum([bc_dict[k] * next_year_forecast[k] for k in bc_dict.keys()]):.2f} AUD\\\"\\n)\";\n                var nbb_cells = Jupyter.notebook.get_cells();\n                for (var i = 0; i < nbb_cells.length; ++i) {\n                    if (nbb_cells[i].input_prompt_number == nbb_cell_id) {\n                        if (nbb_cells[i].get_text() == nbb_unformatted_code) {\n                             nbb_cells[i].set_text(nbb_formatted_code);\n                        }\n                        break;\n                    }\n                }\n            }, 500);\n            ",
      "text/plain": [
       "<IPython.core.display.Javascript object>"
      ]
     },
     "metadata": {},
     "output_type": "display_data"
    }
   ],
   "source": [
    "# convert dataframe to dict\n",
    "bc_dict = df_yearly_payouts.to_dict()['burning_cost']\n",
    "print(f\"The expected burning cost for next year is : {sum([bc_dict[k] * next_year_forecast[k] for k in bc_dict.keys()]):.2f} AUD\")"
   ]
  },
  {
   "cell_type": "markdown",
   "metadata": {},
   "source": [
    "---\n",
    "# END OF SCRIPT"
   ]
  }
 ],
 "metadata": {
  "kernelspec": {
   "display_name": "dc",
   "language": "python",
   "name": "python3"
  },
  "language_info": {
   "codemirror_mode": {
    "name": "ipython",
    "version": 3
   },
   "file_extension": ".py",
   "mimetype": "text/x-python",
   "name": "python",
   "nbconvert_exporter": "python",
   "pygments_lexer": "ipython3",
   "version": "3.10.13"
  }
 },
 "nbformat": 4,
 "nbformat_minor": 2
}
